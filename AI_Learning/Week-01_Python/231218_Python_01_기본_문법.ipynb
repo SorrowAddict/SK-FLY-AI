{
  "nbformat": 4,
  "nbformat_minor": 0,
  "metadata": {
    "colab": {
      "provenance": [],
      "authorship_tag": "ABX9TyOC6O/28IS7x6omY49dcQHV",
      "include_colab_link": true
    },
    "kernelspec": {
      "name": "python3",
      "display_name": "Python 3"
    },
    "language_info": {
      "name": "python"
    }
  },
  "cells": [
    {
      "cell_type": "markdown",
      "metadata": {
        "id": "view-in-github",
        "colab_type": "text"
      },
      "source": [
        "<a href=\"https://colab.research.google.com/github/SorrowAddict/SK-FLY-AI/blob/main/AI_Learning/Week-01_Python/231218_Python_01_%EA%B8%B0%EB%B3%B8_%EB%AC%B8%EB%B2%95.ipynb\" target=\"_parent\"><img src=\"https://colab.research.google.com/assets/colab-badge.svg\" alt=\"Open In Colab\"/></a>"
      ]
    },
    {
      "cell_type": "markdown",
      "source": [
        "# Python의 변수 규칙\n",
        "## 1-2\n",
        "### 1-2-1\n",
        "\n",
        "문자, 숫자, 밑줄 등을 포함 할 수 있다.\\\n",
        "숫자는 제일 처음에 나올 수 없다.\\\n",
        "markdown 검색해서 guide 들어가보기. https://www.markdownguide.org/getting-started/"
      ],
      "metadata": {
        "id": "cNQvMp4ejCVO"
      }
    },
    {
      "cell_type": "code",
      "execution_count": 1,
      "metadata": {
        "id": "n9iiqGBAi3PF"
      },
      "outputs": [],
      "source": [
        "a = 1"
      ]
    },
    {
      "cell_type": "code",
      "source": [
        "b = 2"
      ],
      "metadata": {
        "id": "jyqsGF1DlUU2"
      },
      "execution_count": 2,
      "outputs": []
    },
    {
      "cell_type": "code",
      "source": [
        "2a = 1"
      ],
      "metadata": {
        "id": "j75dAOsslVJi",
        "colab": {
          "base_uri": "https://localhost:8080/",
          "height": 109
        },
        "outputId": "81db6070-e9bb-472c-836b-c5618573c66e"
      },
      "execution_count": 3,
      "outputs": [
        {
          "output_type": "error",
          "ename": "SyntaxError",
          "evalue": "invalid decimal literal (<ipython-input-3-91ca527aa26e>, line 1)",
          "traceback": [
            "\u001b[0;36m  File \u001b[0;32m\"<ipython-input-3-91ca527aa26e>\"\u001b[0;36m, line \u001b[0;32m1\u001b[0m\n\u001b[0;31m    2a = 1\u001b[0m\n\u001b[0m    ^\u001b[0m\n\u001b[0;31mSyntaxError\u001b[0m\u001b[0;31m:\u001b[0m invalid decimal literal\n"
          ]
        }
      ]
    },
    {
      "cell_type": "markdown",
      "source": [
        "대소문자를 구별한다."
      ],
      "metadata": {
        "id": "lKxerL7llkyC"
      }
    },
    {
      "cell_type": "code",
      "source": [
        "friend = 1\n",
        "Friend = 10"
      ],
      "metadata": {
        "id": "Z5CcgQZlli38"
      },
      "execution_count": 4,
      "outputs": []
    },
    {
      "cell_type": "code",
      "source": [
        "friend, Friend"
      ],
      "metadata": {
        "id": "4tVXs2Wuls-P",
        "colab": {
          "base_uri": "https://localhost:8080/"
        },
        "outputId": "fb57996a-5921-47f6-be3a-ed2ebf075b77"
      },
      "execution_count": 5,
      "outputs": [
        {
          "output_type": "execute_result",
          "data": {
            "text/plain": [
              "(1, 10)"
            ]
          },
          "metadata": {},
          "execution_count": 5
        }
      ]
    },
    {
      "cell_type": "markdown",
      "source": [
        "숫자형"
      ],
      "metadata": {
        "id": "bHKAa-drmJEs"
      }
    },
    {
      "cell_type": "code",
      "source": [
        "year = 2023\n",
        "month = 12\n",
        "print(year, month)"
      ],
      "metadata": {
        "id": "YkBKws-llv7x",
        "colab": {
          "base_uri": "https://localhost:8080/"
        },
        "outputId": "cf2891a2-da12-497d-ee48-5d628fa13a61"
      },
      "execution_count": 6,
      "outputs": [
        {
          "output_type": "stream",
          "name": "stdout",
          "text": [
            "2023 12\n"
          ]
        }
      ]
    },
    {
      "cell_type": "code",
      "source": [
        "type(year)  #자료의 타입을 알 수 있는 명령어"
      ],
      "metadata": {
        "id": "Mhik3L0_mQ5L",
        "colab": {
          "base_uri": "https://localhost:8080/"
        },
        "outputId": "82d4c9a9-b514-4a09-aff1-6ead4fdfdef2"
      },
      "execution_count": 7,
      "outputs": [
        {
          "output_type": "execute_result",
          "data": {
            "text/plain": [
              "int"
            ]
          },
          "metadata": {},
          "execution_count": 7
        }
      ]
    },
    {
      "cell_type": "markdown",
      "source": [
        "진법"
      ],
      "metadata": {
        "id": "-kawB9vEm3ma"
      }
    },
    {
      "cell_type": "code",
      "source": [
        "0o10 # 8진수"
      ],
      "metadata": {
        "id": "k2BqQ_wXmxFh",
        "colab": {
          "base_uri": "https://localhost:8080/"
        },
        "outputId": "cb9949c7-9878-4de2-996a-171ff08e0d22"
      },
      "execution_count": 8,
      "outputs": [
        {
          "output_type": "execute_result",
          "data": {
            "text/plain": [
              "8"
            ]
          },
          "metadata": {},
          "execution_count": 8
        }
      ]
    },
    {
      "cell_type": "code",
      "source": [
        "0b10 # 2진수"
      ],
      "metadata": {
        "id": "4oXQAprvm8wr",
        "colab": {
          "base_uri": "https://localhost:8080/"
        },
        "outputId": "6150b774-5433-4ef4-8700-740e1edd2512"
      },
      "execution_count": 9,
      "outputs": [
        {
          "output_type": "execute_result",
          "data": {
            "text/plain": [
              "2"
            ]
          },
          "metadata": {},
          "execution_count": 9
        }
      ]
    },
    {
      "cell_type": "code",
      "source": [
        "0x10 # 16진수"
      ],
      "metadata": {
        "id": "b0tM0iQEnEfQ",
        "colab": {
          "base_uri": "https://localhost:8080/"
        },
        "outputId": "c78be046-fd83-4d00-c7b6-3a8148f323c3"
      },
      "execution_count": 10,
      "outputs": [
        {
          "output_type": "execute_result",
          "data": {
            "text/plain": [
              "16"
            ]
          },
          "metadata": {},
          "execution_count": 10
        }
      ]
    },
    {
      "cell_type": "code",
      "source": [
        "oct(38), hex(38), bin(38)"
      ],
      "metadata": {
        "id": "AKFielWKnJHE",
        "colab": {
          "base_uri": "https://localhost:8080/"
        },
        "outputId": "4d60f6e2-7dec-4474-8bf7-6c455f884489"
      },
      "execution_count": 11,
      "outputs": [
        {
          "output_type": "execute_result",
          "data": {
            "text/plain": [
              "('0o46', '0x26', '0b100110')"
            ]
          },
          "metadata": {},
          "execution_count": 11
        }
      ]
    },
    {
      "cell_type": "code",
      "source": [
        "type(1), type(3.14)"
      ],
      "metadata": {
        "id": "jD_L-WienPUp",
        "colab": {
          "base_uri": "https://localhost:8080/"
        },
        "outputId": "077985fa-601f-4548-ab5a-4477a77f02d4"
      },
      "execution_count": 12,
      "outputs": [
        {
          "output_type": "execute_result",
          "data": {
            "text/plain": [
              "(int, float)"
            ]
          },
          "metadata": {},
          "execution_count": 12
        }
      ]
    },
    {
      "cell_type": "code",
      "source": [
        "# 원의 넓이를 구하기\n",
        "r = 2\n",
        "circle_area = 3.14 * (r ** 2)\n",
        "print(circle_area)"
      ],
      "metadata": {
        "id": "O7UJlCqOnl_O",
        "colab": {
          "base_uri": "https://localhost:8080/"
        },
        "outputId": "966cbabf-8f65-480e-a8aa-96210d7adac7"
      },
      "execution_count": 13,
      "outputs": [
        {
          "output_type": "stream",
          "name": "stdout",
          "text": [
            "12.56\n"
          ]
        }
      ]
    },
    {
      "cell_type": "code",
      "source": [
        "# 삼각형의 면적 구하기\n",
        "x = 3\n",
        "y = 4\n",
        "triangle_area = x * y / 2\n",
        "print(triangle_area)"
      ],
      "metadata": {
        "id": "kM_A01uun_aJ",
        "colab": {
          "base_uri": "https://localhost:8080/"
        },
        "outputId": "596e3cb8-0a36-4b84-a430-efd7a5e61492"
      },
      "execution_count": 14,
      "outputs": [
        {
          "output_type": "stream",
          "name": "stdout",
          "text": [
            "6.0\n"
          ]
        }
      ]
    },
    {
      "cell_type": "code",
      "source": [
        "# 문자형 실습\n",
        "\n",
        "\"Hello Python\""
      ],
      "metadata": {
        "id": "_nF_EWTnoXmX",
        "colab": {
          "base_uri": "https://localhost:8080/",
          "height": 35
        },
        "outputId": "32aca20d-b9b0-406a-d504-2befa2c6eb38"
      },
      "execution_count": 15,
      "outputs": [
        {
          "output_type": "execute_result",
          "data": {
            "text/plain": [
              "'Hello Python'"
            ],
            "application/vnd.google.colaboratory.intrinsic+json": {
              "type": "string"
            }
          },
          "metadata": {},
          "execution_count": 15
        }
      ]
    },
    {
      "cell_type": "code",
      "source": [
        "\"Welcome to 'Pyhton World'\""
      ],
      "metadata": {
        "id": "ILVgMh97oj2s",
        "colab": {
          "base_uri": "https://localhost:8080/",
          "height": 35
        },
        "outputId": "62cec6c2-0618-4864-a0e4-eee55b61abfb"
      },
      "execution_count": 16,
      "outputs": [
        {
          "output_type": "execute_result",
          "data": {
            "text/plain": [
              "\"Welcome to 'Pyhton World'\""
            ],
            "application/vnd.google.colaboratory.intrinsic+json": {
              "type": "string"
            }
          },
          "metadata": {},
          "execution_count": 16
        }
      ]
    },
    {
      "cell_type": "code",
      "source": [
        "long_text = '''\n",
        "항상 태양을 바라 보아라\n",
        "그리하면 너는 그림자를 볼 수 없을 것이다.\n",
        "\n",
        "- 헬렌켈러\n",
        "'''\n",
        "\n",
        "print(long_text)"
      ],
      "metadata": {
        "id": "-oMu7Vo2o6HM",
        "colab": {
          "base_uri": "https://localhost:8080/"
        },
        "outputId": "d1e1e8bb-ddcd-4a65-ea3e-2747e1e0492d"
      },
      "execution_count": 17,
      "outputs": [
        {
          "output_type": "stream",
          "name": "stdout",
          "text": [
            "\n",
            "항상 태양을 바라 보아라\n",
            "그리하면 너는 그림자를 볼 수 없을 것이다.\n",
            "\n",
            "- 헬렌켈러\n",
            "\n"
          ]
        }
      ]
    },
    {
      "cell_type": "code",
      "source": [
        "# 이스케이프 문자\n",
        "\n",
        "print('\\t뉴진스\\n')\n",
        "print('\\t다니엘\\t해린\\t민지')"
      ],
      "metadata": {
        "id": "O90B1wKopAmx",
        "colab": {
          "base_uri": "https://localhost:8080/"
        },
        "outputId": "f4aa6873-9a16-4140-c074-42dab74ac4d9"
      },
      "execution_count": 18,
      "outputs": [
        {
          "output_type": "stream",
          "name": "stdout",
          "text": [
            "\t뉴진스\n",
            "\n",
            "\t다니엘\t해린\t민지\n"
          ]
        }
      ]
    },
    {
      "cell_type": "code",
      "source": [
        "'py' 'thon'     #아무것도 안할 때는 덧셈으로 간주함"
      ],
      "metadata": {
        "id": "5ceZv0P8pvUN",
        "colab": {
          "base_uri": "https://localhost:8080/",
          "height": 35
        },
        "outputId": "56fa5d89-d0fb-433f-9afa-27c4f6baed9d"
      },
      "execution_count": 19,
      "outputs": [
        {
          "output_type": "execute_result",
          "data": {
            "text/plain": [
              "'python'"
            ],
            "application/vnd.google.colaboratory.intrinsic+json": {
              "type": "string"
            }
          },
          "metadata": {},
          "execution_count": 19
        }
      ]
    },
    {
      "cell_type": "code",
      "source": [
        "'py' + 'thon'"
      ],
      "metadata": {
        "id": "5tc-O9vHp9cD",
        "colab": {
          "base_uri": "https://localhost:8080/",
          "height": 35
        },
        "outputId": "f67a53c8-5614-43b9-9a7c-c9d12a26760f"
      },
      "execution_count": 20,
      "outputs": [
        {
          "output_type": "execute_result",
          "data": {
            "text/plain": [
              "'python'"
            ],
            "application/vnd.google.colaboratory.intrinsic+json": {
              "type": "string"
            }
          },
          "metadata": {},
          "execution_count": 20
        }
      ]
    },
    {
      "cell_type": "code",
      "source": [
        "'py' * 3"
      ],
      "metadata": {
        "id": "RsOCFc1VqGU5",
        "colab": {
          "base_uri": "https://localhost:8080/",
          "height": 35
        },
        "outputId": "56a6fa22-7d74-4e63-99f2-a01b1a34be00"
      },
      "execution_count": 21,
      "outputs": [
        {
          "output_type": "execute_result",
          "data": {
            "text/plain": [
              "'pypypy'"
            ],
            "application/vnd.google.colaboratory.intrinsic+json": {
              "type": "string"
            }
          },
          "metadata": {},
          "execution_count": 21
        }
      ]
    },
    {
      "cell_type": "code",
      "source": [
        "print('-' * 100)"
      ],
      "metadata": {
        "id": "e3J2ZW8mqIFn",
        "colab": {
          "base_uri": "https://localhost:8080/"
        },
        "outputId": "207516f7-59e4-4d6e-ac2d-d0813d9de29b"
      },
      "execution_count": 22,
      "outputs": [
        {
          "output_type": "stream",
          "name": "stdout",
          "text": [
            "----------------------------------------------------------------------------------------------------\n"
          ]
        }
      ]
    },
    {
      "cell_type": "code",
      "source": [
        "a = 'Python'\n",
        "a"
      ],
      "metadata": {
        "id": "mFVg5ryrqPvE",
        "colab": {
          "base_uri": "https://localhost:8080/",
          "height": 35
        },
        "outputId": "7bc9f1f7-24d8-4a5d-d24e-99aa72f8d6d0"
      },
      "execution_count": 23,
      "outputs": [
        {
          "output_type": "execute_result",
          "data": {
            "text/plain": [
              "'Python'"
            ],
            "application/vnd.google.colaboratory.intrinsic+json": {
              "type": "string"
            }
          },
          "metadata": {},
          "execution_count": 23
        }
      ]
    },
    {
      "cell_type": "code",
      "source": [
        "a[0]"
      ],
      "metadata": {
        "id": "SIVYs4qPqzMs",
        "colab": {
          "base_uri": "https://localhost:8080/",
          "height": 35
        },
        "outputId": "4a124e50-0517-4241-ac76-b0292d2dbec9"
      },
      "execution_count": 24,
      "outputs": [
        {
          "output_type": "execute_result",
          "data": {
            "text/plain": [
              "'P'"
            ],
            "application/vnd.google.colaboratory.intrinsic+json": {
              "type": "string"
            }
          },
          "metadata": {},
          "execution_count": 24
        }
      ]
    },
    {
      "cell_type": "code",
      "source": [
        "a[0] = 'J'  #읽기 전용이라 수정은 불가함"
      ],
      "metadata": {
        "id": "TZOHEQAWq0UE",
        "colab": {
          "base_uri": "https://localhost:8080/",
          "height": 145
        },
        "outputId": "98b56b33-fdd8-4aea-b6c6-60f957bee321"
      },
      "execution_count": 26,
      "outputs": [
        {
          "output_type": "error",
          "ename": "TypeError",
          "evalue": "'str' object does not support item assignment",
          "traceback": [
            "\u001b[0;31m---------------------------------------------------------------------------\u001b[0m",
            "\u001b[0;31mTypeError\u001b[0m                                 Traceback (most recent call last)",
            "\u001b[0;32m<ipython-input-26-ebb38c82b4ec>\u001b[0m in \u001b[0;36m<cell line: 1>\u001b[0;34m()\u001b[0m\n\u001b[0;32m----> 1\u001b[0;31m \u001b[0ma\u001b[0m\u001b[0;34m[\u001b[0m\u001b[0;36m0\u001b[0m\u001b[0;34m]\u001b[0m \u001b[0;34m=\u001b[0m \u001b[0;34m'J'\u001b[0m  \u001b[0;31m#읽기 전용이라 수정은 불가함\u001b[0m\u001b[0;34m\u001b[0m\u001b[0;34m\u001b[0m\u001b[0m\n\u001b[0m",
            "\u001b[0;31mTypeError\u001b[0m: 'str' object does not support item assignment"
          ]
        }
      ]
    },
    {
      "cell_type": "code",
      "source": [
        "# Slice -> 데이터 쪼개기\n",
        "a = 'Welcome to Python World'"
      ],
      "metadata": {
        "id": "otoOsgy8q8aV"
      },
      "execution_count": 27,
      "outputs": []
    },
    {
      "cell_type": "code",
      "source": [
        "a[0:7]"
      ],
      "metadata": {
        "id": "1CKBu3smrEfb",
        "colab": {
          "base_uri": "https://localhost:8080/",
          "height": 35
        },
        "outputId": "006fa48d-41ec-4295-ef9c-ffecbf4e1521"
      },
      "execution_count": 28,
      "outputs": [
        {
          "output_type": "execute_result",
          "data": {
            "text/plain": [
              "'Welcome'"
            ],
            "application/vnd.google.colaboratory.intrinsic+json": {
              "type": "string"
            }
          },
          "metadata": {},
          "execution_count": 28
        }
      ]
    },
    {
      "cell_type": "code",
      "source": [
        "a[:7]   #처음부터 7번까지"
      ],
      "metadata": {
        "id": "fMLiPX_nraI7",
        "colab": {
          "base_uri": "https://localhost:8080/",
          "height": 35
        },
        "outputId": "b87b5de3-7bfe-42fd-89ba-5096aad031b0"
      },
      "execution_count": 29,
      "outputs": [
        {
          "output_type": "execute_result",
          "data": {
            "text/plain": [
              "'Welcome'"
            ],
            "application/vnd.google.colaboratory.intrinsic+json": {
              "type": "string"
            }
          },
          "metadata": {},
          "execution_count": 29
        }
      ]
    },
    {
      "cell_type": "code",
      "source": [
        "a[:]    #처음부터 끝까지"
      ],
      "metadata": {
        "id": "8yajer7trsGr",
        "colab": {
          "base_uri": "https://localhost:8080/",
          "height": 35
        },
        "outputId": "474f3827-b1c0-43a9-b557-079fd1433e05"
      },
      "execution_count": 30,
      "outputs": [
        {
          "output_type": "execute_result",
          "data": {
            "text/plain": [
              "'Welcome to Python World'"
            ],
            "application/vnd.google.colaboratory.intrinsic+json": {
              "type": "string"
            }
          },
          "metadata": {},
          "execution_count": 30
        }
      ]
    },
    {
      "cell_type": "code",
      "source": [
        "a[7:]   #7부터 끝까지"
      ],
      "metadata": {
        "id": "CTWP0oH_rvWx",
        "colab": {
          "base_uri": "https://localhost:8080/",
          "height": 35
        },
        "outputId": "83d4437c-158b-4d3c-bd64-44e3273c308f"
      },
      "execution_count": 31,
      "outputs": [
        {
          "output_type": "execute_result",
          "data": {
            "text/plain": [
              "' to Python World'"
            ],
            "application/vnd.google.colaboratory.intrinsic+json": {
              "type": "string"
            }
          },
          "metadata": {},
          "execution_count": 31
        }
      ]
    },
    {
      "cell_type": "code",
      "source": [
        "a[0:18:2]   #0번째부터 18번째까지 2씩 증가"
      ],
      "metadata": {
        "id": "JBm-0hwIr1MS",
        "colab": {
          "base_uri": "https://localhost:8080/",
          "height": 35
        },
        "outputId": "d71566e5-8d05-45fc-b191-c2d93354ec38"
      },
      "execution_count": 32,
      "outputs": [
        {
          "output_type": "execute_result",
          "data": {
            "text/plain": [
              "'Wloet yhn'"
            ],
            "application/vnd.google.colaboratory.intrinsic+json": {
              "type": "string"
            }
          },
          "metadata": {},
          "execution_count": 32
        }
      ]
    },
    {
      "cell_type": "code",
      "source": [],
      "metadata": {
        "id": "2_a44vEesO3k"
      },
      "execution_count": 32,
      "outputs": []
    }
  ]
}