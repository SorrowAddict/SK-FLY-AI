{
  "nbformat": 4,
  "nbformat_minor": 0,
  "metadata": {
    "colab": {
      "provenance": [],
      "authorship_tag": "ABX9TyPxI2Qwpn19hXda6wkrWttw",
      "include_colab_link": true
    },
    "kernelspec": {
      "name": "python3",
      "display_name": "Python 3"
    },
    "language_info": {
      "name": "python"
    }
  },
  "cells": [
    {
      "cell_type": "markdown",
      "metadata": {
        "id": "view-in-github",
        "colab_type": "text"
      },
      "source": [
        "<a href=\"https://colab.research.google.com/github/SorrowAddict/SK-FLY-AI/blob/main/AI_Learning/Week-01_Python/231218_Python_02_%EB%A6%AC%EC%8A%A4%ED%8A%B8.ipynb\" target=\"_parent\"><img src=\"https://colab.research.google.com/assets/colab-badge.svg\" alt=\"Open In Colab\"/></a>"
      ]
    },
    {
      "cell_type": "code",
      "execution_count": 1,
      "metadata": {
        "id": "v2ZXaXrvyzRY",
        "colab": {
          "base_uri": "https://localhost:8080/"
        },
        "outputId": "07556637-4fd3-4ac6-ff52-489cf4208225"
      },
      "outputs": [
        {
          "output_type": "execute_result",
          "data": {
            "text/plain": [
              "['red', 'green', 'gold']"
            ]
          },
          "metadata": {},
          "execution_count": 1
        }
      ],
      "source": [
        "# List\n",
        "\n",
        "colors = ['red','green','gold']\n",
        "colors"
      ]
    },
    {
      "cell_type": "code",
      "source": [
        "type(colors)"
      ],
      "metadata": {
        "id": "SD7hgkMxza6P",
        "colab": {
          "base_uri": "https://localhost:8080/"
        },
        "outputId": "144a6f80-797d-4ccd-a979-f44b9079457f"
      },
      "execution_count": 2,
      "outputs": [
        {
          "output_type": "execute_result",
          "data": {
            "text/plain": [
              "list"
            ]
          },
          "metadata": {},
          "execution_count": 2
        }
      ]
    },
    {
      "cell_type": "code",
      "source": [
        "colors.append('blue')\n",
        "colors"
      ],
      "metadata": {
        "id": "GvYGKs-qzgbv",
        "colab": {
          "base_uri": "https://localhost:8080/"
        },
        "outputId": "d6b63088-2252-4a3d-e81c-b628577fb95c"
      },
      "execution_count": 3,
      "outputs": [
        {
          "output_type": "execute_result",
          "data": {
            "text/plain": [
              "['red', 'green', 'gold', 'blue']"
            ]
          },
          "metadata": {},
          "execution_count": 3
        }
      ]
    },
    {
      "cell_type": "code",
      "source": [
        "colors.insert(1,'black')\n",
        "colors"
      ],
      "metadata": {
        "id": "Gipn-CCKzrT5",
        "colab": {
          "base_uri": "https://localhost:8080/"
        },
        "outputId": "d49f55cd-933d-4588-9057-e2b8308e0a80"
      },
      "execution_count": 4,
      "outputs": [
        {
          "output_type": "execute_result",
          "data": {
            "text/plain": [
              "['red', 'black', 'green', 'gold', 'blue']"
            ]
          },
          "metadata": {},
          "execution_count": 4
        }
      ]
    },
    {
      "cell_type": "code",
      "source": [
        "colors.extend(['white','gray'])\n",
        "colors"
      ],
      "metadata": {
        "id": "B2Ya2CdHz3f8",
        "colab": {
          "base_uri": "https://localhost:8080/"
        },
        "outputId": "82d08f7c-03b5-4331-c66c-cf97fe490dcc"
      },
      "execution_count": 5,
      "outputs": [
        {
          "output_type": "execute_result",
          "data": {
            "text/plain": [
              "['red', 'black', 'green', 'gold', 'blue', 'white', 'gray']"
            ]
          },
          "metadata": {},
          "execution_count": 5
        }
      ]
    },
    {
      "cell_type": "code",
      "source": [
        "colors += ['red']\n",
        "colors"
      ],
      "metadata": {
        "id": "OnpztiLH0Fpw",
        "colab": {
          "base_uri": "https://localhost:8080/"
        },
        "outputId": "770ce341-b35a-4fa4-cdab-92e9fa17368a"
      },
      "execution_count": 6,
      "outputs": [
        {
          "output_type": "execute_result",
          "data": {
            "text/plain": [
              "['red', 'black', 'green', 'gold', 'blue', 'white', 'gray', 'red']"
            ]
          },
          "metadata": {},
          "execution_count": 6
        }
      ]
    },
    {
      "cell_type": "code",
      "source": [
        "colors += 'red'\n",
        "colors"
      ],
      "metadata": {
        "id": "05x2hDaK0Rm8",
        "colab": {
          "base_uri": "https://localhost:8080/"
        },
        "outputId": "60deaef7-811b-4aa0-a18f-d155f92c9ac4"
      },
      "execution_count": 7,
      "outputs": [
        {
          "output_type": "execute_result",
          "data": {
            "text/plain": [
              "['red',\n",
              " 'black',\n",
              " 'green',\n",
              " 'gold',\n",
              " 'blue',\n",
              " 'white',\n",
              " 'gray',\n",
              " 'red',\n",
              " 'r',\n",
              " 'e',\n",
              " 'd']"
            ]
          },
          "metadata": {},
          "execution_count": 7
        }
      ]
    },
    {
      "cell_type": "code",
      "source": [
        "colors.index('red')     #'red' 찾기"
      ],
      "metadata": {
        "id": "nxokMNM60n0j",
        "colab": {
          "base_uri": "https://localhost:8080/"
        },
        "outputId": "aef4f7a0-b183-4ec5-d0b0-e5adda9f1abd"
      },
      "execution_count": 8,
      "outputs": [
        {
          "output_type": "execute_result",
          "data": {
            "text/plain": [
              "0"
            ]
          },
          "metadata": {},
          "execution_count": 8
        }
      ]
    },
    {
      "cell_type": "code",
      "source": [
        "colors.index('red',1)   #1번째 레이블부터 'red'를 찾기"
      ],
      "metadata": {
        "id": "xp4m24Xo0tai",
        "colab": {
          "base_uri": "https://localhost:8080/"
        },
        "outputId": "93928a97-0fd9-4b1f-a699-936903619d57"
      },
      "execution_count": 9,
      "outputs": [
        {
          "output_type": "execute_result",
          "data": {
            "text/plain": [
              "7"
            ]
          },
          "metadata": {},
          "execution_count": 9
        }
      ]
    },
    {
      "cell_type": "markdown",
      "source": [
        "## Stack 구조\n",
        "\n",
        "밀폐된 자료에 위에서 아래로 쌓고 아래에서 위로 꺼냄\\\n",
        "이러한 구조를 LIFO (Last In First Out)이라고 한다.\\\n",
        "파일을 뺴는 것 POP(), 파일을 넣는 것 PUSH()\n",
        "\n",
        "## 큐 구조\n",
        "\n",
        "옆으로 뉘인 원통형에 한쪽에서 한쪽으로 빼냄\\\n",
        "반대의 구조는 FIFO (First In First Out)이라고 한다.\n"
      ],
      "metadata": {
        "id": "do_7o8RW1LQq"
      }
    },
    {
      "cell_type": "code",
      "source": [
        "colors.pop()"
      ],
      "metadata": {
        "id": "yj2nuj-L05zB",
        "colab": {
          "base_uri": "https://localhost:8080/",
          "height": 35
        },
        "outputId": "928f216a-b1a5-4fbd-f829-ac92ecd799b4"
      },
      "execution_count": 10,
      "outputs": [
        {
          "output_type": "execute_result",
          "data": {
            "text/plain": [
              "'d'"
            ],
            "application/vnd.google.colaboratory.intrinsic+json": {
              "type": "string"
            }
          },
          "metadata": {},
          "execution_count": 10
        }
      ]
    },
    {
      "cell_type": "code",
      "source": [
        "colors.pop()"
      ],
      "metadata": {
        "id": "bqulM9MU2czN",
        "colab": {
          "base_uri": "https://localhost:8080/",
          "height": 35
        },
        "outputId": "83f87bcb-9e0c-42d2-f73b-43089fa61a24"
      },
      "execution_count": 11,
      "outputs": [
        {
          "output_type": "execute_result",
          "data": {
            "text/plain": [
              "'e'"
            ],
            "application/vnd.google.colaboratory.intrinsic+json": {
              "type": "string"
            }
          },
          "metadata": {},
          "execution_count": 11
        }
      ]
    },
    {
      "cell_type": "code",
      "source": [
        "colors.pop()"
      ],
      "metadata": {
        "id": "631_M_RL2fY6",
        "colab": {
          "base_uri": "https://localhost:8080/",
          "height": 35
        },
        "outputId": "34731e44-9d6e-45a9-e7f5-d46854f87160"
      },
      "execution_count": 12,
      "outputs": [
        {
          "output_type": "execute_result",
          "data": {
            "text/plain": [
              "'r'"
            ],
            "application/vnd.google.colaboratory.intrinsic+json": {
              "type": "string"
            }
          },
          "metadata": {},
          "execution_count": 12
        }
      ]
    },
    {
      "cell_type": "code",
      "source": [
        "colors.count('red')"
      ],
      "metadata": {
        "id": "b_bF3o1V2gw_",
        "colab": {
          "base_uri": "https://localhost:8080/"
        },
        "outputId": "7540b3c1-ff26-4111-8af9-9b629ab26405"
      },
      "execution_count": 13,
      "outputs": [
        {
          "output_type": "execute_result",
          "data": {
            "text/plain": [
              "2"
            ]
          },
          "metadata": {},
          "execution_count": 13
        }
      ]
    },
    {
      "cell_type": "code",
      "source": [
        "colors"
      ],
      "metadata": {
        "id": "mHzQ_tWq2reI",
        "colab": {
          "base_uri": "https://localhost:8080/"
        },
        "outputId": "f19c2807-392e-48ce-ff6c-73da4675b151"
      },
      "execution_count": 14,
      "outputs": [
        {
          "output_type": "execute_result",
          "data": {
            "text/plain": [
              "['red', 'black', 'green', 'gold', 'blue', 'white', 'gray', 'red']"
            ]
          },
          "metadata": {},
          "execution_count": 14
        }
      ]
    },
    {
      "cell_type": "code",
      "source": [
        "colors.remove('gold')\n",
        "colors"
      ],
      "metadata": {
        "id": "GjpkDYj-280E",
        "colab": {
          "base_uri": "https://localhost:8080/"
        },
        "outputId": "b9d33448-a8a6-4b4e-cf90-94e3bc629620"
      },
      "execution_count": 15,
      "outputs": [
        {
          "output_type": "execute_result",
          "data": {
            "text/plain": [
              "['red', 'black', 'green', 'blue', 'white', 'gray', 'red']"
            ]
          },
          "metadata": {},
          "execution_count": 15
        }
      ]
    },
    {
      "cell_type": "code",
      "source": [
        "colors.sort()       #정렬\n",
        "colors"
      ],
      "metadata": {
        "id": "IHzPsQCj2-5i",
        "colab": {
          "base_uri": "https://localhost:8080/"
        },
        "outputId": "935e81ca-a408-49bf-ed46-30b73bf62513"
      },
      "execution_count": 16,
      "outputs": [
        {
          "output_type": "execute_result",
          "data": {
            "text/plain": [
              "['black', 'blue', 'gray', 'green', 'red', 'red', 'white']"
            ]
          },
          "metadata": {},
          "execution_count": 16
        }
      ]
    },
    {
      "cell_type": "code",
      "source": [
        "colors.reverse()    #역순정렬\n",
        "colors"
      ],
      "metadata": {
        "id": "3-uUcHkg3KzW",
        "colab": {
          "base_uri": "https://localhost:8080/"
        },
        "outputId": "3631d87b-5c90-43c8-889a-7b3cc2a1ba26"
      },
      "execution_count": 17,
      "outputs": [
        {
          "output_type": "execute_result",
          "data": {
            "text/plain": [
              "['white', 'red', 'red', 'green', 'gray', 'blue', 'black']"
            ]
          },
          "metadata": {},
          "execution_count": 17
        }
      ]
    },
    {
      "cell_type": "code",
      "source": [
        "# 세트(Set)\n",
        "\n",
        "a = {1,2,3}\n",
        "b = {3,4,5}"
      ],
      "metadata": {
        "id": "potZn8xS3nUD"
      },
      "execution_count": 18,
      "outputs": []
    },
    {
      "cell_type": "code",
      "source": [
        "# set를 통해서 합집합 혹은 교집합을 구할 수 있다.\n",
        "a.union(b)      #합집합 -> union"
      ],
      "metadata": {
        "id": "N6dcP_y3359P",
        "colab": {
          "base_uri": "https://localhost:8080/"
        },
        "outputId": "56e68542-b7ef-4e08-d545-ca257d423091"
      },
      "execution_count": 19,
      "outputs": [
        {
          "output_type": "execute_result",
          "data": {
            "text/plain": [
              "{1, 2, 3, 4, 5}"
            ]
          },
          "metadata": {},
          "execution_count": 19
        }
      ]
    },
    {
      "cell_type": "code",
      "source": [
        "a.intersection(b)   #교집합 -> intersection"
      ],
      "metadata": {
        "id": "RkMfcDOw4WK-",
        "colab": {
          "base_uri": "https://localhost:8080/"
        },
        "outputId": "a7929378-22d0-4d02-d46b-2168b3875f86"
      },
      "execution_count": 20,
      "outputs": [
        {
          "output_type": "execute_result",
          "data": {
            "text/plain": [
              "{3}"
            ]
          },
          "metadata": {},
          "execution_count": 20
        }
      ]
    },
    {
      "cell_type": "code",
      "source": [
        "a | b       #합집합"
      ],
      "metadata": {
        "id": "4IVq4EmL4kks",
        "colab": {
          "base_uri": "https://localhost:8080/"
        },
        "outputId": "df8f69ea-cb2f-448f-a6ed-a57291a830c0"
      },
      "execution_count": 21,
      "outputs": [
        {
          "output_type": "execute_result",
          "data": {
            "text/plain": [
              "{1, 2, 3, 4, 5}"
            ]
          },
          "metadata": {},
          "execution_count": 21
        }
      ]
    },
    {
      "cell_type": "code",
      "source": [
        "a & b       #교집합"
      ],
      "metadata": {
        "id": "iEa0UJFq4wbg",
        "colab": {
          "base_uri": "https://localhost:8080/"
        },
        "outputId": "250d673c-affe-4730-8c64-7e8de3705471"
      },
      "execution_count": 22,
      "outputs": [
        {
          "output_type": "execute_result",
          "data": {
            "text/plain": [
              "{3}"
            ]
          },
          "metadata": {},
          "execution_count": 22
        }
      ]
    },
    {
      "cell_type": "code",
      "source": [
        "a - b       #차집합"
      ],
      "metadata": {
        "id": "BMzXlvRD4yC4",
        "colab": {
          "base_uri": "https://localhost:8080/"
        },
        "outputId": "43cec78a-4276-4028-9a4e-ef7f4a11f88b"
      },
      "execution_count": 23,
      "outputs": [
        {
          "output_type": "execute_result",
          "data": {
            "text/plain": [
              "{1, 2}"
            ]
          },
          "metadata": {},
          "execution_count": 23
        }
      ]
    },
    {
      "cell_type": "code",
      "source": [
        "# 튜플(Tuple)\n",
        "\n",
        "t = (1,2,3)"
      ],
      "metadata": {
        "id": "_oH5jB1D47Ri"
      },
      "execution_count": 24,
      "outputs": []
    },
    {
      "cell_type": "code",
      "source": [
        "a = 10      #보통의 구조에서 스와핑을 하는 법\n",
        "b = 20\n",
        "\n",
        "c = a\n",
        "a = b\n",
        "b = c\n",
        "print(a, b)"
      ],
      "metadata": {
        "id": "Pg9onj0C5OrW",
        "colab": {
          "base_uri": "https://localhost:8080/"
        },
        "outputId": "0d845255-4797-44f8-ad92-37c3b08095b8"
      },
      "execution_count": 25,
      "outputs": [
        {
          "output_type": "stream",
          "name": "stdout",
          "text": [
            "20 10\n"
          ]
        }
      ]
    },
    {
      "cell_type": "code",
      "source": [
        "(a, b) = (b, a)\n",
        "print(a, b)"
      ],
      "metadata": {
        "id": "PR2NLbOz5jO-",
        "colab": {
          "base_uri": "https://localhost:8080/"
        },
        "outputId": "80ef5c77-a46b-47a9-9c14-8a42bc198253"
      },
      "execution_count": 26,
      "outputs": [
        {
          "output_type": "stream",
          "name": "stdout",
          "text": [
            "10 20\n"
          ]
        }
      ]
    },
    {
      "cell_type": "code",
      "source": [
        "l = list((1,2,3))   #자료 구조의 컨버팅\n",
        "type(l)"
      ],
      "metadata": {
        "id": "74KPFkWO5uxy",
        "colab": {
          "base_uri": "https://localhost:8080/"
        },
        "outputId": "ada2e341-f91f-473d-fb38-a777686d2bf9"
      },
      "execution_count": 27,
      "outputs": [
        {
          "output_type": "execute_result",
          "data": {
            "text/plain": [
              "list"
            ]
          },
          "metadata": {},
          "execution_count": 27
        }
      ]
    },
    {
      "cell_type": "code",
      "source": [
        "s = set(l)\n",
        "type(s)"
      ],
      "metadata": {
        "id": "W3Gal3HU6D1H",
        "colab": {
          "base_uri": "https://localhost:8080/"
        },
        "outputId": "c3711007-cfc6-437e-9abc-39c46906accd"
      },
      "execution_count": 28,
      "outputs": [
        {
          "output_type": "execute_result",
          "data": {
            "text/plain": [
              "set"
            ]
          },
          "metadata": {},
          "execution_count": 28
        }
      ]
    },
    {
      "cell_type": "markdown",
      "source": [
        "## 자주 보게 될 자료형 포맷\n",
        "\n",
        "csv, JSON, XML, YAML"
      ],
      "metadata": {
        "id": "6xkOA47-6NP9"
      }
    },
    {
      "cell_type": "code",
      "source": [
        "# 사전 Dict (JSON 타입과 일치하는 구조)\n",
        "d = dict(a=1,b=2,c=3)\n",
        "d"
      ],
      "metadata": {
        "id": "9v2riKuE99Dy",
        "colab": {
          "base_uri": "https://localhost:8080/"
        },
        "outputId": "653e2567-c7bd-447a-bf34-5aa37caacceb"
      },
      "execution_count": 29,
      "outputs": [
        {
          "output_type": "execute_result",
          "data": {
            "text/plain": [
              "{'a': 1, 'b': 2, 'c': 3}"
            ]
          },
          "metadata": {},
          "execution_count": 29
        }
      ]
    },
    {
      "cell_type": "code",
      "source": [
        "color = {'apple':'red','banana':'yellow'}\n",
        "color"
      ],
      "metadata": {
        "id": "i4lQWuDMBd3v",
        "colab": {
          "base_uri": "https://localhost:8080/"
        },
        "outputId": "b4877cf2-f45c-4fce-b0e8-697ec38c416f"
      },
      "execution_count": 30,
      "outputs": [
        {
          "output_type": "execute_result",
          "data": {
            "text/plain": [
              "{'apple': 'red', 'banana': 'yellow'}"
            ]
          },
          "metadata": {},
          "execution_count": 30
        }
      ]
    },
    {
      "cell_type": "code",
      "source": [
        "color['apple']"
      ],
      "metadata": {
        "id": "Llc51WpNBrCl",
        "colab": {
          "base_uri": "https://localhost:8080/",
          "height": 35
        },
        "outputId": "3ec47141-27a6-4e9a-85f7-33a473dab002"
      },
      "execution_count": 31,
      "outputs": [
        {
          "output_type": "execute_result",
          "data": {
            "text/plain": [
              "'red'"
            ],
            "application/vnd.google.colaboratory.intrinsic+json": {
              "type": "string"
            }
          },
          "metadata": {},
          "execution_count": 31
        }
      ]
    },
    {
      "cell_type": "code",
      "source": [
        "color['apple'] = 'green'        #키를 뽑아내는 것을 파싱, 뽑아내는 객체를 파서 라고 한다.\n",
        "color"
      ],
      "metadata": {
        "id": "ejwisLfuB2KD",
        "colab": {
          "base_uri": "https://localhost:8080/"
        },
        "outputId": "85f7ba88-d64b-4470-c81b-697357b47f27"
      },
      "execution_count": 32,
      "outputs": [
        {
          "output_type": "execute_result",
          "data": {
            "text/plain": [
              "{'apple': 'green', 'banana': 'yellow'}"
            ]
          },
          "metadata": {},
          "execution_count": 32
        }
      ]
    },
    {
      "cell_type": "code",
      "source": [
        "color['cherry'] = 'red'         #기존에 항목이 있으면 변경, 항목이 없으면 추가됨.\n",
        "color"
      ],
      "metadata": {
        "id": "LurBxpEpB-Es",
        "colab": {
          "base_uri": "https://localhost:8080/"
        },
        "outputId": "9fb8c3cb-d705-4d36-c7de-8917a739c0ed"
      },
      "execution_count": 33,
      "outputs": [
        {
          "output_type": "execute_result",
          "data": {
            "text/plain": [
              "{'apple': 'green', 'banana': 'yellow', 'cherry': 'red'}"
            ]
          },
          "metadata": {},
          "execution_count": 33
        }
      ]
    },
    {
      "cell_type": "code",
      "source": [
        "# 다른 언어의 for문 -> for(i=0;i<100;i++)\n",
        "for i in color:\n",
        "    print(i)"
      ],
      "metadata": {
        "id": "rm-SLE-eCSWw",
        "colab": {
          "base_uri": "https://localhost:8080/"
        },
        "outputId": "cd010108-c649-4d0d-adce-48993dcf8d9e"
      },
      "execution_count": 34,
      "outputs": [
        {
          "output_type": "stream",
          "name": "stdout",
          "text": [
            "apple\n",
            "banana\n",
            "cherry\n"
          ]
        }
      ]
    },
    {
      "cell_type": "code",
      "source": [
        "for k, v in color.items():\n",
        "    print(k, v)"
      ],
      "metadata": {
        "id": "JT5B38HSCs1C",
        "colab": {
          "base_uri": "https://localhost:8080/"
        },
        "outputId": "e899d7a7-012f-4216-da97-48f72e7aee2e"
      },
      "execution_count": 35,
      "outputs": [
        {
          "output_type": "stream",
          "name": "stdout",
          "text": [
            "apple green\n",
            "banana yellow\n",
            "cherry red\n"
          ]
        }
      ]
    },
    {
      "cell_type": "code",
      "source": [
        "for k in color.keys():\n",
        "    print(k)\n",
        "\n",
        "for v in color.values():\n",
        "    print(v)"
      ],
      "metadata": {
        "id": "-Zi7JALrD0md",
        "colab": {
          "base_uri": "https://localhost:8080/"
        },
        "outputId": "74f97fbf-3caa-41da-a7b2-1d58164e41c9"
      },
      "execution_count": 36,
      "outputs": [
        {
          "output_type": "stream",
          "name": "stdout",
          "text": [
            "apple\n",
            "banana\n",
            "cherry\n",
            "green\n",
            "yellow\n",
            "red\n"
          ]
        }
      ]
    },
    {
      "cell_type": "code",
      "source": [
        "del color['cherry']\n",
        "color"
      ],
      "metadata": {
        "id": "EcAE2y1DD-oA",
        "colab": {
          "base_uri": "https://localhost:8080/"
        },
        "outputId": "dd33ffc2-7ea3-4c53-e5dc-337258228403"
      },
      "execution_count": 37,
      "outputs": [
        {
          "output_type": "execute_result",
          "data": {
            "text/plain": [
              "{'apple': 'green', 'banana': 'yellow'}"
            ]
          },
          "metadata": {},
          "execution_count": 37
        }
      ]
    },
    {
      "cell_type": "markdown",
      "source": [
        "# 얕은 복사와 깊은 복사"
      ],
      "metadata": {
        "id": "zyaPQL71gM6U"
      }
    },
    {
      "cell_type": "markdown",
      "source": [
        "## 얕은 복사\n",
        "\n",
        "a = [1,2,3]\\\n",
        "b = a -> a의 주소를 참조하도록 함"
      ],
      "metadata": {
        "id": "vIr3aBsdFNT3"
      }
    },
    {
      "cell_type": "code",
      "source": [
        "# 얕은 복사와 깊은 복사\n",
        "\n",
        "a = [1,2,3]\n",
        "b = a\n",
        "b"
      ],
      "metadata": {
        "id": "oBlxOGmpEN2E",
        "colab": {
          "base_uri": "https://localhost:8080/"
        },
        "outputId": "dff5d1b8-e88f-458e-9e80-e517a5e026b7"
      },
      "execution_count": 38,
      "outputs": [
        {
          "output_type": "execute_result",
          "data": {
            "text/plain": [
              "[1, 2, 3]"
            ]
          },
          "metadata": {},
          "execution_count": 38
        }
      ]
    },
    {
      "cell_type": "code",
      "source": [
        "b[0] = 100\n",
        "b"
      ],
      "metadata": {
        "id": "qmnlt61EEb7w",
        "colab": {
          "base_uri": "https://localhost:8080/"
        },
        "outputId": "4fee8a7d-d39c-4bab-c48a-63f6fa56f494"
      },
      "execution_count": 39,
      "outputs": [
        {
          "output_type": "execute_result",
          "data": {
            "text/plain": [
              "[100, 2, 3]"
            ]
          },
          "metadata": {},
          "execution_count": 39
        }
      ]
    },
    {
      "cell_type": "code",
      "source": [
        "a"
      ],
      "metadata": {
        "id": "rxGdQDFqEjDt",
        "colab": {
          "base_uri": "https://localhost:8080/"
        },
        "outputId": "defea37f-2cdc-4698-cde1-0490dbf527dd"
      },
      "execution_count": 40,
      "outputs": [
        {
          "output_type": "execute_result",
          "data": {
            "text/plain": [
              "[100, 2, 3]"
            ]
          },
          "metadata": {},
          "execution_count": 40
        }
      ]
    },
    {
      "cell_type": "markdown",
      "source": [
        "## 깊은 복사"
      ],
      "metadata": {
        "id": "Bz0Uc84LgZHt"
      }
    },
    {
      "cell_type": "code",
      "source": [
        "import copy"
      ],
      "metadata": {
        "id": "tNVD6x84EmY3"
      },
      "execution_count": 41,
      "outputs": []
    },
    {
      "cell_type": "code",
      "source": [
        "a = [1,2,3]\n",
        "b = copy.deepcopy(a)\n",
        "b[0] = 100\n",
        "print(a, b)"
      ],
      "metadata": {
        "id": "55Q2L2adFc1q",
        "colab": {
          "base_uri": "https://localhost:8080/"
        },
        "outputId": "fdcb075d-e8c0-40b0-b055-9bc4ac3812c5"
      },
      "execution_count": 42,
      "outputs": [
        {
          "output_type": "stream",
          "name": "stdout",
          "text": [
            "[1, 2, 3] [100, 2, 3]\n"
          ]
        }
      ]
    },
    {
      "cell_type": "code",
      "source": [
        "a = [1,2,3]\n",
        "b = a[:]\n",
        "b[0] = 100\n",
        "print(a, b)"
      ],
      "metadata": {
        "id": "0WCuW4MmFucH",
        "colab": {
          "base_uri": "https://localhost:8080/"
        },
        "outputId": "37aac759-de56-4a64-c1e0-941ce9e85828"
      },
      "execution_count": 43,
      "outputs": [
        {
          "output_type": "stream",
          "name": "stdout",
          "text": [
            "[1, 2, 3] [100, 2, 3]\n"
          ]
        }
      ]
    },
    {
      "cell_type": "code",
      "source": [],
      "metadata": {
        "id": "WpAFNkPyF7AX"
      },
      "execution_count": 43,
      "outputs": []
    }
  ]
}