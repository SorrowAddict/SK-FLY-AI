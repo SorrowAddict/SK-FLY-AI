{
  "cells": [
    {
      "cell_type": "markdown",
      "metadata": {
        "id": "view-in-github",
        "colab_type": "text"
      },
      "source": [
        "<a href=\"https://colab.research.google.com/github/SorrowAddict/SK-FLY-AI/blob/main/AI_Learning/Week-03_DACON_AI_Training/2401013_%ED%83%80%EC%9D%B4%ED%83%80%EB%8B%89_%ED%94%BC%EC%B3%90_%EC%A4%91%EC%9A%94%EB%8F%84_%EA%B8%B0%EB%B0%98_Feature_Selection_%26_LGBM_K_Fold_%EC%95%99%EC%83%81%EB%B8%94(%EC%A0%95%EB%8F%84%EC%98%81).ipynb\" target=\"_parent\"><img src=\"https://colab.research.google.com/assets/colab-badge.svg\" alt=\"Open In Colab\"/></a>"
      ]
    },
    {
      "cell_type": "markdown",
      "source": [
        "## Colab 한글"
      ],
      "metadata": {
        "id": "4DjKJyzPSAvA"
      },
      "id": "4DjKJyzPSAvA"
    },
    {
      "cell_type": "code",
      "source": [
        "# !sudo apt-get install -y fonts-nanum\n",
        "# !sudo fc-cache -fv\n",
        "# !rm ~/.cache/matplotlib -rf\n",
        "\n",
        "import matplotlib.pyplot as plt\n",
        "\n",
        "plt.rc('font', family='NanumBarunGothic')"
      ],
      "metadata": {
        "id": "UM9bYrlyRt4l"
      },
      "id": "UM9bYrlyRt4l",
      "execution_count": null,
      "outputs": []
    },
    {
      "cell_type": "markdown",
      "id": "d8a0d56a-0c1d-4f62-b9a9-ebfc9f34dd02",
      "metadata": {
        "id": "d8a0d56a-0c1d-4f62-b9a9-ebfc9f34dd02"
      },
      "source": [
        "## Import & Data Load"
      ]
    },
    {
      "cell_type": "code",
      "execution_count": null,
      "id": "16ab6a41-2b24-4b3d-894c-929339e7891d",
      "metadata": {
        "colab": {
          "base_uri": "https://localhost:8080/",
          "height": 428
        },
        "id": "16ab6a41-2b24-4b3d-894c-929339e7891d",
        "outputId": "fe9f14ce-8dee-4386-c635-63efbd5a7367"
      },
      "outputs": [
        {
          "output_type": "execute_result",
          "data": {
            "text/plain": [
              "  ARI_CO ARI_PO SHIP_TYPE_CATEGORY       DIST               ATA       ID  \\\n",
              "0     SG   GIW5          Container  30.881018  2018-12-17 21:29  Z618338   \n",
              "1     IN   UJM2               Bulk   0.000000   2014-09-23 6:59  X886125   \n",
              "2     CN   EUC8          Container   0.000000  2015-02-03 22:00  T674582   \n",
              "3     JP   ZAG4          Container   0.000000   2020-01-17 4:02  Y847238   \n",
              "4     SG   GIW5          Container  27.037650   2020-01-26 7:51  A872328   \n",
              "\n",
              "   BREADTH  BUILT  DEADWEIGHT  DEPTH  ...  LENGTH  SHIPMANAGER  \\\n",
              "0     30.0     24       24300   10.0  ...   180.0       CQSB78   \n",
              "1     30.0     13       35900   10.0  ...   180.0       SPNO34   \n",
              "2     50.0     12      146000   30.0  ...   370.0       FNPK22   \n",
              "3     20.0     18        6910   10.0  ...   120.0       PBZV77   \n",
              "4     50.0     10      116000   20.0  ...   300.0       GUCE76   \n",
              "\n",
              "               FLAG U_WIND V_WIND  AIR_TEMPERATURE        BN  ATA_LT  \\\n",
              "0            Panama    NaN    NaN              NaN       NaN       5   \n",
              "1  Marshall Islands    NaN    NaN              NaN       NaN      12   \n",
              "2             Malta    NaN    NaN              NaN       NaN       6   \n",
              "3           Bahamas  -3.18  -1.61              6.7  2.629350      13   \n",
              "4           Liberia  -0.33  -3.28             25.6  2.495953      15   \n",
              "\n",
              "   PORT_SIZE     CI_HOUR  \n",
              "0   0.002615    3.450000  \n",
              "1   0.000217    0.000000  \n",
              "2   0.001614    0.000000  \n",
              "3   0.000356    0.000000  \n",
              "4   0.002615  253.554444  \n",
              "\n",
              "[5 rows x 22 columns]"
            ],
            "text/html": [
              "\n",
              "  <div id=\"df-d0d2f5dc-0472-4e24-bd58-14c13747df3a\" class=\"colab-df-container\">\n",
              "    <div>\n",
              "<style scoped>\n",
              "    .dataframe tbody tr th:only-of-type {\n",
              "        vertical-align: middle;\n",
              "    }\n",
              "\n",
              "    .dataframe tbody tr th {\n",
              "        vertical-align: top;\n",
              "    }\n",
              "\n",
              "    .dataframe thead th {\n",
              "        text-align: right;\n",
              "    }\n",
              "</style>\n",
              "<table border=\"1\" class=\"dataframe\">\n",
              "  <thead>\n",
              "    <tr style=\"text-align: right;\">\n",
              "      <th></th>\n",
              "      <th>ARI_CO</th>\n",
              "      <th>ARI_PO</th>\n",
              "      <th>SHIP_TYPE_CATEGORY</th>\n",
              "      <th>DIST</th>\n",
              "      <th>ATA</th>\n",
              "      <th>ID</th>\n",
              "      <th>BREADTH</th>\n",
              "      <th>BUILT</th>\n",
              "      <th>DEADWEIGHT</th>\n",
              "      <th>DEPTH</th>\n",
              "      <th>...</th>\n",
              "      <th>LENGTH</th>\n",
              "      <th>SHIPMANAGER</th>\n",
              "      <th>FLAG</th>\n",
              "      <th>U_WIND</th>\n",
              "      <th>V_WIND</th>\n",
              "      <th>AIR_TEMPERATURE</th>\n",
              "      <th>BN</th>\n",
              "      <th>ATA_LT</th>\n",
              "      <th>PORT_SIZE</th>\n",
              "      <th>CI_HOUR</th>\n",
              "    </tr>\n",
              "  </thead>\n",
              "  <tbody>\n",
              "    <tr>\n",
              "      <th>0</th>\n",
              "      <td>SG</td>\n",
              "      <td>GIW5</td>\n",
              "      <td>Container</td>\n",
              "      <td>30.881018</td>\n",
              "      <td>2018-12-17 21:29</td>\n",
              "      <td>Z618338</td>\n",
              "      <td>30.0</td>\n",
              "      <td>24</td>\n",
              "      <td>24300</td>\n",
              "      <td>10.0</td>\n",
              "      <td>...</td>\n",
              "      <td>180.0</td>\n",
              "      <td>CQSB78</td>\n",
              "      <td>Panama</td>\n",
              "      <td>NaN</td>\n",
              "      <td>NaN</td>\n",
              "      <td>NaN</td>\n",
              "      <td>NaN</td>\n",
              "      <td>5</td>\n",
              "      <td>0.002615</td>\n",
              "      <td>3.450000</td>\n",
              "    </tr>\n",
              "    <tr>\n",
              "      <th>1</th>\n",
              "      <td>IN</td>\n",
              "      <td>UJM2</td>\n",
              "      <td>Bulk</td>\n",
              "      <td>0.000000</td>\n",
              "      <td>2014-09-23 6:59</td>\n",
              "      <td>X886125</td>\n",
              "      <td>30.0</td>\n",
              "      <td>13</td>\n",
              "      <td>35900</td>\n",
              "      <td>10.0</td>\n",
              "      <td>...</td>\n",
              "      <td>180.0</td>\n",
              "      <td>SPNO34</td>\n",
              "      <td>Marshall Islands</td>\n",
              "      <td>NaN</td>\n",
              "      <td>NaN</td>\n",
              "      <td>NaN</td>\n",
              "      <td>NaN</td>\n",
              "      <td>12</td>\n",
              "      <td>0.000217</td>\n",
              "      <td>0.000000</td>\n",
              "    </tr>\n",
              "    <tr>\n",
              "      <th>2</th>\n",
              "      <td>CN</td>\n",
              "      <td>EUC8</td>\n",
              "      <td>Container</td>\n",
              "      <td>0.000000</td>\n",
              "      <td>2015-02-03 22:00</td>\n",
              "      <td>T674582</td>\n",
              "      <td>50.0</td>\n",
              "      <td>12</td>\n",
              "      <td>146000</td>\n",
              "      <td>30.0</td>\n",
              "      <td>...</td>\n",
              "      <td>370.0</td>\n",
              "      <td>FNPK22</td>\n",
              "      <td>Malta</td>\n",
              "      <td>NaN</td>\n",
              "      <td>NaN</td>\n",
              "      <td>NaN</td>\n",
              "      <td>NaN</td>\n",
              "      <td>6</td>\n",
              "      <td>0.001614</td>\n",
              "      <td>0.000000</td>\n",
              "    </tr>\n",
              "    <tr>\n",
              "      <th>3</th>\n",
              "      <td>JP</td>\n",
              "      <td>ZAG4</td>\n",
              "      <td>Container</td>\n",
              "      <td>0.000000</td>\n",
              "      <td>2020-01-17 4:02</td>\n",
              "      <td>Y847238</td>\n",
              "      <td>20.0</td>\n",
              "      <td>18</td>\n",
              "      <td>6910</td>\n",
              "      <td>10.0</td>\n",
              "      <td>...</td>\n",
              "      <td>120.0</td>\n",
              "      <td>PBZV77</td>\n",
              "      <td>Bahamas</td>\n",
              "      <td>-3.18</td>\n",
              "      <td>-1.61</td>\n",
              "      <td>6.7</td>\n",
              "      <td>2.629350</td>\n",
              "      <td>13</td>\n",
              "      <td>0.000356</td>\n",
              "      <td>0.000000</td>\n",
              "    </tr>\n",
              "    <tr>\n",
              "      <th>4</th>\n",
              "      <td>SG</td>\n",
              "      <td>GIW5</td>\n",
              "      <td>Container</td>\n",
              "      <td>27.037650</td>\n",
              "      <td>2020-01-26 7:51</td>\n",
              "      <td>A872328</td>\n",
              "      <td>50.0</td>\n",
              "      <td>10</td>\n",
              "      <td>116000</td>\n",
              "      <td>20.0</td>\n",
              "      <td>...</td>\n",
              "      <td>300.0</td>\n",
              "      <td>GUCE76</td>\n",
              "      <td>Liberia</td>\n",
              "      <td>-0.33</td>\n",
              "      <td>-3.28</td>\n",
              "      <td>25.6</td>\n",
              "      <td>2.495953</td>\n",
              "      <td>15</td>\n",
              "      <td>0.002615</td>\n",
              "      <td>253.554444</td>\n",
              "    </tr>\n",
              "  </tbody>\n",
              "</table>\n",
              "<p>5 rows × 22 columns</p>\n",
              "</div>\n",
              "    <div class=\"colab-df-buttons\">\n",
              "\n",
              "  <div class=\"colab-df-container\">\n",
              "    <button class=\"colab-df-convert\" onclick=\"convertToInteractive('df-d0d2f5dc-0472-4e24-bd58-14c13747df3a')\"\n",
              "            title=\"Convert this dataframe to an interactive table.\"\n",
              "            style=\"display:none;\">\n",
              "\n",
              "  <svg xmlns=\"http://www.w3.org/2000/svg\" height=\"24px\" viewBox=\"0 -960 960 960\">\n",
              "    <path d=\"M120-120v-720h720v720H120Zm60-500h600v-160H180v160Zm220 220h160v-160H400v160Zm0 220h160v-160H400v160ZM180-400h160v-160H180v160Zm440 0h160v-160H620v160ZM180-180h160v-160H180v160Zm440 0h160v-160H620v160Z\"/>\n",
              "  </svg>\n",
              "    </button>\n",
              "\n",
              "  <style>\n",
              "    .colab-df-container {\n",
              "      display:flex;\n",
              "      gap: 12px;\n",
              "    }\n",
              "\n",
              "    .colab-df-convert {\n",
              "      background-color: #E8F0FE;\n",
              "      border: none;\n",
              "      border-radius: 50%;\n",
              "      cursor: pointer;\n",
              "      display: none;\n",
              "      fill: #1967D2;\n",
              "      height: 32px;\n",
              "      padding: 0 0 0 0;\n",
              "      width: 32px;\n",
              "    }\n",
              "\n",
              "    .colab-df-convert:hover {\n",
              "      background-color: #E2EBFA;\n",
              "      box-shadow: 0px 1px 2px rgba(60, 64, 67, 0.3), 0px 1px 3px 1px rgba(60, 64, 67, 0.15);\n",
              "      fill: #174EA6;\n",
              "    }\n",
              "\n",
              "    .colab-df-buttons div {\n",
              "      margin-bottom: 4px;\n",
              "    }\n",
              "\n",
              "    [theme=dark] .colab-df-convert {\n",
              "      background-color: #3B4455;\n",
              "      fill: #D2E3FC;\n",
              "    }\n",
              "\n",
              "    [theme=dark] .colab-df-convert:hover {\n",
              "      background-color: #434B5C;\n",
              "      box-shadow: 0px 1px 3px 1px rgba(0, 0, 0, 0.15);\n",
              "      filter: drop-shadow(0px 1px 2px rgba(0, 0, 0, 0.3));\n",
              "      fill: #FFFFFF;\n",
              "    }\n",
              "  </style>\n",
              "\n",
              "    <script>\n",
              "      const buttonEl =\n",
              "        document.querySelector('#df-d0d2f5dc-0472-4e24-bd58-14c13747df3a button.colab-df-convert');\n",
              "      buttonEl.style.display =\n",
              "        google.colab.kernel.accessAllowed ? 'block' : 'none';\n",
              "\n",
              "      async function convertToInteractive(key) {\n",
              "        const element = document.querySelector('#df-d0d2f5dc-0472-4e24-bd58-14c13747df3a');\n",
              "        const dataTable =\n",
              "          await google.colab.kernel.invokeFunction('convertToInteractive',\n",
              "                                                    [key], {});\n",
              "        if (!dataTable) return;\n",
              "\n",
              "        const docLinkHtml = 'Like what you see? Visit the ' +\n",
              "          '<a target=\"_blank\" href=https://colab.research.google.com/notebooks/data_table.ipynb>data table notebook</a>'\n",
              "          + ' to learn more about interactive tables.';\n",
              "        element.innerHTML = '';\n",
              "        dataTable['output_type'] = 'display_data';\n",
              "        await google.colab.output.renderOutput(dataTable, element);\n",
              "        const docLink = document.createElement('div');\n",
              "        docLink.innerHTML = docLinkHtml;\n",
              "        element.appendChild(docLink);\n",
              "      }\n",
              "    </script>\n",
              "  </div>\n",
              "\n",
              "\n",
              "<div id=\"df-6ac78415-e68e-4c82-8f5a-673c9cfdebeb\">\n",
              "  <button class=\"colab-df-quickchart\" onclick=\"quickchart('df-6ac78415-e68e-4c82-8f5a-673c9cfdebeb')\"\n",
              "            title=\"Suggest charts\"\n",
              "            style=\"display:none;\">\n",
              "\n",
              "<svg xmlns=\"http://www.w3.org/2000/svg\" height=\"24px\"viewBox=\"0 0 24 24\"\n",
              "     width=\"24px\">\n",
              "    <g>\n",
              "        <path d=\"M19 3H5c-1.1 0-2 .9-2 2v14c0 1.1.9 2 2 2h14c1.1 0 2-.9 2-2V5c0-1.1-.9-2-2-2zM9 17H7v-7h2v7zm4 0h-2V7h2v10zm4 0h-2v-4h2v4z\"/>\n",
              "    </g>\n",
              "</svg>\n",
              "  </button>\n",
              "\n",
              "<style>\n",
              "  .colab-df-quickchart {\n",
              "      --bg-color: #E8F0FE;\n",
              "      --fill-color: #1967D2;\n",
              "      --hover-bg-color: #E2EBFA;\n",
              "      --hover-fill-color: #174EA6;\n",
              "      --disabled-fill-color: #AAA;\n",
              "      --disabled-bg-color: #DDD;\n",
              "  }\n",
              "\n",
              "  [theme=dark] .colab-df-quickchart {\n",
              "      --bg-color: #3B4455;\n",
              "      --fill-color: #D2E3FC;\n",
              "      --hover-bg-color: #434B5C;\n",
              "      --hover-fill-color: #FFFFFF;\n",
              "      --disabled-bg-color: #3B4455;\n",
              "      --disabled-fill-color: #666;\n",
              "  }\n",
              "\n",
              "  .colab-df-quickchart {\n",
              "    background-color: var(--bg-color);\n",
              "    border: none;\n",
              "    border-radius: 50%;\n",
              "    cursor: pointer;\n",
              "    display: none;\n",
              "    fill: var(--fill-color);\n",
              "    height: 32px;\n",
              "    padding: 0;\n",
              "    width: 32px;\n",
              "  }\n",
              "\n",
              "  .colab-df-quickchart:hover {\n",
              "    background-color: var(--hover-bg-color);\n",
              "    box-shadow: 0 1px 2px rgba(60, 64, 67, 0.3), 0 1px 3px 1px rgba(60, 64, 67, 0.15);\n",
              "    fill: var(--button-hover-fill-color);\n",
              "  }\n",
              "\n",
              "  .colab-df-quickchart-complete:disabled,\n",
              "  .colab-df-quickchart-complete:disabled:hover {\n",
              "    background-color: var(--disabled-bg-color);\n",
              "    fill: var(--disabled-fill-color);\n",
              "    box-shadow: none;\n",
              "  }\n",
              "\n",
              "  .colab-df-spinner {\n",
              "    border: 2px solid var(--fill-color);\n",
              "    border-color: transparent;\n",
              "    border-bottom-color: var(--fill-color);\n",
              "    animation:\n",
              "      spin 1s steps(1) infinite;\n",
              "  }\n",
              "\n",
              "  @keyframes spin {\n",
              "    0% {\n",
              "      border-color: transparent;\n",
              "      border-bottom-color: var(--fill-color);\n",
              "      border-left-color: var(--fill-color);\n",
              "    }\n",
              "    20% {\n",
              "      border-color: transparent;\n",
              "      border-left-color: var(--fill-color);\n",
              "      border-top-color: var(--fill-color);\n",
              "    }\n",
              "    30% {\n",
              "      border-color: transparent;\n",
              "      border-left-color: var(--fill-color);\n",
              "      border-top-color: var(--fill-color);\n",
              "      border-right-color: var(--fill-color);\n",
              "    }\n",
              "    40% {\n",
              "      border-color: transparent;\n",
              "      border-right-color: var(--fill-color);\n",
              "      border-top-color: var(--fill-color);\n",
              "    }\n",
              "    60% {\n",
              "      border-color: transparent;\n",
              "      border-right-color: var(--fill-color);\n",
              "    }\n",
              "    80% {\n",
              "      border-color: transparent;\n",
              "      border-right-color: var(--fill-color);\n",
              "      border-bottom-color: var(--fill-color);\n",
              "    }\n",
              "    90% {\n",
              "      border-color: transparent;\n",
              "      border-bottom-color: var(--fill-color);\n",
              "    }\n",
              "  }\n",
              "</style>\n",
              "\n",
              "  <script>\n",
              "    async function quickchart(key) {\n",
              "      const quickchartButtonEl =\n",
              "        document.querySelector('#' + key + ' button');\n",
              "      quickchartButtonEl.disabled = true;  // To prevent multiple clicks.\n",
              "      quickchartButtonEl.classList.add('colab-df-spinner');\n",
              "      try {\n",
              "        const charts = await google.colab.kernel.invokeFunction(\n",
              "            'suggestCharts', [key], {});\n",
              "      } catch (error) {\n",
              "        console.error('Error during call to suggestCharts:', error);\n",
              "      }\n",
              "      quickchartButtonEl.classList.remove('colab-df-spinner');\n",
              "      quickchartButtonEl.classList.add('colab-df-quickchart-complete');\n",
              "    }\n",
              "    (() => {\n",
              "      let quickchartButtonEl =\n",
              "        document.querySelector('#df-6ac78415-e68e-4c82-8f5a-673c9cfdebeb button');\n",
              "      quickchartButtonEl.style.display =\n",
              "        google.colab.kernel.accessAllowed ? 'block' : 'none';\n",
              "    })();\n",
              "  </script>\n",
              "</div>\n",
              "\n",
              "    </div>\n",
              "  </div>\n"
            ]
          },
          "metadata": {},
          "execution_count": 3
        }
      ],
      "source": [
        "import matplotlib.pyplot as plt\n",
        "import pandas as pd\n",
        "import numpy as np\n",
        "import lightgbm as lgb\n",
        "import bisect\n",
        "from tqdm import tqdm\n",
        "from sklearn.metrics import mean_absolute_error\n",
        "from sklearn.preprocessing import LabelEncoder\n",
        "from sklearn.model_selection import KFold\n",
        "\n",
        "train = pd.read_csv('train.csv').drop(columns=['SAMPLE_ID'])\n",
        "test = pd.read_csv('test.csv').drop(columns=['SAMPLE_ID'])\n",
        "train.head()"
      ]
    },
    {
      "cell_type": "code",
      "source": [
        "train.info()"
      ],
      "metadata": {
        "colab": {
          "base_uri": "https://localhost:8080/"
        },
        "id": "OePoEcJJUNMC",
        "outputId": "d7563169-4d34-49b6-a3a6-5140e8dff8a3"
      },
      "id": "OePoEcJJUNMC",
      "execution_count": null,
      "outputs": [
        {
          "output_type": "stream",
          "name": "stdout",
          "text": [
            "<class 'pandas.core.frame.DataFrame'>\n",
            "RangeIndex: 391939 entries, 0 to 391938\n",
            "Data columns (total 22 columns):\n",
            " #   Column              Non-Null Count   Dtype  \n",
            "---  ------              --------------   -----  \n",
            " 0   ARI_CO              391939 non-null  object \n",
            " 1   ARI_PO              391939 non-null  object \n",
            " 2   SHIP_TYPE_CATEGORY  391939 non-null  object \n",
            " 3   DIST                391939 non-null  float64\n",
            " 4   ATA                 391939 non-null  object \n",
            " 5   ID                  391939 non-null  object \n",
            " 6   BREADTH             391938 non-null  float64\n",
            " 7   BUILT               391939 non-null  int64  \n",
            " 8   DEADWEIGHT          391939 non-null  int64  \n",
            " 9   DEPTH               391938 non-null  float64\n",
            " 10  DRAUGHT             391938 non-null  float64\n",
            " 11  GT                  391939 non-null  int64  \n",
            " 12  LENGTH              391938 non-null  float64\n",
            " 13  SHIPMANAGER         391939 non-null  object \n",
            " 14  FLAG                391939 non-null  object \n",
            " 15  U_WIND              228251 non-null  float64\n",
            " 16  V_WIND              228251 non-null  float64\n",
            " 17  AIR_TEMPERATURE     227309 non-null  float64\n",
            " 18  BN                  228251 non-null  float64\n",
            " 19  ATA_LT              391939 non-null  int64  \n",
            " 20  PORT_SIZE           391939 non-null  float64\n",
            " 21  CI_HOUR             391939 non-null  float64\n",
            "dtypes: float64(11), int64(4), object(7)\n",
            "memory usage: 65.8+ MB\n"
          ]
        }
      ]
    },
    {
      "cell_type": "code",
      "source": [
        "train.isnull().sum()"
      ],
      "metadata": {
        "colab": {
          "base_uri": "https://localhost:8080/"
        },
        "id": "oDf6qG0TUEuL",
        "outputId": "a2d65a56-897e-4bb9-9196-29900986f42a"
      },
      "id": "oDf6qG0TUEuL",
      "execution_count": null,
      "outputs": [
        {
          "output_type": "execute_result",
          "data": {
            "text/plain": [
              "ARI_CO                     0\n",
              "ARI_PO                     0\n",
              "SHIP_TYPE_CATEGORY         0\n",
              "DIST                       0\n",
              "ATA                        0\n",
              "ID                         0\n",
              "BREADTH                    1\n",
              "BUILT                      0\n",
              "DEADWEIGHT                 0\n",
              "DEPTH                      1\n",
              "DRAUGHT                    1\n",
              "GT                         0\n",
              "LENGTH                     1\n",
              "SHIPMANAGER                0\n",
              "FLAG                       0\n",
              "U_WIND                163688\n",
              "V_WIND                163688\n",
              "AIR_TEMPERATURE       164630\n",
              "BN                    163688\n",
              "ATA_LT                     0\n",
              "PORT_SIZE                  0\n",
              "CI_HOUR                    0\n",
              "dtype: int64"
            ]
          },
          "metadata": {},
          "execution_count": 5
        }
      ]
    },
    {
      "cell_type": "code",
      "source": [
        "test.isnull().sum()"
      ],
      "metadata": {
        "colab": {
          "base_uri": "https://localhost:8080/"
        },
        "id": "LuoxfjHIXjIY",
        "outputId": "9291f376-f1df-4026-d50f-e0c2effa9b47"
      },
      "id": "LuoxfjHIXjIY",
      "execution_count": null,
      "outputs": [
        {
          "output_type": "execute_result",
          "data": {
            "text/plain": [
              "ARI_CO                    0\n",
              "ARI_PO                    0\n",
              "SHIP_TYPE_CATEGORY        0\n",
              "DIST                      0\n",
              "ATA                       0\n",
              "ID                        0\n",
              "BREADTH                   0\n",
              "BUILT                     0\n",
              "DEADWEIGHT                0\n",
              "DEPTH                     0\n",
              "DRAUGHT                   0\n",
              "GT                        0\n",
              "LENGTH                    0\n",
              "SHIPMANAGER               0\n",
              "FLAG                      0\n",
              "U_WIND                91725\n",
              "V_WIND                91725\n",
              "AIR_TEMPERATURE       92246\n",
              "BN                    91725\n",
              "ATA_LT                    0\n",
              "PORT_SIZE                 0\n",
              "dtype: int64"
            ]
          },
          "metadata": {},
          "execution_count": 6
        }
      ]
    },
    {
      "cell_type": "code",
      "source": [
        "# 주어진 변수들에 대한 데이터프레임 생성\n",
        "subset_train = train[['U_WIND', 'V_WIND', 'AIR_TEMPERATURE', 'BN']]\n",
        "\n",
        "# 박스플롯 생성\n",
        "plt.figure(figsize=(12, 8))\n",
        "sns.boxplot(data=subset_train)\n",
        "plt.title('각 변수의 박스플롯')\n",
        "plt.show()"
      ],
      "metadata": {
        "id": "fb8qMWd5V2q9"
      },
      "id": "fb8qMWd5V2q9",
      "execution_count": null,
      "outputs": []
    },
    {
      "cell_type": "code",
      "source": [
        "# 주어진 변수들에 대한 데이터프레임 생성\n",
        "subset_train = train[['U_WIND', 'V_WIND', 'AIR_TEMPERATURE', 'BN']]\n",
        "\n",
        "# 결측치 중간값으로 대체\n",
        "subset_train_filled = subset_train.fillna(subset_train.median())\n",
        "\n",
        "# 박스플롯 생성\n",
        "plt.figure(figsize=(12, 8))\n",
        "sns.boxplot(data=subset_train_filled)\n",
        "plt.title('결측치 대체 후 각 변수의 박스플롯')\n",
        "plt.show()"
      ],
      "metadata": {
        "id": "7LksCNiDWaUZ"
      },
      "id": "7LksCNiDWaUZ",
      "execution_count": null,
      "outputs": []
    },
    {
      "cell_type": "code",
      "source": [
        "import seaborn as sns\n",
        "import matplotlib.pyplot as plt\n",
        "\n",
        "# 주어진 변수들에 대한 데이터프레임 생성\n",
        "subset_train = train[['U_WIND', 'V_WIND', 'AIR_TEMPERATURE', 'BN']]\n",
        "subset_test = test[['U_WIND', 'V_WIND', 'AIR_TEMPERATURE', 'BN']]\n",
        "\n",
        "# 선형 보간법을 사용하여 결측치 대체\n",
        "subset_train_interpolated = subset_train.interpolate(method='linear')\n",
        "subset_test_interpolated = subset_test.interpolate(method='linear')\n",
        "\n",
        "# 박스플롯 생성\n",
        "plt.figure(figsize=(12, 8))\n",
        "sns.boxplot(data=subset_train_interpolated)\n",
        "plt.title('선형 보간법으로 결측치 대체 후 각 변수의 박스플롯')\n",
        "plt.show()\n"
      ],
      "metadata": {
        "colab": {
          "base_uri": "https://localhost:8080/",
          "height": 734
        },
        "id": "0WkMD5NbWlyY",
        "outputId": "972b88ed-c725-4bde-9822-c0b194d13d32"
      },
      "id": "0WkMD5NbWlyY",
      "execution_count": null,
      "outputs": [
        {
          "output_type": "stream",
          "name": "stderr",
          "text": [
            "/usr/local/lib/python3.10/dist-packages/IPython/core/pylabtools.py:151: UserWarning: Glyph 8722 (\\N{MINUS SIGN}) missing from current font.\n",
            "  fig.canvas.print_figure(bytes_io, **kw)\n"
          ]
        },
        {
          "output_type": "display_data",
          "data": {
            "text/plain": [
              "<Figure size 1200x800 with 1 Axes>"
            ],
            "image/png": "[encoded data removed]"
          },
          "metadata": {}
        }
      ]
    },
    {
      "cell_type": "code",
      "source": [
        "import pandas as pd\n",
        "\n",
        "# 선형 보간법으로 결측치 처리 함수\n",
        "def linear_interpolation(train):\n",
        "    numeric_columns = train.select_dtypes(include=['float64', 'int64']).columns\n",
        "    train[numeric_columns] = train[numeric_columns].interpolate(method='linear', axis=0)\n",
        "    return train\n",
        "\n",
        "# 선형 보간법으로 결측치 처리 함수\n",
        "def linear_interpolation(test):\n",
        "    numeric_columns = test.select_dtypes(include=['float64', 'int64']).columns\n",
        "    test[numeric_columns] = test[numeric_columns].interpolate(method='linear', axis=0)\n",
        "    return test\n",
        "\n",
        "# # 주어진 데이터프레임에 대해 선형 보간 수행\n",
        "# train_interpolated = linear_interpolation(train)\n",
        "# test_interpolated = linear_interpolation(test)\n",
        "\n",
        "# 주어진 데이터프레임에 대해 선형 보간 수행\n",
        "train = linear_interpolation(train)\n",
        "test = linear_interpolation(test)\n",
        "\n",
        "# 결과 확인\n",
        "print(train.info())\n",
        "print(test.info())"
      ],
      "metadata": {
        "colab": {
          "base_uri": "https://localhost:8080/"
        },
        "id": "LfqKYJf8XNyK",
        "outputId": "b7adcd6a-005c-4242-80a5-1a52f0236655"
      },
      "id": "LfqKYJf8XNyK",
      "execution_count": null,
      "outputs": [
        {
          "output_type": "stream",
          "name": "stdout",
          "text": [
            "<class 'pandas.core.frame.DataFrame'>\n",
            "RangeIndex: 391939 entries, 0 to 391938\n",
            "Data columns (total 22 columns):\n",
            " #   Column              Non-Null Count   Dtype  \n",
            "---  ------              --------------   -----  \n",
            " 0   ARI_CO              391939 non-null  object \n",
            " 1   ARI_PO              391939 non-null  object \n",
            " 2   SHIP_TYPE_CATEGORY  391939 non-null  object \n",
            " 3   DIST                391939 non-null  float64\n",
            " 4   ATA                 391939 non-null  object \n",
            " 5   ID                  391939 non-null  object \n",
            " 6   BREADTH             391939 non-null  float64\n",
            " 7   BUILT               391939 non-null  int64  \n",
            " 8   DEADWEIGHT          391939 non-null  int64  \n",
            " 9   DEPTH               391939 non-null  float64\n",
            " 10  DRAUGHT             391939 non-null  float64\n",
            " 11  GT                  391939 non-null  int64  \n",
            " 12  LENGTH              391939 non-null  float64\n",
            " 13  SHIPMANAGER         391939 non-null  object \n",
            " 14  FLAG                391939 non-null  object \n",
            " 15  U_WIND              391936 non-null  float64\n",
            " 16  V_WIND              391936 non-null  float64\n",
            " 17  AIR_TEMPERATURE     391936 non-null  float64\n",
            " 18  BN                  391936 non-null  float64\n",
            " 19  ATA_LT              391939 non-null  int64  \n",
            " 20  PORT_SIZE           391939 non-null  float64\n",
            " 21  CI_HOUR             391939 non-null  float64\n",
            "dtypes: float64(11), int64(4), object(7)\n",
            "memory usage: 65.8+ MB\n",
            "None\n",
            "<class 'pandas.core.frame.DataFrame'>\n",
            "RangeIndex: 220491 entries, 0 to 220490\n",
            "Data columns (total 21 columns):\n",
            " #   Column              Non-Null Count   Dtype  \n",
            "---  ------              --------------   -----  \n",
            " 0   ARI_CO              220491 non-null  object \n",
            " 1   ARI_PO              220491 non-null  object \n",
            " 2   SHIP_TYPE_CATEGORY  220491 non-null  object \n",
            " 3   DIST                220491 non-null  float64\n",
            " 4   ATA                 220491 non-null  object \n",
            " 5   ID                  220491 non-null  object \n",
            " 6   BREADTH             220491 non-null  float64\n",
            " 7   BUILT               220491 non-null  int64  \n",
            " 8   DEADWEIGHT          220491 non-null  int64  \n",
            " 9   DEPTH               220491 non-null  float64\n",
            " 10  DRAUGHT             220491 non-null  float64\n",
            " 11  GT                  220491 non-null  int64  \n",
            " 12  LENGTH              220491 non-null  float64\n",
            " 13  SHIPMANAGER         220491 non-null  object \n",
            " 14  FLAG                220491 non-null  object \n",
            " 15  U_WIND              220491 non-null  float64\n",
            " 16  V_WIND              220491 non-null  float64\n",
            " 17  AIR_TEMPERATURE     220491 non-null  float64\n",
            " 18  BN                  220491 non-null  float64\n",
            " 19  ATA_LT              220491 non-null  int64  \n",
            " 20  PORT_SIZE           220491 non-null  float64\n",
            "dtypes: float64(10), int64(4), object(7)\n",
            "memory usage: 35.3+ MB\n",
            "None\n"
          ]
        }
      ]
    },
    {
      "cell_type": "code",
      "source": [
        "import seaborn as sns\n",
        "\n",
        "# 상관 행렬 계산\n",
        "correlation_matrix = train.corr()\n",
        "\n",
        "# 시각화를 위한 히트맵\n",
        "plt.figure(figsize=(10, 8))\n",
        "sns.heatmap(correlation_matrix, annot=True, cmap='coolwarm', fmt=\".2f\", linewidths=.5)\n",
        "plt.title('상관 행렬 히트맵')\n",
        "plt.show()\n",
        "\n",
        "# 상관 계수 출력\n",
        "print(\"상관 계수:\")\n",
        "print(correlation_matrix)"
      ],
      "metadata": {
        "colab": {
          "base_uri": "https://localhost:8080/",
          "height": 1000
        },
        "id": "KC6o84N7Ud_m",
        "outputId": "0914a47b-7092-45d1-d175-a06396e27e05"
      },
      "id": "KC6o84N7Ud_m",
      "execution_count": null,
      "outputs": [
        {
          "output_type": "stream",
          "name": "stderr",
          "text": [
            "<ipython-input-11-74f7d25577fb>:4: FutureWarning: The default value of numeric_only in DataFrame.corr is deprecated. In a future version, it will default to False. Select only valid columns or specify the value of numeric_only to silence this warning.\n",
            "  correlation_matrix = train.corr()\n",
            "/usr/local/lib/python3.10/dist-packages/seaborn/utils.py:80: UserWarning: Glyph 8722 (\\N{MINUS SIGN}) missing from current font.\n",
            "  fig.canvas.draw()\n",
            "/usr/local/lib/python3.10/dist-packages/IPython/core/pylabtools.py:151: UserWarning: Glyph 8722 (\\N{MINUS SIGN}) missing from current font.\n",
            "  fig.canvas.print_figure(bytes_io, **kw)\n"
          ]
        },
        {
          "output_type": "display_data",
          "data": {
            "text/plain": [
              "<Figure size 1000x800 with 2 Axes>"
            ],
            "image/png": "[encoded data removed]"
          },
          "metadata": {}
        },
        {
          "output_type": "stream",
          "name": "stdout",
          "text": [
            "상관 계수:\n",
            "                     DIST   BREADTH     BUILT  DEADWEIGHT     DEPTH   DRAUGHT  \\\n",
            "DIST             1.000000  0.025354 -0.004939    0.025493 -0.001034  0.031942   \n",
            "BREADTH          0.025354  1.000000 -0.209508    0.857122  0.790476  0.761321   \n",
            "BUILT           -0.004939 -0.209508  1.000000   -0.240297 -0.205489 -0.146959   \n",
            "DEADWEIGHT       0.025493  0.857122 -0.240297    1.000000  0.712966  0.813401   \n",
            "DEPTH           -0.001034  0.790476 -0.205489    0.712966  1.000000  0.581056   \n",
            "DRAUGHT          0.031942  0.761321 -0.146959    0.813401  0.581056  1.000000   \n",
            "GT               0.015964  0.903979 -0.238181    0.925143  0.787592  0.779027   \n",
            "LENGTH           0.025215  0.920652 -0.180418    0.826763  0.842638  0.737605   \n",
            "U_WIND          -0.020633 -0.035476  0.008773   -0.018790 -0.027668 -0.024371   \n",
            "V_WIND           0.034594  0.015514 -0.006563    0.025618  0.020395  0.017033   \n",
            "AIR_TEMPERATURE  0.000604  0.084441 -0.025031    0.054847  0.048300  0.061610   \n",
            "BN              -0.016055  0.057993 -0.007805    0.054954  0.048418  0.058003   \n",
            "ATA_LT          -0.000012  0.005974 -0.008881    0.007752  0.004835  0.005967   \n",
            "PORT_SIZE        0.191332  0.036792  0.039486   -0.138979  0.019614 -0.043577   \n",
            "CI_HOUR          0.189145  0.043711  0.001756    0.077954  0.051759  0.040309   \n",
            "\n",
            "                       GT    LENGTH    U_WIND    V_WIND  AIR_TEMPERATURE  \\\n",
            "DIST             0.015964  0.025215 -0.020633  0.034594         0.000604   \n",
            "BREADTH          0.903979  0.920652 -0.035476  0.015514         0.084441   \n",
            "BUILT           -0.238181 -0.180418  0.008773 -0.006563        -0.025031   \n",
            "DEADWEIGHT       0.925143  0.826763 -0.018790  0.025618         0.054847   \n",
            "DEPTH            0.787592  0.842638 -0.027668  0.020395         0.048300   \n",
            "DRAUGHT          0.779027  0.737605 -0.024371  0.017033         0.061610   \n",
            "GT               1.000000  0.916681 -0.025766  0.015756         0.066247   \n",
            "LENGTH           0.916681  1.000000 -0.034680  0.016326         0.077033   \n",
            "U_WIND          -0.025766 -0.034680  1.000000  0.096390        -0.111003   \n",
            "V_WIND           0.015756  0.016326  0.096390  1.000000         0.186730   \n",
            "AIR_TEMPERATURE  0.066247  0.077033 -0.111003  0.186730         1.000000   \n",
            "BN               0.046294  0.052759 -0.092228 -0.182086        -0.002449   \n",
            "ATA_LT           0.005578  0.005383 -0.008263  0.007245         0.017818   \n",
            "PORT_SIZE        0.018301  0.085314 -0.043470  0.007387         0.140882   \n",
            "CI_HOUR          0.059661  0.035334 -0.008268  0.011963         0.023308   \n",
            "\n",
            "                       BN    ATA_LT  PORT_SIZE   CI_HOUR  \n",
            "DIST            -0.016055 -0.000012   0.191332  0.189145  \n",
            "BREADTH          0.057993  0.005974   0.036792  0.043711  \n",
            "BUILT           -0.007805 -0.008881   0.039486  0.001756  \n",
            "DEADWEIGHT       0.054954  0.007752  -0.138979  0.077954  \n",
            "DEPTH            0.048418  0.004835   0.019614  0.051759  \n",
            "DRAUGHT          0.058003  0.005967  -0.043577  0.040309  \n",
            "GT               0.046294  0.005578   0.018301  0.059661  \n",
            "LENGTH           0.052759  0.005383   0.085314  0.035334  \n",
            "U_WIND          -0.092228 -0.008263  -0.043470 -0.008268  \n",
            "V_WIND          -0.182086  0.007245   0.007387  0.011963  \n",
            "AIR_TEMPERATURE -0.002449  0.017818   0.140882  0.023308  \n",
            "BN               1.000000  0.012205  -0.065572 -0.009543  \n",
            "ATA_LT           0.012205  1.000000  -0.002993  0.000090  \n",
            "PORT_SIZE       -0.065572 -0.002993   1.000000  0.020635  \n",
            "CI_HOUR         -0.009543  0.000090   0.020635  1.000000  \n"
          ]
        }
      ]
    },
    {
      "cell_type": "markdown",
      "id": "e85e91bc-96c4-4b01-9b66-ece6130feefc",
      "metadata": {
        "id": "e85e91bc-96c4-4b01-9b66-ece6130feefc"
      },
      "source": [
        "## Data Pre-processing"
      ]
    },
    {
      "cell_type": "code",
      "execution_count": null,
      "id": "951a14a6-7513-4a98-a827-d33e066a7319",
      "metadata": {
        "colab": {
          "base_uri": "https://localhost:8080/"
        },
        "id": "951a14a6-7513-4a98-a827-d33e066a7319",
        "outputId": "28356332-1048-4fb8-b572-7335e22b348b"
      },
      "outputs": [
        {
          "output_type": "stream",
          "name": "stderr",
          "text": [
            "Encoding features: 100%|██████████| 6/6 [00:01<00:00,  3.74it/s]\n"
          ]
        }
      ],
      "source": [
        "# datetime 컬럼 처리\n",
        "train['ATA'] = pd.to_datetime(train['ATA'])\n",
        "test['ATA'] = pd.to_datetime(test['ATA'])\n",
        "\n",
        "# datetime을 여러 파생 변수로 변환\n",
        "for df in [train, test]:\n",
        "    df['year'] = df['ATA'].dt.year\n",
        "    df['month'] = df['ATA'].dt.month\n",
        "    df['day'] = df['ATA'].dt.day\n",
        "    df['hour'] = df['ATA'].dt.hour\n",
        "    df['minute'] = df['ATA'].dt.minute\n",
        "    df['weekday'] = df['ATA'].dt.weekday\n",
        "\n",
        "# datetime 컬럼 제거\n",
        "train.drop(columns='ATA', inplace=True)\n",
        "test.drop(columns='ATA', inplace=True)\n",
        "\n",
        "# Categorical 컬럼 인코딩\n",
        "categorical_features = ['ARI_CO', 'ARI_PO', 'SHIP_TYPE_CATEGORY', 'ID', 'SHIPMANAGER', 'FLAG']\n",
        "encoders = {}\n",
        "\n",
        "for feature in tqdm(categorical_features, desc=\"Encoding features\"):\n",
        "    le = LabelEncoder()\n",
        "    train[feature] = le.fit_transform(train[feature].astype(str))\n",
        "    le_classes_set = set(le.classes_)\n",
        "    test[feature] = test[feature].map(lambda s: '-1' if s not in le_classes_set else s)\n",
        "    le_classes = le.classes_.tolist()\n",
        "    bisect.insort_left(le_classes, '-1')\n",
        "    le.classes_ = np.array(le_classes)\n",
        "    test[feature] = le.transform(test[feature].astype(str))\n",
        "    encoders[feature] = le\n",
        "\n",
        "# 결측치 처리\n",
        "train.fillna(train.mean(), inplace=True)\n",
        "test.fillna(train.mean(), inplace=True)"
      ]
    },
    {
      "cell_type": "markdown",
      "id": "be07ffba-81a8-4d29-b49d-ddd51cc56150",
      "metadata": {
        "id": "be07ffba-81a8-4d29-b49d-ddd51cc56150"
      },
      "source": [
        "## 모델 학습 및 특성 중요도 확인"
      ]
    },
    {
      "cell_type": "code",
      "execution_count": null,
      "id": "921ca55a-b03a-4ffe-aaba-64d4dabe006f",
      "metadata": {
        "colab": {
          "base_uri": "https://localhost:8080/",
          "height": 1000
        },
        "id": "921ca55a-b03a-4ffe-aaba-64d4dabe006f",
        "outputId": "80f6664a-838e-41b8-c3e3-19f61e150f0e"
      },
      "outputs": [
        {
          "output_type": "stream",
          "name": "stdout",
          "text": [
            "Model Tune for LGBM.\n",
            "[LightGBM] [Info] Auto-choosing col-wise multi-threading, the overhead of testing was 0.095800 seconds.\n",
            "You can set `force_col_wise=true` to remove the overhead.\n",
            "[LightGBM] [Info] Total Bins 2912\n",
            "[LightGBM] [Info] Number of data points in the train set: 391939, number of used features: 26\n",
            "[LightGBM] [Info] Start training from score 61.940835\n"
          ]
        },
        {
          "output_type": "display_data",
          "data": {
            "text/plain": [
              "<Figure size 1000x2600 with 1 Axes>"
            ],
            "image/png": "[encoded data removed]"
          },
          "metadata": {}
        }
      ],
      "source": [
        "def train_and_evaluate(model, model_name, X_train, y_train):\n",
        "    print(f'Model Tune for {model_name}.')\n",
        "    model.fit(X_train, y_train)\n",
        "\n",
        "    feature_importances = model.feature_importances_\n",
        "    sorted_idx = feature_importances.argsort()\n",
        "\n",
        "    plt.figure(figsize=(10, len(X_train.columns)))\n",
        "    plt.title(f\"Feature Importances ({model_name})\")\n",
        "    plt.barh(range(X_train.shape[1]), feature_importances[sorted_idx], align='center')\n",
        "    plt.yticks(range(X_train.shape[1]), X_train.columns[sorted_idx])\n",
        "    plt.xlabel('Importance')\n",
        "    plt.show()\n",
        "\n",
        "    return model, feature_importances\n",
        "\n",
        "X_train = train.drop(columns='CI_HOUR')\n",
        "y_train = train['CI_HOUR']\n",
        "\n",
        "# Model Tune for LGBM\n",
        "lgbm_model, lgbm_feature_importances = train_and_evaluate(lgb.LGBMRegressor(), 'LGBM', X_train, y_train)"
      ]
    },
    {
      "cell_type": "markdown",
      "id": "76731daa-4bee-43b3-a3e2-a7ffd084aa8b",
      "metadata": {
        "id": "76731daa-4bee-43b3-a3e2-a7ffd084aa8b"
      },
      "source": [
        "## 특성 중요도로부터 Feature Selection"
      ]
    },
    {
      "cell_type": "code",
      "execution_count": null,
      "id": "9152e3a9-88cf-41af-968f-dad96d933d1c",
      "metadata": {
        "id": "9152e3a9-88cf-41af-968f-dad96d933d1c"
      },
      "outputs": [],
      "source": [
        "threshold = 85 # Your Threshold\n",
        "low_importance_features = X_train.columns[lgbm_feature_importances < threshold]\n",
        "\n",
        "X_train_reduced = X_train.drop(columns=low_importance_features)\n",
        "X_test_reduced = test.drop(columns=low_importance_features)"
      ]
    },
    {
      "cell_type": "markdown",
      "id": "39df9ee6-0aa3-4ea9-bf3e-1f5e66298aea",
      "metadata": {
        "id": "39df9ee6-0aa3-4ea9-bf3e-1f5e66298aea"
      },
      "source": [
        "## K-Fold Model Fitting & Validation"
      ]
    },
    {
      "cell_type": "code",
      "execution_count": null,
      "id": "c0258d85-9f65-4608-bef6-3ffa2c655f45",
      "metadata": {
        "colab": {
          "base_uri": "https://localhost:8080/"
        },
        "id": "c0258d85-9f65-4608-bef6-3ffa2c655f45",
        "outputId": "0095e606-f641-4221-b21a-04424c86486e"
      },
      "outputs": [
        {
          "output_type": "stream",
          "name": "stderr",
          "text": [
            "\rProcessing folds:   0%|          | 0/5 [00:00<?, ?it/s]"
          ]
        },
        {
          "output_type": "stream",
          "name": "stdout",
          "text": [
            "[LightGBM] [Info] Auto-choosing row-wise multi-threading, the overhead of testing was 0.011417 seconds.\n",
            "You can set `force_row_wise=true` to remove the overhead.\n",
            "And if memory is not enough, you can set `force_col_wise=true`.\n",
            "[LightGBM] [Info] Total Bins 1485\n",
            "[LightGBM] [Info] Number of data points in the train set: 313551, number of used features: 14\n",
            "[LightGBM] [Info] Start training from score 62.157481\n"
          ]
        },
        {
          "output_type": "stream",
          "name": "stderr",
          "text": [
            "\rProcessing folds:  20%|██        | 1/5 [00:03<00:14,  3.74s/it]"
          ]
        },
        {
          "output_type": "stream",
          "name": "stdout",
          "text": [
            "[LightGBM] [Info] Auto-choosing col-wise multi-threading, the overhead of testing was 0.063952 seconds.\n",
            "You can set `force_col_wise=true` to remove the overhead.\n",
            "[LightGBM] [Info] Total Bins 1487\n",
            "[LightGBM] [Info] Number of data points in the train set: 313551, number of used features: 14\n",
            "[LightGBM] [Info] Start training from score 61.815772\n"
          ]
        },
        {
          "output_type": "stream",
          "name": "stderr",
          "text": [
            "\rProcessing folds:  40%|████      | 2/5 [00:07<00:12,  4.02s/it]"
          ]
        },
        {
          "output_type": "stream",
          "name": "stdout",
          "text": [
            "[LightGBM] [Info] Auto-choosing row-wise multi-threading, the overhead of testing was 0.011092 seconds.\n",
            "You can set `force_row_wise=true` to remove the overhead.\n",
            "And if memory is not enough, you can set `force_col_wise=true`.\n",
            "[LightGBM] [Info] Total Bins 1485\n",
            "[LightGBM] [Info] Number of data points in the train set: 313551, number of used features: 14\n",
            "[LightGBM] [Info] Start training from score 61.753606\n"
          ]
        },
        {
          "output_type": "stream",
          "name": "stderr",
          "text": [
            "\rProcessing folds:  60%|██████    | 3/5 [00:11<00:07,  3.80s/it]"
          ]
        },
        {
          "output_type": "stream",
          "name": "stdout",
          "text": [
            "[LightGBM] [Info] Auto-choosing row-wise multi-threading, the overhead of testing was 0.010988 seconds.\n",
            "You can set `force_row_wise=true` to remove the overhead.\n",
            "And if memory is not enough, you can set `force_col_wise=true`.\n",
            "[LightGBM] [Info] Total Bins 1482\n",
            "[LightGBM] [Info] Number of data points in the train set: 313551, number of used features: 14\n",
            "[LightGBM] [Info] Start training from score 61.959403\n"
          ]
        },
        {
          "output_type": "stream",
          "name": "stderr",
          "text": [
            "\rProcessing folds:  80%|████████  | 4/5 [00:14<00:03,  3.65s/it]"
          ]
        },
        {
          "output_type": "stream",
          "name": "stdout",
          "text": [
            "[LightGBM] [Info] Auto-choosing col-wise multi-threading, the overhead of testing was 0.045379 seconds.\n",
            "You can set `force_col_wise=true` to remove the overhead.\n",
            "[LightGBM] [Info] Total Bins 1482\n",
            "[LightGBM] [Info] Number of data points in the train set: 313552, number of used features: 14\n",
            "[LightGBM] [Info] Start training from score 62.017911\n"
          ]
        },
        {
          "output_type": "stream",
          "name": "stderr",
          "text": [
            "Processing folds: 100%|██████████| 5/5 [00:19<00:00,  3.92s/it]"
          ]
        },
        {
          "output_type": "stream",
          "name": "stdout",
          "text": [
            "Validation : MAE scores for each fold: [55.04357733186468, 56.41011458666994, 56.03476718013581, 55.52734851841798, 55.45245182655421]\n",
            "Validation : MAE: 55.693651888728525\n"
          ]
        },
        {
          "output_type": "stream",
          "name": "stderr",
          "text": [
            "\n"
          ]
        }
      ],
      "source": [
        "lgbm = lgb.LGBMRegressor()\n",
        "\n",
        "# 5-Fold 설정\n",
        "kf = KFold(n_splits=5, shuffle=True, random_state=42)\n",
        "\n",
        "# 각 fold의 모델로부터의 예측을 저장할 리스트와 MAE 점수 리스트\n",
        "ensemble_predictions = []\n",
        "scores = []\n",
        "\n",
        "for train_idx, val_idx in tqdm(kf.split(X_train_reduced), total=5, desc=\"Processing folds\"):\n",
        "    X_t, X_val = X_train_reduced.iloc[train_idx], X_train_reduced.iloc[val_idx]\n",
        "    y_t, y_val = y_train[train_idx], y_train[val_idx]\n",
        "\n",
        "    # 두 모델 모두 학습\n",
        "    lgbm.fit(X_t, y_t)\n",
        "\n",
        "    # 각 모델로부터 Validation set에 대한 예측을 평균내어 앙상블 예측 생성\n",
        "    val_pred = lgbm.predict(X_val)\n",
        "\n",
        "    # Validation set에 대한 대회 평가 산식 계산 후 저장\n",
        "    scores.append(mean_absolute_error(y_val, val_pred))\n",
        "\n",
        "    # test 데이터셋에 대한 예측 수행 후 저장\n",
        "    lgbm_pred = lgbm.predict(X_test_reduced)\n",
        "    lgbm_pred = np.where(lgbm_pred < 0, 0, lgbm_pred)\n",
        "\n",
        "    ensemble_predictions.append(lgbm_pred)\n",
        "\n",
        "# K-fold 모든 예측의 평균을 계산하여 fold별 모델들의 앙상블 예측 생성\n",
        "final_predictions = np.mean(ensemble_predictions, axis=0)\n",
        "\n",
        "# 각 fold에서의 Validation Metric Score와 전체 평균 Validation Metric Score출력\n",
        "print(\"Validation : MAE scores for each fold:\", scores)\n",
        "print(\"Validation : MAE:\", np.mean(scores))"
      ]
    },
    {
      "cell_type": "markdown",
      "source": [
        "## OPTUNA를 사용한 TUNING"
      ],
      "metadata": {
        "id": "r_R9nXD-zYqo"
      },
      "id": "r_R9nXD-zYqo"
    },
    {
      "cell_type": "code",
      "source": [
        "# !pip install optuna"
      ],
      "metadata": {
        "id": "z9GyTAu63bc-"
      },
      "id": "z9GyTAu63bc-",
      "execution_count": null,
      "outputs": []
    },
    {
      "cell_type": "markdown",
      "source": [
        "### Optuna 최적의 파라미터 설정을 불러와서 예측"
      ],
      "metadata": {
        "id": "7PRWcHIx9qQ_"
      },
      "id": "7PRWcHIx9qQ_"
    },
    {
      "cell_type": "code",
      "source": [
        "import lightgbm as lgb\n",
        "from sklearn.model_selection import train_test_split\n",
        "from sklearn.metrics import mean_absolute_error\n",
        "\n",
        "# Optuna에서 얻은 최적의 하이퍼파라미터 설정\n",
        "optimal_params = {\n",
        "    'objective': 'regression',\n",
        "    'metric': 'mae',\n",
        "    'boosting_type': 'gbdt',\n",
        "    'subsample': 0.5241920153258646,\n",
        "    'colsample_bytree': 0.982290706487749,\n",
        "    'num_leaves': 980,\n",
        "    'learning_rate': 0.03193930780797749,\n",
        "    'n_estimators': 183,\n",
        "    'reg_alpha': 0.050280225503389786,\n",
        "    'reg_lambda': 0.979059995323867,\n",
        "    'min_child_samples': 9,\n",
        "    'n_jobs': -1,  # LGBMRegressor에 추가된 파라미터\n",
        "}\n",
        "\n",
        "# 데이터 분할\n",
        "X_train, X_val, y_train, y_val = train_test_split(X_train_reduced, y_train, test_size=0.2, random_state=42)\n",
        "\n",
        "# 모델 생성 및 훈련\n",
        "model = lgb.LGBMRegressor(**optimal_params)\n",
        "model.fit(X_train, y_train)\n",
        "\n",
        "# Validation set에 대한 예측 수행\n",
        "val_pred = model.predict(X_val)\n",
        "\n",
        "# Validation set에 대한 MAE 계산\n",
        "val_mae = mean_absolute_error(y_val, val_pred)\n",
        "\n",
        "# 결과 출력\n",
        "print(\"Validation : MAE:\", val_mae)\n",
        "\n",
        "# 최적의 모델로 test 데이터에 대한 예측 수행\n",
        "final_predictions_optuna = model.predict(X_test_reduced)\n",
        "final_predictions_optuna = np.where(final_predictions_optuna < 0, 0, final_predictions_optuna)"
      ],
      "metadata": {
        "colab": {
          "base_uri": "https://localhost:8080/"
        },
        "id": "PH2w9Wd79QTP",
        "outputId": "3e127373-8c6b-46f7-a333-6f3f28114825"
      },
      "id": "PH2w9Wd79QTP",
      "execution_count": null,
      "outputs": [
        {
          "output_type": "stream",
          "name": "stdout",
          "text": [
            "[LightGBM] [Info] Auto-choosing col-wise multi-threading, the overhead of testing was 0.086668 seconds.\n",
            "You can set `force_col_wise=true` to remove the overhead.\n",
            "[LightGBM] [Info] Total Bins 1484\n",
            "[LightGBM] [Info] Number of data points in the train set: 313551, number of used features: 14\n",
            "[LightGBM] [Info] Start training from score 62.157481\n",
            "Validation : MAE: 50.65850267155881\n"
          ]
        }
      ]
    },
    {
      "cell_type": "markdown",
      "source": [
        "# Submit"
      ],
      "metadata": {
        "id": "F-sGbPfq-Xrg"
      },
      "id": "F-sGbPfq-Xrg"
    },
    {
      "cell_type": "code",
      "source": [
        "submit = pd.read_csv('./sample_submission.csv')\n",
        "submit['CI_HOUR'] = final_predictions_optuna\n",
        "submit.to_csv('./baseline_submit.csv', index=False)"
      ],
      "metadata": {
        "id": "7GF4PfvP-W7y"
      },
      "id": "7GF4PfvP-W7y",
      "execution_count": null,
      "outputs": []
    },
    {
      "cell_type": "markdown",
      "source": [
        "### Optuna 최적의 파라미터 15회 후 예측"
      ],
      "metadata": {
        "id": "SJPBodGS9Q2k"
      },
      "id": "SJPBodGS9Q2k"
    },
    {
      "cell_type": "code",
      "source": [
        "# import optuna\n",
        "# from sklearn.model_selection import train_test_split\n",
        "\n",
        "# def objective(trial, X, y):\n",
        "#     params = {\n",
        "#         'objective': 'regression',\n",
        "#         'metric': 'mae',\n",
        "#         'boosting_type': 'gbdt',\n",
        "#         'subsample': trial.suggest_float('subsample', 0.5, 1.0),\n",
        "#         'colsample_bytree': trial.suggest_float('colsample_bytree', 0.5, 1.0),\n",
        "#         'num_leaves': trial.suggest_int('num_leaves', 10, 1000),\n",
        "#         'learning_rate': trial.suggest_float('learning_rate', 0.001, 0.1),\n",
        "#         'n_estimators': trial.suggest_int('n_estimators', 50, 500),\n",
        "#         'reg_alpha': trial.suggest_float('reg_alpha', 0.0, 1.0),\n",
        "#         'reg_lambda': trial.suggest_float('reg_lambda', 0.0, 1.0),\n",
        "#         'min_child_samples': trial.suggest_int('min_child_samples', 5, 100),\n",
        "#     }\n",
        "\n",
        "#     X_train, X_val, y_train, y_val = train_test_split(X, y, test_size=0.2, random_state=42)\n",
        "\n",
        "#     model = lgb.LGBMRegressor(**params)\n",
        "#     model.fit(X_train, y_train)\n",
        "\n",
        "#     val_pred = model.predict(X_val)\n",
        "#     mae = mean_absolute_error(y_val, val_pred)\n",
        "\n",
        "#     return mae\n",
        "\n",
        "# study = optuna.create_study(direction='minimize')\n",
        "# study.optimize(lambda trial: objective(trial, X_train_reduced, y_train), n_trials=15)\n",
        "\n",
        "# best_params = study.best_params\n",
        "# best_params['objective'] = 'regression'\n",
        "# best_params['metric'] = 'mae'\n",
        "# best_params['boosting_type'] = 'gbdt'\n",
        "# best_params['n_jobs'] = -1\n",
        "\n",
        "# # 최적의 하이퍼파라미터로 모델 재학습\n",
        "# best_model = lgb.LGBMRegressor(**best_params)\n",
        "# best_model.fit(X_train_reduced, y_train)\n",
        "\n",
        "# # 최적의 모델로 test 데이터에 대한 예측 수행\n",
        "# final_predictions_optuna = best_model.predict(X_test_reduced)\n",
        "# final_predictions_optuna = np.where(final_predictions_optuna < 0, 0, final_predictions_optuna)\n",
        "\n",
        "# # 결과 출력\n",
        "# print(\"Optuna - Best MAE:\", study.best_value)\n",
        "# print(\"Optuna - Best Parameters:\", study.best_params)\n"
      ],
      "metadata": {
        "colab": {
          "base_uri": "https://localhost:8080/"
        },
        "id": "SctDOXdazXgc",
        "outputId": "b0297a69-38ab-4c57-9b49-3ca4010c663d"
      },
      "id": "SctDOXdazXgc",
      "execution_count": null,
      "outputs": [
        {
          "output_type": "stream",
          "name": "stderr",
          "text": [
            "[I 2024-01-03 05:56:16,722] A new study created in memory with name: no-name-698a3133-156f-4ed2-85fa-440e9a532214\n"
          ]
        },
        {
          "output_type": "stream",
          "name": "stdout",
          "text": [
            "[LightGBM] [Info] Auto-choosing col-wise multi-threading, the overhead of testing was 0.194470 seconds.\n",
            "You can set `force_col_wise=true` to remove the overhead.\n",
            "[LightGBM] [Info] Total Bins 1484\n",
            "[LightGBM] [Info] Number of data points in the train set: 313551, number of used features: 14\n",
            "[LightGBM] [Info] Start training from score 62.157481\n"
          ]
        },
        {
          "output_type": "stream",
          "name": "stderr",
          "text": [
            "[I 2024-01-03 05:56:40,903] Trial 0 finished with value: 72.5652397869775 and parameters: {'subsample': 0.9619127950698656, 'colsample_bytree': 0.8510064097471968, 'num_leaves': 149, 'learning_rate': 0.0011928389998486077, 'n_estimators': 253, 'reg_alpha': 0.5820602235596074, 'reg_lambda': 0.20320497519982983, 'min_child_samples': 41}. Best is trial 0 with value: 72.5652397869775.\n"
          ]
        },
        {
          "output_type": "stream",
          "name": "stdout",
          "text": [
            "[LightGBM] [Info] Auto-choosing col-wise multi-threading, the overhead of testing was 0.040151 seconds.\n",
            "You can set `force_col_wise=true` to remove the overhead.\n",
            "[LightGBM] [Info] Total Bins 1484\n",
            "[LightGBM] [Info] Number of data points in the train set: 313551, number of used features: 14\n",
            "[LightGBM] [Info] Start training from score 62.157481\n"
          ]
        },
        {
          "output_type": "stream",
          "name": "stderr",
          "text": [
            "[I 2024-01-03 05:56:59,222] Trial 1 finished with value: 55.676306205857614 and parameters: {'subsample': 0.7528644285782621, 'colsample_bytree': 0.6326606405558598, 'num_leaves': 516, 'learning_rate': 0.008030230087302585, 'n_estimators': 295, 'reg_alpha': 0.2907469449299982, 'reg_lambda': 0.6844210243397759, 'min_child_samples': 32}. Best is trial 1 with value: 55.676306205857614.\n"
          ]
        },
        {
          "output_type": "stream",
          "name": "stdout",
          "text": [
            "[LightGBM] [Info] Auto-choosing col-wise multi-threading, the overhead of testing was 0.042201 seconds.\n",
            "You can set `force_col_wise=true` to remove the overhead.\n",
            "[LightGBM] [Info] Total Bins 1484\n",
            "[LightGBM] [Info] Number of data points in the train set: 313551, number of used features: 14\n",
            "[LightGBM] [Info] Start training from score 62.157481\n"
          ]
        },
        {
          "output_type": "stream",
          "name": "stderr",
          "text": [
            "[I 2024-01-03 05:57:33,832] Trial 2 finished with value: 56.63063748788807 and parameters: {'subsample': 0.6942337142089159, 'colsample_bytree': 0.8880420201793471, 'num_leaves': 996, 'learning_rate': 0.09619537098173239, 'n_estimators': 351, 'reg_alpha': 0.5228046337358803, 'reg_lambda': 0.3727751972170156, 'min_child_samples': 50}. Best is trial 1 with value: 55.676306205857614.\n"
          ]
        },
        {
          "output_type": "stream",
          "name": "stdout",
          "text": [
            "[LightGBM] [Info] Auto-choosing col-wise multi-threading, the overhead of testing was 0.040294 seconds.\n",
            "You can set `force_col_wise=true` to remove the overhead.\n",
            "[LightGBM] [Info] Total Bins 1484\n",
            "[LightGBM] [Info] Number of data points in the train set: 313551, number of used features: 14\n",
            "[LightGBM] [Info] Start training from score 62.157481\n"
          ]
        },
        {
          "output_type": "stream",
          "name": "stderr",
          "text": [
            "[I 2024-01-03 05:57:38,596] Trial 3 finished with value: 57.93325616005983 and parameters: {'subsample': 0.8602991398730413, 'colsample_bytree': 0.7134730451030442, 'num_leaves': 646, 'learning_rate': 0.022910100446271446, 'n_estimators': 67, 'reg_alpha': 0.7800755546215186, 'reg_lambda': 0.981676844384137, 'min_child_samples': 56}. Best is trial 1 with value: 55.676306205857614.\n"
          ]
        },
        {
          "output_type": "stream",
          "name": "stdout",
          "text": [
            "[LightGBM] [Info] Auto-choosing col-wise multi-threading, the overhead of testing was 0.040125 seconds.\n",
            "You can set `force_col_wise=true` to remove the overhead.\n",
            "[LightGBM] [Info] Total Bins 1484\n",
            "[LightGBM] [Info] Number of data points in the train set: 313551, number of used features: 14\n",
            "[LightGBM] [Info] Start training from score 62.157481\n"
          ]
        },
        {
          "output_type": "stream",
          "name": "stderr",
          "text": [
            "[I 2024-01-03 05:57:50,580] Trial 4 finished with value: 53.67475937592734 and parameters: {'subsample': 0.7577690755796873, 'colsample_bytree': 0.6525863984223148, 'num_leaves': 217, 'learning_rate': 0.05706423229855976, 'n_estimators': 398, 'reg_alpha': 0.8832565690272277, 'reg_lambda': 0.42094512849565735, 'min_child_samples': 17}. Best is trial 4 with value: 53.67475937592734.\n"
          ]
        },
        {
          "output_type": "stream",
          "name": "stdout",
          "text": [
            "[LightGBM] [Info] Auto-choosing col-wise multi-threading, the overhead of testing was 0.044487 seconds.\n",
            "You can set `force_col_wise=true` to remove the overhead.\n",
            "[LightGBM] [Info] Total Bins 1484\n",
            "[LightGBM] [Info] Number of data points in the train set: 313551, number of used features: 14\n",
            "[LightGBM] [Info] Start training from score 62.157481\n"
          ]
        },
        {
          "output_type": "stream",
          "name": "stderr",
          "text": [
            "[I 2024-01-03 05:58:05,187] Trial 5 finished with value: 55.20120700614203 and parameters: {'subsample': 0.9836875966306248, 'colsample_bytree': 0.5413549796565373, 'num_leaves': 217, 'learning_rate': 0.08836413964905049, 'n_estimators': 412, 'reg_alpha': 0.7846756682896956, 'reg_lambda': 0.2723353292018911, 'min_child_samples': 83}. Best is trial 4 with value: 53.67475937592734.\n"
          ]
        },
        {
          "output_type": "stream",
          "name": "stdout",
          "text": [
            "[LightGBM] [Info] Auto-choosing col-wise multi-threading, the overhead of testing was 0.041736 seconds.\n",
            "You can set `force_col_wise=true` to remove the overhead.\n",
            "[LightGBM] [Info] Total Bins 1484\n",
            "[LightGBM] [Info] Number of data points in the train set: 313551, number of used features: 14\n",
            "[LightGBM] [Info] Start training from score 62.157481\n"
          ]
        },
        {
          "output_type": "stream",
          "name": "stderr",
          "text": [
            "[I 2024-01-03 05:58:16,024] Trial 6 finished with value: 53.8209277938235 and parameters: {'subsample': 0.5062444305461208, 'colsample_bytree': 0.7346022532020666, 'num_leaves': 228, 'learning_rate': 0.08865290490283576, 'n_estimators': 326, 'reg_alpha': 0.8327587829607294, 'reg_lambda': 0.6833649378354457, 'min_child_samples': 31}. Best is trial 4 with value: 53.67475937592734.\n"
          ]
        },
        {
          "output_type": "stream",
          "name": "stdout",
          "text": [
            "[LightGBM] [Info] Auto-choosing col-wise multi-threading, the overhead of testing was 0.039026 seconds.\n",
            "You can set `force_col_wise=true` to remove the overhead.\n",
            "[LightGBM] [Info] Total Bins 1484\n",
            "[LightGBM] [Info] Number of data points in the train set: 313551, number of used features: 14\n",
            "[LightGBM] [Info] Start training from score 62.157481\n"
          ]
        },
        {
          "output_type": "stream",
          "name": "stderr",
          "text": [
            "[I 2024-01-03 05:58:39,145] Trial 7 finished with value: 55.45144967043437 and parameters: {'subsample': 0.6751736381541229, 'colsample_bytree': 0.6029602351376862, 'num_leaves': 721, 'learning_rate': 0.0688759521071769, 'n_estimators': 305, 'reg_alpha': 0.11532698201500524, 'reg_lambda': 0.3189206579293762, 'min_child_samples': 58}. Best is trial 4 with value: 53.67475937592734.\n"
          ]
        },
        {
          "output_type": "stream",
          "name": "stdout",
          "text": [
            "[LightGBM] [Info] Auto-choosing col-wise multi-threading, the overhead of testing was 0.048872 seconds.\n",
            "You can set `force_col_wise=true` to remove the overhead.\n",
            "[LightGBM] [Info] Total Bins 1484\n",
            "[LightGBM] [Info] Number of data points in the train set: 313551, number of used features: 14\n",
            "[LightGBM] [Info] Start training from score 62.157481\n"
          ]
        },
        {
          "output_type": "stream",
          "name": "stderr",
          "text": [
            "[I 2024-01-03 05:58:43,091] Trial 8 finished with value: 52.56406883622617 and parameters: {'subsample': 0.6563618069418516, 'colsample_bytree': 0.9247407061316626, 'num_leaves': 427, 'learning_rate': 0.05554617627426715, 'n_estimators': 61, 'reg_alpha': 0.8289321945667073, 'reg_lambda': 0.03456723790164207, 'min_child_samples': 46}. Best is trial 8 with value: 52.56406883622617.\n"
          ]
        },
        {
          "output_type": "stream",
          "name": "stdout",
          "text": [
            "[LightGBM] [Info] Auto-choosing row-wise multi-threading, the overhead of testing was 0.012603 seconds.\n",
            "You can set `force_row_wise=true` to remove the overhead.\n",
            "And if memory is not enough, you can set `force_col_wise=true`.\n",
            "[LightGBM] [Info] Total Bins 1484\n",
            "[LightGBM] [Info] Number of data points in the train set: 313551, number of used features: 14\n",
            "[LightGBM] [Info] Start training from score 62.157481\n"
          ]
        },
        {
          "output_type": "stream",
          "name": "stderr",
          "text": [
            "[I 2024-01-03 05:58:48,925] Trial 9 finished with value: 52.26992191673033 and parameters: {'subsample': 0.6508905043085826, 'colsample_bytree': 0.8731527859698023, 'num_leaves': 440, 'learning_rate': 0.07338370805930682, 'n_estimators': 83, 'reg_alpha': 0.3712127446233576, 'reg_lambda': 0.8211451083913751, 'min_child_samples': 31}. Best is trial 9 with value: 52.26992191673033.\n"
          ]
        },
        {
          "output_type": "stream",
          "name": "stdout",
          "text": [
            "[LightGBM] [Info] Auto-choosing col-wise multi-threading, the overhead of testing was 0.051257 seconds.\n",
            "You can set `force_col_wise=true` to remove the overhead.\n",
            "[LightGBM] [Info] Total Bins 1484\n",
            "[LightGBM] [Info] Number of data points in the train set: 313551, number of used features: 14\n",
            "[LightGBM] [Info] Start training from score 62.157481\n"
          ]
        },
        {
          "output_type": "stream",
          "name": "stderr",
          "text": [
            "[I 2024-01-03 05:59:00,956] Trial 10 finished with value: 51.640568647009495 and parameters: {'subsample': 0.5331060750499489, 'colsample_bytree': 0.8425683792680826, 'num_leaves': 938, 'learning_rate': 0.03371476791471424, 'n_estimators': 159, 'reg_alpha': 0.3161387076489199, 'reg_lambda': 0.9533207229825721, 'min_child_samples': 5}. Best is trial 10 with value: 51.640568647009495.\n"
          ]
        },
        {
          "output_type": "stream",
          "name": "stdout",
          "text": [
            "[LightGBM] [Info] Auto-choosing row-wise multi-threading, the overhead of testing was 0.011071 seconds.\n",
            "You can set `force_row_wise=true` to remove the overhead.\n",
            "And if memory is not enough, you can set `force_col_wise=true`.\n",
            "[LightGBM] [Info] Total Bins 1484\n",
            "[LightGBM] [Info] Number of data points in the train set: 313551, number of used features: 14\n",
            "[LightGBM] [Info] Start training from score 62.157481\n"
          ]
        },
        {
          "output_type": "stream",
          "name": "stderr",
          "text": [
            "[I 2024-01-03 05:59:15,171] Trial 11 finished with value: 51.138471241736674 and parameters: {'subsample': 0.5211777095402295, 'colsample_bytree': 0.9979466670237763, 'num_leaves': 977, 'learning_rate': 0.027299364445377408, 'n_estimators': 177, 'reg_alpha': 0.3148293707520504, 'reg_lambda': 0.9716429140900673, 'min_child_samples': 7}. Best is trial 11 with value: 51.138471241736674.\n"
          ]
        },
        {
          "output_type": "stream",
          "name": "stdout",
          "text": [
            "[LightGBM] [Info] Auto-choosing row-wise multi-threading, the overhead of testing was 0.012737 seconds.\n",
            "You can set `force_row_wise=true` to remove the overhead.\n",
            "And if memory is not enough, you can set `force_col_wise=true`.\n",
            "[LightGBM] [Info] Total Bins 1484\n",
            "[LightGBM] [Info] Number of data points in the train set: 313551, number of used features: 14\n",
            "[LightGBM] [Info] Start training from score 62.157481\n"
          ]
        },
        {
          "output_type": "stream",
          "name": "stderr",
          "text": [
            "[I 2024-01-03 05:59:29,987] Trial 12 finished with value: 50.65850267155881 and parameters: {'subsample': 0.5241920153258646, 'colsample_bytree': 0.982290706487749, 'num_leaves': 980, 'learning_rate': 0.03193930780797749, 'n_estimators': 183, 'reg_alpha': 0.050280225503389786, 'reg_lambda': 0.979059995323867, 'min_child_samples': 9}. Best is trial 12 with value: 50.65850267155881.\n"
          ]
        },
        {
          "output_type": "stream",
          "name": "stdout",
          "text": [
            "[LightGBM] [Info] Auto-choosing row-wise multi-threading, the overhead of testing was 0.011156 seconds.\n",
            "You can set `force_row_wise=true` to remove the overhead.\n",
            "And if memory is not enough, you can set `force_col_wise=true`.\n",
            "[LightGBM] [Info] Total Bins 1484\n",
            "[LightGBM] [Info] Number of data points in the train set: 313551, number of used features: 14\n",
            "[LightGBM] [Info] Start training from score 62.157481\n"
          ]
        },
        {
          "output_type": "stream",
          "name": "stderr",
          "text": [
            "[I 2024-01-03 05:59:43,644] Trial 13 finished with value: 50.86270271966277 and parameters: {'subsample': 0.5733987648050503, 'colsample_bytree': 0.9833309227878447, 'num_leaves': 832, 'learning_rate': 0.035754346469276894, 'n_estimators': 199, 'reg_alpha': 0.010075312558309978, 'reg_lambda': 0.6214260949595649, 'min_child_samples': 5}. Best is trial 12 with value: 50.65850267155881.\n"
          ]
        },
        {
          "output_type": "stream",
          "name": "stdout",
          "text": [
            "[LightGBM] [Info] Auto-choosing row-wise multi-threading, the overhead of testing was 0.010949 seconds.\n",
            "You can set `force_row_wise=true` to remove the overhead.\n",
            "And if memory is not enough, you can set `force_col_wise=true`.\n",
            "[LightGBM] [Info] Total Bins 1484\n",
            "[LightGBM] [Info] Number of data points in the train set: 313551, number of used features: 14\n",
            "[LightGBM] [Info] Start training from score 62.157481\n"
          ]
        },
        {
          "output_type": "stream",
          "name": "stderr",
          "text": [
            "[I 2024-01-03 05:59:59,102] Trial 14 finished with value: 50.87945366272477 and parameters: {'subsample': 0.6013108103993049, 'colsample_bytree': 0.987078058201417, 'num_leaves': 789, 'learning_rate': 0.03980669598786122, 'n_estimators': 228, 'reg_alpha': 0.0712377554430681, 'reg_lambda': 0.5809176982969982, 'min_child_samples': 19}. Best is trial 12 with value: 50.65850267155881.\n"
          ]
        },
        {
          "output_type": "stream",
          "name": "stdout",
          "text": [
            "[LightGBM] [Info] Auto-choosing row-wise multi-threading, the overhead of testing was 0.015420 seconds.\n",
            "You can set `force_row_wise=true` to remove the overhead.\n",
            "And if memory is not enough, you can set `force_col_wise=true`.\n",
            "[LightGBM] [Info] Total Bins 1483\n",
            "[LightGBM] [Info] Number of data points in the train set: 391939, number of used features: 14\n",
            "[LightGBM] [Info] Start training from score 61.940835\n",
            "Optuna - Best MAE: 50.65850267155881\n",
            "Optuna - Best Parameters: {'subsample': 0.5241920153258646, 'colsample_bytree': 0.982290706487749, 'num_leaves': 980, 'learning_rate': 0.03193930780797749, 'n_estimators': 183, 'reg_alpha': 0.050280225503389786, 'reg_lambda': 0.979059995323867, 'min_child_samples': 9}\n"
          ]
        }
      ]
    },
    {
      "cell_type": "markdown",
      "source": [
        "## Optuna - XGBoost / StandardScaler 사용"
      ],
      "metadata": {
        "id": "TL6X_V6C64z0"
      },
      "id": "TL6X_V6C64z0"
    },
    {
      "cell_type": "code",
      "source": [
        "# !pip install optuna xgboost"
      ],
      "metadata": {
        "id": "GmNB6qi264SW"
      },
      "id": "GmNB6qi264SW",
      "execution_count": null,
      "outputs": []
    },
    {
      "cell_type": "code",
      "source": [
        "import optuna\n",
        "import xgboost as xgb\n",
        "from sklearn.model_selection import train_test_split\n",
        "from sklearn.preprocessing import StandardScaler\n",
        "from sklearn.metrics import mean_absolute_error\n",
        "\n",
        "def objective(trial, X, y):\n",
        "    params = {\n",
        "        'objective': 'reg:squarederror',  # Regression 문제 설정\n",
        "        'eval_metric': 'mae',  # MAE를 평가 지표로 사용\n",
        "        'booster': 'gbtree',  # 트리 기반 부스팅 알고리즘 사용\n",
        "        'subsample': trial.suggest_float('subsample', 0.5, 1.0),\n",
        "        'colsample_bytree': trial.suggest_float('colsample_bytree', 0.5, 1.0),\n",
        "        'learning_rate': trial.suggest_float('learning_rate', 0.001, 0.1),\n",
        "        'max_depth': trial.suggest_int('max_depth', 3, 10),\n",
        "        'n_estimators': trial.suggest_int('n_estimators', 50, 500),\n",
        "        'reg_alpha': trial.suggest_float('reg_alpha', 0.0, 1.0),\n",
        "        'reg_lambda': trial.suggest_float('reg_lambda', 0.0, 1.0),\n",
        "    }\n",
        "\n",
        "    # 데이터 분할 및 스케일링\n",
        "    X_train, X_val, y_train, y_val = train_test_split(X, y, test_size=0.2, random_state=42)\n",
        "    scaler = StandardScaler()\n",
        "    X_train_scaled = scaler.fit_transform(X_train)\n",
        "    X_val_scaled = scaler.transform(X_val)\n",
        "\n",
        "    model = xgb.XGBRegressor(**params)\n",
        "    model.fit(X_train_scaled, y_train)\n",
        "\n",
        "    val_pred = model.predict(X_val_scaled)\n",
        "    mae = mean_absolute_error(y_val, val_pred)\n",
        "\n",
        "    return mae\n",
        "\n",
        "# Optuna 스터디 생성\n",
        "study = optuna.create_study(direction='minimize')\n",
        "study.optimize(lambda trial: objective(trial, X_train_reduced, y_train), n_trials=20)\n",
        "\n",
        "best_params = study.best_params\n",
        "best_params['objective'] = 'reg:squarederror'\n",
        "best_params['eval_metric'] = 'mae'\n",
        "best_params['booster'] = 'gbtree'\n",
        "best_params['n_jobs'] = -1\n",
        "\n",
        "# 최적의 하이퍼파라미터로 모델 재학습\n",
        "best_model = xgb.XGBRegressor(**best_params)\n",
        "best_model.fit(X_train_reduced, y_train)\n",
        "\n",
        "# 최적의 모델로 test 데이터에 대한 예측 수행\n",
        "final_predictions_optuna = best_model.predict(X_test_reduced)\n",
        "final_predictions_optuna = np.where(final_predictions_optuna < 0, 0, final_predictions_optuna)\n",
        "\n",
        "# 결과 출력\n",
        "print(\"Optuna - Best MAE:\", study.best_value)\n",
        "print(\"Optuna - Best Parameters:\", study.best_params)"
      ],
      "metadata": {
        "colab": {
          "base_uri": "https://localhost:8080/"
        },
        "id": "kwzV0U137Lsy",
        "outputId": "66904846-5bb9-499b-86ff-8588b65e1f3a"
      },
      "id": "kwzV0U137Lsy",
      "execution_count": null,
      "outputs": [
        {
          "output_type": "stream",
          "name": "stderr",
          "text": [
            "[I 2024-01-03 06:05:08,046] A new study created in memory with name: no-name-70268726-2167-4d0f-ac74-d1bf9a5d8bec\n",
            "[I 2024-01-03 06:05:10,329] Trial 0 finished with value: 56.00406808633101 and parameters: {'subsample': 0.6088361768310258, 'colsample_bytree': 0.6310771965597587, 'learning_rate': 0.09306670554477654, 'max_depth': 7, 'n_estimators': 69, 'reg_alpha': 0.4892318611812255, 'reg_lambda': 0.09914561672975486}. Best is trial 0 with value: 56.00406808633101.\n",
            "[I 2024-01-03 06:05:16,380] Trial 1 finished with value: 55.57444647471065 and parameters: {'subsample': 0.8855064229413996, 'colsample_bytree': 0.8343691404874394, 'learning_rate': 0.033749836908796564, 'max_depth': 6, 'n_estimators': 236, 'reg_alpha': 0.7165640255127314, 'reg_lambda': 0.9366630561989553}. Best is trial 1 with value: 55.57444647471065.\n",
            "[I 2024-01-03 06:05:25,100] Trial 2 finished with value: 55.78671394797741 and parameters: {'subsample': 0.6780707378645798, 'colsample_bytree': 0.8022800524370624, 'learning_rate': 0.09212364538024938, 'max_depth': 5, 'n_estimators': 420, 'reg_alpha': 0.011074966349128523, 'reg_lambda': 0.45774208102764646}. Best is trial 1 with value: 55.57444647471065.\n",
            "[I 2024-01-03 06:05:34,182] Trial 3 finished with value: 55.52166351023465 and parameters: {'subsample': 0.6392147535189546, 'colsample_bytree': 0.9263685049836814, 'learning_rate': 0.09358033308425455, 'max_depth': 5, 'n_estimators': 437, 'reg_alpha': 0.46962570876159715, 'reg_lambda': 0.6626935534669438}. Best is trial 3 with value: 55.52166351023465.\n",
            "[I 2024-01-03 06:05:45,958] Trial 4 finished with value: 54.93381446434615 and parameters: {'subsample': 0.637840236893054, 'colsample_bytree': 0.7927377840232395, 'learning_rate': 0.09020121439152526, 'max_depth': 7, 'n_estimators': 442, 'reg_alpha': 0.8292096374349834, 'reg_lambda': 0.05441888778894877}. Best is trial 4 with value: 54.93381446434615.\n",
            "[I 2024-01-03 06:05:48,819] Trial 5 finished with value: 63.584291729429765 and parameters: {'subsample': 0.7047146464122463, 'colsample_bytree': 0.5898460155655242, 'learning_rate': 0.01313236651388714, 'max_depth': 3, 'n_estimators': 187, 'reg_alpha': 0.1926764634174054, 'reg_lambda': 0.33028475245592015}. Best is trial 4 with value: 54.93381446434615.\n",
            "[I 2024-01-03 06:05:54,199] Trial 6 finished with value: 55.30388365466795 and parameters: {'subsample': 0.9632414573284733, 'colsample_bytree': 0.7710582906115475, 'learning_rate': 0.06488657108584518, 'max_depth': 6, 'n_estimators': 281, 'reg_alpha': 0.8279636284372212, 'reg_lambda': 0.8373881791914757}. Best is trial 4 with value: 54.93381446434615.\n",
            "[I 2024-01-03 06:06:12,411] Trial 7 finished with value: 54.01215804052252 and parameters: {'subsample': 0.7203045630672167, 'colsample_bytree': 0.7562876970918955, 'learning_rate': 0.0695663561468899, 'max_depth': 9, 'n_estimators': 453, 'reg_alpha': 0.7682045739723937, 'reg_lambda': 0.7396163736178563}. Best is trial 7 with value: 54.01215804052252.\n",
            "[I 2024-01-03 06:06:15,395] Trial 8 finished with value: 58.18548542273086 and parameters: {'subsample': 0.7262353441920144, 'colsample_bytree': 0.7239338597108662, 'learning_rate': 0.06405752780628705, 'max_depth': 4, 'n_estimators': 182, 'reg_alpha': 0.44939558633404897, 'reg_lambda': 0.5170375607388695}. Best is trial 7 with value: 54.01215804052252.\n",
            "[I 2024-01-03 06:06:17,811] Trial 9 finished with value: 60.5145120414063 and parameters: {'subsample': 0.9217981251621357, 'colsample_bytree': 0.9354498715155077, 'learning_rate': 0.018912831783901005, 'max_depth': 5, 'n_estimators': 105, 'reg_alpha': 0.090522097333398, 'reg_lambda': 0.5015732306773392}. Best is trial 7 with value: 54.01215804052252.\n",
            "[I 2024-01-03 06:06:33,934] Trial 10 finished with value: 55.346703421160484 and parameters: {'subsample': 0.5079939122727816, 'colsample_bytree': 0.5209699593430637, 'learning_rate': 0.05572671065816801, 'max_depth': 10, 'n_estimators': 346, 'reg_alpha': 0.9866478786379695, 'reg_lambda': 0.7379813352289794}. Best is trial 7 with value: 54.01215804052252.\n",
            "[I 2024-01-03 06:06:52,115] Trial 11 finished with value: 55.002677835982155 and parameters: {'subsample': 0.8153642082986274, 'colsample_bytree': 0.6889194846834634, 'learning_rate': 0.07580698266710681, 'max_depth': 9, 'n_estimators': 497, 'reg_alpha': 0.709337697794794, 'reg_lambda': 0.08551120986957073}. Best is trial 7 with value: 54.01215804052252.\n",
            "[I 2024-01-03 06:07:04,458] Trial 12 finished with value: 54.52445841882275 and parameters: {'subsample': 0.564139291377403, 'colsample_bytree': 0.8448346552663438, 'learning_rate': 0.077273330444249, 'max_depth': 8, 'n_estimators': 371, 'reg_alpha': 0.9216703398362873, 'reg_lambda': 0.2570163433405525}. Best is trial 7 with value: 54.01215804052252.\n",
            "[I 2024-01-03 06:07:17,807] Trial 13 finished with value: 53.60477489750604 and parameters: {'subsample': 0.5077283949174004, 'colsample_bytree': 0.8666508352476695, 'learning_rate': 0.041481133395111044, 'max_depth': 9, 'n_estimators': 345, 'reg_alpha': 0.9867381913278843, 'reg_lambda': 0.2875816670646081}. Best is trial 13 with value: 53.60477489750604.\n",
            "[I 2024-01-03 06:07:33,791] Trial 14 finished with value: 52.209761462711455 and parameters: {'subsample': 0.8041707110913701, 'colsample_bytree': 0.9873825759881006, 'learning_rate': 0.037120714270559414, 'max_depth': 10, 'n_estimators': 340, 'reg_alpha': 0.6870927358102865, 'reg_lambda': 0.6692450991867427}. Best is trial 14 with value: 52.209761462711455.\n",
            "[I 2024-01-03 06:07:48,898] Trial 15 finished with value: 52.44864869302069 and parameters: {'subsample': 0.8062527794301996, 'colsample_bytree': 0.9676229879147488, 'learning_rate': 0.03859371546048974, 'max_depth': 10, 'n_estimators': 322, 'reg_alpha': 0.6205558020605657, 'reg_lambda': 0.2559388317969027}. Best is trial 14 with value: 52.209761462711455.\n",
            "[I 2024-01-03 06:08:06,071] Trial 16 finished with value: 52.37322973376182 and parameters: {'subsample': 0.8040421965432261, 'colsample_bytree': 0.9925068882020782, 'learning_rate': 0.02777170674418715, 'max_depth': 10, 'n_estimators': 295, 'reg_alpha': 0.6164624673757555, 'reg_lambda': 0.618345780375633}. Best is trial 14 with value: 52.209761462711455.\n",
            "[I 2024-01-03 06:08:19,465] Trial 17 finished with value: 52.46501429796485 and parameters: {'subsample': 0.8244632002323284, 'colsample_bytree': 0.982872599552046, 'learning_rate': 0.02438074795038043, 'max_depth': 10, 'n_estimators': 271, 'reg_alpha': 0.348364581131434, 'reg_lambda': 0.6424068193641508}. Best is trial 14 with value: 52.209761462711455.\n",
            "[I 2024-01-03 06:08:25,856] Trial 18 finished with value: 67.62425063226921 and parameters: {'subsample': 0.8558117359612156, 'colsample_bytree': 0.9119794749611774, 'learning_rate': 0.0030914874878618798, 'max_depth': 8, 'n_estimators': 216, 'reg_alpha': 0.6087382496351001, 'reg_lambda': 0.6184847729406507}. Best is trial 14 with value: 52.209761462711455.\n",
            "[I 2024-01-03 06:08:35,837] Trial 19 finished with value: 53.1814551238425 and parameters: {'subsample': 0.7735680690209628, 'colsample_bytree': 0.993675987001635, 'learning_rate': 0.048756378613015204, 'max_depth': 8, 'n_estimators': 292, 'reg_alpha': 0.6330370325899422, 'reg_lambda': 0.938648550226594}. Best is trial 14 with value: 52.209761462711455.\n"
          ]
        },
        {
          "output_type": "stream",
          "name": "stdout",
          "text": [
            "Optuna - Best MAE: 52.209761462711455\n",
            "Optuna - Best Parameters: {'subsample': 0.8041707110913701, 'colsample_bytree': 0.9873825759881006, 'learning_rate': 0.037120714270559414, 'max_depth': 10, 'n_estimators': 340, 'reg_alpha': 0.6870927358102865, 'reg_lambda': 0.6692450991867427}\n"
          ]
        }
      ]
    },
    {
      "cell_type": "markdown",
      "source": [
        "# Logistic Regression Model_01"
      ],
      "metadata": {
        "id": "EdLiILhMtwRt"
      },
      "id": "EdLiILhMtwRt"
    },
    {
      "cell_type": "code",
      "source": [
        "# 선택한 특성들\n",
        "selected_features = ['BREADTH', 'LENGTH', 'DEADWEIGHT', 'GT', 'DEPTH']\n",
        "\n",
        "# 특성 선택\n",
        "X_train_selected = train[selected_features]\n",
        "Y_train = train[\"CI_HOUR\"]\n",
        "\n",
        "# 데이터 분할 (검증 데이터)\n",
        "X_train, X_val, Y_train, Y_val = train_test_split(X_train_selected, Y_train, test_size=0.2, random_state=42)\n",
        "\n",
        "# Linear Regression 모델 생성 및 훈련\n",
        "linear_model = LinearRegression()\n",
        "linear_model.fit(X_train, Y_train)\n",
        "\n",
        "# Validation set에 대한 예측 수행\n",
        "val_pred_linear = linear_model.predict(X_val)\n",
        "\n",
        "# Validation set에 대한 MAE 계산\n",
        "val_mae_linear = mean_absolute_error(Y_val, val_pred_linear)\n",
        "\n",
        "# Validation MAE 출력\n",
        "print(f\"Validation : MAE: {val_mae_linear}\")"
      ],
      "metadata": {
        "colab": {
          "base_uri": "https://localhost:8080/"
        },
        "id": "KT393KKPqDl3",
        "outputId": "5a2cf38c-f64d-4860-f940-02392f652ca4"
      },
      "id": "KT393KKPqDl3",
      "execution_count": null,
      "outputs": [
        {
          "output_type": "stream",
          "name": "stdout",
          "text": [
            "Validation : MAE: 77.56147440737995\n"
          ]
        }
      ]
    },
    {
      "cell_type": "code",
      "source": [
        "train.keys()"
      ],
      "metadata": {
        "colab": {
          "base_uri": "https://localhost:8080/"
        },
        "id": "uYpMAdyPr9zi",
        "outputId": "8d526322-c9a6-436c-84b5-2e1992450c43"
      },
      "id": "uYpMAdyPr9zi",
      "execution_count": null,
      "outputs": [
        {
          "output_type": "execute_result",
          "data": {
            "text/plain": [
              "Index(['ARI_CO', 'ARI_PO', 'SHIP_TYPE_CATEGORY', 'DIST', 'ID', 'BREADTH',\n",
              "       'BUILT', 'DEADWEIGHT', 'DEPTH', 'DRAUGHT', 'GT', 'LENGTH',\n",
              "       'SHIPMANAGER', 'FLAG', 'U_WIND', 'V_WIND', 'AIR_TEMPERATURE', 'BN',\n",
              "       'ATA_LT', 'PORT_SIZE', 'CI_HOUR', 'year', 'month', 'day', 'hour',\n",
              "       'minute', 'weekday'],\n",
              "      dtype='object')"
            ]
          },
          "metadata": {},
          "execution_count": 50
        }
      ]
    },
    {
      "cell_type": "markdown",
      "source": [
        "# Logistic Regression Model_02"
      ],
      "metadata": {
        "id": "msxe3ZJ5s78D"
      },
      "id": "msxe3ZJ5s78D"
    },
    {
      "cell_type": "code",
      "source": [
        "# 선택한 특성들\n",
        "selected_features = ['ARI_CO', 'ARI_PO', 'SHIP_TYPE_CATEGORY', 'DIST', 'ID', 'BREADTH', 'DEADWEIGHT', 'GT', 'LENGTH', 'SHIPMANAGER', 'FLAG', 'AIR_TEMPERATURE', 'BN', 'ATA_LT', 'PORT_SIZE', 'year', 'month', 'day', 'hour', 'minute', 'weekday']\n",
        "\n",
        "# 특성 선택\n",
        "X_train_selected = train[selected_features]\n",
        "Y_train = train[\"CI_HOUR\"]\n",
        "\n",
        "# 데이터 분할 (검증 데이터)\n",
        "X_train, X_val, Y_train, Y_val = train_test_split(X_train_selected, Y_train, test_size=0.2, random_state=42)\n",
        "\n",
        "# Linear Regression 모델 생성 및 훈련\n",
        "linear_model = LinearRegression()\n",
        "linear_model.fit(X_train, Y_train)\n",
        "\n",
        "# Validation set에 대한 예측 수행\n",
        "val_pred_linear = linear_model.predict(X_val)\n",
        "\n",
        "# Validation set에 대한 MAE 계산\n",
        "val_mae_linear = mean_absolute_error(Y_val, val_pred_linear)\n",
        "\n",
        "# Validation MAE 출력\n",
        "print(f\"Validation : MAE: {val_mae_linear}\")"
      ],
      "metadata": {
        "colab": {
          "base_uri": "https://localhost:8080/"
        },
        "id": "BTkfYi4mr1CM",
        "outputId": "2948985f-09b3-4990-a734-89aed0eeb2de"
      },
      "id": "BTkfYi4mr1CM",
      "execution_count": null,
      "outputs": [
        {
          "output_type": "stream",
          "name": "stdout",
          "text": [
            "Validation : MAE: 72.12070620278678\n"
          ]
        }
      ]
    },
    {
      "cell_type": "markdown",
      "source": [
        "## RandomForest Model"
      ],
      "metadata": {
        "id": "8GTIpR_4tAmV"
      },
      "id": "8GTIpR_4tAmV"
    },
    {
      "cell_type": "code",
      "source": [
        "from sklearn.ensemble import RandomForestRegressor\n",
        "from sklearn.model_selection import train_test_split\n",
        "from sklearn.metrics import mean_absolute_error\n",
        "import matplotlib.pyplot as plt\n",
        "\n",
        "# 선택한 특성들\n",
        "selected_features = ['ARI_CO', 'ARI_PO', 'SHIP_TYPE_CATEGORY', 'DIST', 'ID', 'BREADTH', 'DEADWEIGHT', 'GT', 'LENGTH', 'SHIPMANAGER', 'FLAG', 'AIR_TEMPERATURE', 'BN', 'ATA_LT', 'PORT_SIZE', 'year', 'month', 'day', 'hour', 'minute', 'weekday']\n",
        "\n",
        "# 특성 선택\n",
        "X_train_selected = train[selected_features]\n",
        "Y_train = train[\"CI_HOUR\"]\n",
        "\n",
        "# 데이터 분할 (검증 데이터)\n",
        "X_train, X_val, Y_train, Y_val = train_test_split(X_train_selected, Y_train, test_size=0.2, random_state=42)\n",
        "\n",
        "# Random Forest 모델 생성 및 훈련\n",
        "randomforest_model = RandomForestRegressor()\n",
        "randomforest_model.fit(X_train, Y_train)\n",
        "\n",
        "# 특성 중요도 시각화\n",
        "feature_importances = randomforest_model.feature_importances_\n",
        "sorted_idx = feature_importances.argsort()\n",
        "\n",
        "plt.figure(figsize=(10, len(X_train.columns)))\n",
        "plt.title(\"Feature Importances (Random Forest)\")\n",
        "plt.barh(range(X_train.shape[1]), feature_importances[sorted_idx], align='center')\n",
        "plt.yticks(range(X_train.shape[1]), X_train.columns[sorted_idx])\n",
        "plt.xlabel('Importance')\n",
        "plt.show()\n",
        "\n",
        "# R-squared 값 출력\n",
        "r_squared = randomforest_model.score(X_val, Y_val)\n",
        "print(f\"R-squared: {r_squared}\")\n",
        "\n",
        "# Validation set에 대한 예측 수행\n",
        "val_pred_rf = randomforest_model.predict(X_val)\n",
        "\n",
        "# Validation set에 대한 MAE 계산\n",
        "val_mae_rf = mean_absolute_error(Y_val, val_pred_rf)\n",
        "\n",
        "# Validation MAE 출력\n",
        "print(f\"Validation : MAE: {val_mae_rf}\")\n"
      ],
      "metadata": {
        "colab": {
          "base_uri": "https://localhost:8080/",
          "height": 403
        },
        "id": "04eIxC_RtAUK",
        "outputId": "4cafa869-3299-4157-8a3f-ee209e94c699"
      },
      "id": "04eIxC_RtAUK",
      "execution_count": null,
      "outputs": [
        {
          "output_type": "error",
          "ename": "KeyboardInterrupt",
          "evalue": "ignored",
          "traceback": [
            "\u001b[0;31m---------------------------------------------------------------------------\u001b[0m",
            "\u001b[0;31mKeyboardInterrupt\u001b[0m                         Traceback (most recent call last)",
            "\u001b[0;32m<ipython-input-54-0aceb8d01d92>\u001b[0m in \u001b[0;36m<cell line: 18>\u001b[0;34m()\u001b[0m\n\u001b[1;32m     16\u001b[0m \u001b[0;31m# Random Forest 모델 생성 및 훈련\u001b[0m\u001b[0;34m\u001b[0m\u001b[0;34m\u001b[0m\u001b[0m\n\u001b[1;32m     17\u001b[0m \u001b[0mrandomforest_model\u001b[0m \u001b[0;34m=\u001b[0m \u001b[0mRandomForestRegressor\u001b[0m\u001b[0;34m(\u001b[0m\u001b[0;34m)\u001b[0m\u001b[0;34m\u001b[0m\u001b[0;34m\u001b[0m\u001b[0m\n\u001b[0;32m---> 18\u001b[0;31m \u001b[0mrandomforest_model\u001b[0m\u001b[0;34m.\u001b[0m\u001b[0mfit\u001b[0m\u001b[0;34m(\u001b[0m\u001b[0mX_train\u001b[0m\u001b[0;34m,\u001b[0m \u001b[0mY_train\u001b[0m\u001b[0;34m)\u001b[0m\u001b[0;34m\u001b[0m\u001b[0;34m\u001b[0m\u001b[0m\n\u001b[0m\u001b[1;32m     19\u001b[0m \u001b[0;34m\u001b[0m\u001b[0m\n\u001b[1;32m     20\u001b[0m \u001b[0;31m# 특성 중요도 시각화\u001b[0m\u001b[0;34m\u001b[0m\u001b[0;34m\u001b[0m\u001b[0m\n",
            "\u001b[0;32m/usr/local/lib/python3.10/dist-packages/sklearn/ensemble/_forest.py\u001b[0m in \u001b[0;36mfit\u001b[0;34m(self, X, y, sample_weight)\u001b[0m\n\u001b[1;32m    471\u001b[0m             \u001b[0;31m# parallel_backend contexts set at a higher level,\u001b[0m\u001b[0;34m\u001b[0m\u001b[0;34m\u001b[0m\u001b[0m\n\u001b[1;32m    472\u001b[0m             \u001b[0;31m# since correctness does not rely on using threads.\u001b[0m\u001b[0;34m\u001b[0m\u001b[0;34m\u001b[0m\u001b[0m\n\u001b[0;32m--> 473\u001b[0;31m             trees = Parallel(\n\u001b[0m\u001b[1;32m    474\u001b[0m                 \u001b[0mn_jobs\u001b[0m\u001b[0;34m=\u001b[0m\u001b[0mself\u001b[0m\u001b[0;34m.\u001b[0m\u001b[0mn_jobs\u001b[0m\u001b[0;34m,\u001b[0m\u001b[0;34m\u001b[0m\u001b[0;34m\u001b[0m\u001b[0m\n\u001b[1;32m    475\u001b[0m                 \u001b[0mverbose\u001b[0m\u001b[0;34m=\u001b[0m\u001b[0mself\u001b[0m\u001b[0;34m.\u001b[0m\u001b[0mverbose\u001b[0m\u001b[0;34m,\u001b[0m\u001b[0;34m\u001b[0m\u001b[0;34m\u001b[0m\u001b[0m\n",
            "\u001b[0;32m/usr/local/lib/python3.10/dist-packages/sklearn/utils/parallel.py\u001b[0m in \u001b[0;36m__call__\u001b[0;34m(self, iterable)\u001b[0m\n\u001b[1;32m     61\u001b[0m             \u001b[0;32mfor\u001b[0m \u001b[0mdelayed_func\u001b[0m\u001b[0;34m,\u001b[0m \u001b[0margs\u001b[0m\u001b[0;34m,\u001b[0m \u001b[0mkwargs\u001b[0m \u001b[0;32min\u001b[0m \u001b[0miterable\u001b[0m\u001b[0;34m\u001b[0m\u001b[0;34m\u001b[0m\u001b[0m\n\u001b[1;32m     62\u001b[0m         )\n\u001b[0;32m---> 63\u001b[0;31m         \u001b[0;32mreturn\u001b[0m \u001b[0msuper\u001b[0m\u001b[0;34m(\u001b[0m\u001b[0;34m)\u001b[0m\u001b[0;34m.\u001b[0m\u001b[0m__call__\u001b[0m\u001b[0;34m(\u001b[0m\u001b[0miterable_with_config\u001b[0m\u001b[0;34m)\u001b[0m\u001b[0;34m\u001b[0m\u001b[0;34m\u001b[0m\u001b[0m\n\u001b[0m\u001b[1;32m     64\u001b[0m \u001b[0;34m\u001b[0m\u001b[0m\n\u001b[1;32m     65\u001b[0m \u001b[0;34m\u001b[0m\u001b[0m\n",
            "\u001b[0;32m/usr/local/lib/python3.10/dist-packages/joblib/parallel.py\u001b[0m in \u001b[0;36m__call__\u001b[0;34m(self, iterable)\u001b[0m\n\u001b[1;32m   1861\u001b[0m             \u001b[0moutput\u001b[0m \u001b[0;34m=\u001b[0m \u001b[0mself\u001b[0m\u001b[0;34m.\u001b[0m\u001b[0m_get_sequential_output\u001b[0m\u001b[0;34m(\u001b[0m\u001b[0miterable\u001b[0m\u001b[0;34m)\u001b[0m\u001b[0;34m\u001b[0m\u001b[0;34m\u001b[0m\u001b[0m\n\u001b[1;32m   1862\u001b[0m             \u001b[0mnext\u001b[0m\u001b[0;34m(\u001b[0m\u001b[0moutput\u001b[0m\u001b[0;34m)\u001b[0m\u001b[0;34m\u001b[0m\u001b[0;34m\u001b[0m\u001b[0m\n\u001b[0;32m-> 1863\u001b[0;31m             \u001b[0;32mreturn\u001b[0m \u001b[0moutput\u001b[0m \u001b[0;32mif\u001b[0m \u001b[0mself\u001b[0m\u001b[0;34m.\u001b[0m\u001b[0mreturn_generator\u001b[0m \u001b[0;32melse\u001b[0m \u001b[0mlist\u001b[0m\u001b[0;34m(\u001b[0m\u001b[0moutput\u001b[0m\u001b[0;34m)\u001b[0m\u001b[0;34m\u001b[0m\u001b[0;34m\u001b[0m\u001b[0m\n\u001b[0m\u001b[1;32m   1864\u001b[0m \u001b[0;34m\u001b[0m\u001b[0m\n\u001b[1;32m   1865\u001b[0m         \u001b[0;31m# Let's create an ID that uniquely identifies the current call. If the\u001b[0m\u001b[0;34m\u001b[0m\u001b[0;34m\u001b[0m\u001b[0m\n",
            "\u001b[0;32m/usr/local/lib/python3.10/dist-packages/joblib/parallel.py\u001b[0m in \u001b[0;36m_get_sequential_output\u001b[0;34m(self, iterable)\u001b[0m\n\u001b[1;32m   1790\u001b[0m                 \u001b[0mself\u001b[0m\u001b[0;34m.\u001b[0m\u001b[0mn_dispatched_batches\u001b[0m \u001b[0;34m+=\u001b[0m \u001b[0;36m1\u001b[0m\u001b[0;34m\u001b[0m\u001b[0;34m\u001b[0m\u001b[0m\n\u001b[1;32m   1791\u001b[0m                 \u001b[0mself\u001b[0m\u001b[0;34m.\u001b[0m\u001b[0mn_dispatched_tasks\u001b[0m \u001b[0;34m+=\u001b[0m \u001b[0;36m1\u001b[0m\u001b[0;34m\u001b[0m\u001b[0;34m\u001b[0m\u001b[0m\n\u001b[0;32m-> 1792\u001b[0;31m                 \u001b[0mres\u001b[0m \u001b[0;34m=\u001b[0m \u001b[0mfunc\u001b[0m\u001b[0;34m(\u001b[0m\u001b[0;34m*\u001b[0m\u001b[0margs\u001b[0m\u001b[0;34m,\u001b[0m \u001b[0;34m**\u001b[0m\u001b[0mkwargs\u001b[0m\u001b[0;34m)\u001b[0m\u001b[0;34m\u001b[0m\u001b[0;34m\u001b[0m\u001b[0m\n\u001b[0m\u001b[1;32m   1793\u001b[0m                 \u001b[0mself\u001b[0m\u001b[0;34m.\u001b[0m\u001b[0mn_completed_tasks\u001b[0m \u001b[0;34m+=\u001b[0m \u001b[0;36m1\u001b[0m\u001b[0;34m\u001b[0m\u001b[0;34m\u001b[0m\u001b[0m\n\u001b[1;32m   1794\u001b[0m                 \u001b[0mself\u001b[0m\u001b[0;34m.\u001b[0m\u001b[0mprint_progress\u001b[0m\u001b[0;34m(\u001b[0m\u001b[0;34m)\u001b[0m\u001b[0;34m\u001b[0m\u001b[0;34m\u001b[0m\u001b[0m\n",
            "\u001b[0;32m/usr/local/lib/python3.10/dist-packages/sklearn/utils/parallel.py\u001b[0m in \u001b[0;36m__call__\u001b[0;34m(self, *args, **kwargs)\u001b[0m\n\u001b[1;32m    121\u001b[0m             \u001b[0mconfig\u001b[0m \u001b[0;34m=\u001b[0m \u001b[0;34m{\u001b[0m\u001b[0;34m}\u001b[0m\u001b[0;34m\u001b[0m\u001b[0;34m\u001b[0m\u001b[0m\n\u001b[1;32m    122\u001b[0m         \u001b[0;32mwith\u001b[0m \u001b[0mconfig_context\u001b[0m\u001b[0;34m(\u001b[0m\u001b[0;34m**\u001b[0m\u001b[0mconfig\u001b[0m\u001b[0;34m)\u001b[0m\u001b[0;34m:\u001b[0m\u001b[0;34m\u001b[0m\u001b[0;34m\u001b[0m\u001b[0m\n\u001b[0;32m--> 123\u001b[0;31m             \u001b[0;32mreturn\u001b[0m \u001b[0mself\u001b[0m\u001b[0;34m.\u001b[0m\u001b[0mfunction\u001b[0m\u001b[0;34m(\u001b[0m\u001b[0;34m*\u001b[0m\u001b[0margs\u001b[0m\u001b[0;34m,\u001b[0m \u001b[0;34m**\u001b[0m\u001b[0mkwargs\u001b[0m\u001b[0;34m)\u001b[0m\u001b[0;34m\u001b[0m\u001b[0;34m\u001b[0m\u001b[0m\n\u001b[0m",
            "\u001b[0;32m/usr/local/lib/python3.10/dist-packages/sklearn/ensemble/_forest.py\u001b[0m in \u001b[0;36m_parallel_build_trees\u001b[0;34m(tree, bootstrap, X, y, sample_weight, tree_idx, n_trees, verbose, class_weight, n_samples_bootstrap)\u001b[0m\n\u001b[1;32m    182\u001b[0m             \u001b[0mcurr_sample_weight\u001b[0m \u001b[0;34m*=\u001b[0m \u001b[0mcompute_sample_weight\u001b[0m\u001b[0;34m(\u001b[0m\u001b[0;34m\"balanced\"\u001b[0m\u001b[0;34m,\u001b[0m \u001b[0my\u001b[0m\u001b[0;34m,\u001b[0m \u001b[0mindices\u001b[0m\u001b[0;34m=\u001b[0m\u001b[0mindices\u001b[0m\u001b[0;34m)\u001b[0m\u001b[0;34m\u001b[0m\u001b[0;34m\u001b[0m\u001b[0m\n\u001b[1;32m    183\u001b[0m \u001b[0;34m\u001b[0m\u001b[0m\n\u001b[0;32m--> 184\u001b[0;31m         \u001b[0mtree\u001b[0m\u001b[0;34m.\u001b[0m\u001b[0mfit\u001b[0m\u001b[0;34m(\u001b[0m\u001b[0mX\u001b[0m\u001b[0;34m,\u001b[0m \u001b[0my\u001b[0m\u001b[0;34m,\u001b[0m \u001b[0msample_weight\u001b[0m\u001b[0;34m=\u001b[0m\u001b[0mcurr_sample_weight\u001b[0m\u001b[0;34m,\u001b[0m \u001b[0mcheck_input\u001b[0m\u001b[0;34m=\u001b[0m\u001b[0;32mFalse\u001b[0m\u001b[0;34m)\u001b[0m\u001b[0;34m\u001b[0m\u001b[0;34m\u001b[0m\u001b[0m\n\u001b[0m\u001b[1;32m    185\u001b[0m     \u001b[0;32melse\u001b[0m\u001b[0;34m:\u001b[0m\u001b[0;34m\u001b[0m\u001b[0;34m\u001b[0m\u001b[0m\n\u001b[1;32m    186\u001b[0m         \u001b[0mtree\u001b[0m\u001b[0;34m.\u001b[0m\u001b[0mfit\u001b[0m\u001b[0;34m(\u001b[0m\u001b[0mX\u001b[0m\u001b[0;34m,\u001b[0m \u001b[0my\u001b[0m\u001b[0;34m,\u001b[0m \u001b[0msample_weight\u001b[0m\u001b[0;34m=\u001b[0m\u001b[0msample_weight\u001b[0m\u001b[0;34m,\u001b[0m \u001b[0mcheck_input\u001b[0m\u001b[0;34m=\u001b[0m\u001b[0;32mFalse\u001b[0m\u001b[0;34m)\u001b[0m\u001b[0;34m\u001b[0m\u001b[0;34m\u001b[0m\u001b[0m\n",
            "\u001b[0;32m/usr/local/lib/python3.10/dist-packages/sklearn/tree/_classes.py\u001b[0m in \u001b[0;36mfit\u001b[0;34m(self, X, y, sample_weight, check_input)\u001b[0m\n\u001b[1;32m   1245\u001b[0m         \"\"\"\n\u001b[1;32m   1246\u001b[0m \u001b[0;34m\u001b[0m\u001b[0m\n\u001b[0;32m-> 1247\u001b[0;31m         super().fit(\n\u001b[0m\u001b[1;32m   1248\u001b[0m             \u001b[0mX\u001b[0m\u001b[0;34m,\u001b[0m\u001b[0;34m\u001b[0m\u001b[0;34m\u001b[0m\u001b[0m\n\u001b[1;32m   1249\u001b[0m             \u001b[0my\u001b[0m\u001b[0;34m,\u001b[0m\u001b[0;34m\u001b[0m\u001b[0;34m\u001b[0m\u001b[0m\n",
            "\u001b[0;32m/usr/local/lib/python3.10/dist-packages/sklearn/tree/_classes.py\u001b[0m in \u001b[0;36mfit\u001b[0;34m(self, X, y, sample_weight, check_input)\u001b[0m\n\u001b[1;32m    377\u001b[0m             )\n\u001b[1;32m    378\u001b[0m \u001b[0;34m\u001b[0m\u001b[0m\n\u001b[0;32m--> 379\u001b[0;31m         \u001b[0mbuilder\u001b[0m\u001b[0;34m.\u001b[0m\u001b[0mbuild\u001b[0m\u001b[0;34m(\u001b[0m\u001b[0mself\u001b[0m\u001b[0;34m.\u001b[0m\u001b[0mtree_\u001b[0m\u001b[0;34m,\u001b[0m \u001b[0mX\u001b[0m\u001b[0;34m,\u001b[0m \u001b[0my\u001b[0m\u001b[0;34m,\u001b[0m \u001b[0msample_weight\u001b[0m\u001b[0;34m)\u001b[0m\u001b[0;34m\u001b[0m\u001b[0;34m\u001b[0m\u001b[0m\n\u001b[0m\u001b[1;32m    380\u001b[0m \u001b[0;34m\u001b[0m\u001b[0m\n\u001b[1;32m    381\u001b[0m         \u001b[0;32mif\u001b[0m \u001b[0mself\u001b[0m\u001b[0;34m.\u001b[0m\u001b[0mn_outputs_\u001b[0m \u001b[0;34m==\u001b[0m \u001b[0;36m1\u001b[0m \u001b[0;32mand\u001b[0m \u001b[0mis_classifier\u001b[0m\u001b[0;34m(\u001b[0m\u001b[0mself\u001b[0m\u001b[0;34m)\u001b[0m\u001b[0;34m:\u001b[0m\u001b[0;34m\u001b[0m\u001b[0;34m\u001b[0m\u001b[0m\n",
            "\u001b[0;31mKeyboardInterrupt\u001b[0m: "
          ]
        }
      ]
    },
    {
      "cell_type": "markdown",
      "id": "1d34eb37-f25e-4988-b3c9-67a760839bca",
      "metadata": {
        "id": "1d34eb37-f25e-4988-b3c9-67a760839bca"
      },
      "source": [
        "## Submission"
      ]
    },
    {
      "cell_type": "code",
      "execution_count": null,
      "id": "71c8ce53-c8ef-4728-9b9e-16790b158afb",
      "metadata": {
        "id": "71c8ce53-c8ef-4728-9b9e-16790b158afb"
      },
      "outputs": [],
      "source": [
        "submit = pd.read_csv('./sample_submission.csv')\n",
        "submit['CI_HOUR'] = final_predictions\n",
        "submit.to_csv('./baseline_submit.csv', index=False)"
      ]
    },
    {
      "cell_type": "markdown",
      "source": [
        "# HistGradientBoosting Model\n",
        "## Label Encoding -> TargetEncoding\n",
        "### OPTUNA를 사용하여 튜닝"
      ],
      "metadata": {
        "id": "dhQLtXJ5vyD_"
      },
      "id": "dhQLtXJ5vyD_"
    },
    {
      "cell_type": "code",
      "source": [
        "# !pip install optuna category_encoders"
      ],
      "metadata": {
        "id": "o-I7IXabv_Fb"
      },
      "id": "o-I7IXabv_Fb",
      "execution_count": null,
      "outputs": []
    },
    {
      "cell_type": "code",
      "source": [
        "#Regression\n",
        "import pandas as pd\n",
        "import numpy as np\n",
        "import matplotlib.pyplot as plt\n",
        "import seaborn as sns\n",
        "import matplotlib\n",
        "%matplotlib inline\n",
        "\n",
        "import warnings\n",
        "warnings.filterwarnings('ignore')\n",
        "\n",
        "from sklearn.model_selection import KFold, cross_val_score, train_test_split, TimeSeriesSplit\n",
        "from sklearn.linear_model import Ridge, Lasso, LinearRegression\n",
        "from sklearn.neighbors import KNeighborsRegressor\n",
        "from sklearn.svm import SVR\n",
        "from sklearn.tree import DecisionTreeRegressor, plot_tree\n",
        "from sklearn.ensemble import RandomForestRegressor, ExtraTreesRegressor, VotingRegressor, StackingRegressor, AdaBoostRegressor, HistGradientBoostingRegressor\n",
        "from sklearn.dummy import DummyRegressor\n",
        "from sklearn.impute import SimpleImputer\n",
        "from sklearn.metrics import mean_absolute_error, mean_squared_error, f1_score\n",
        "from sklearn.pipeline import make_pipeline, Pipeline\n",
        "from sklearn.preprocessing import StandardScaler, MinMaxScaler, RobustScaler, LabelEncoder,OrdinalEncoder, OneHotEncoder, PolynomialFeatures, FunctionTransformer\n",
        "from sklearn.compose import ColumnTransformer\n",
        "from sklearn.inspection import PartialDependenceDisplay\n",
        "from lightgbm import LGBMRegressor\n",
        "from xgboost import XGBRegressor\n",
        "import optuna\n",
        "\n",
        "# from google.colab import drive\n",
        "# drive.mount('/content/drive')"
      ],
      "metadata": {
        "id": "lQ9Y1Lb3wBsy"
      },
      "id": "lQ9Y1Lb3wBsy",
      "execution_count": null,
      "outputs": []
    },
    {
      "cell_type": "markdown",
      "source": [
        "Data"
      ],
      "metadata": {
        "id": "MiIlcYnywL0v"
      },
      "id": "MiIlcYnywL0v"
    },
    {
      "cell_type": "code",
      "source": [
        "train = pd.read_csv(\"/content/train.csv\")\n",
        "test = pd.read_csv(\"/content/test.csv\")\n",
        "sample_submission = pd.read_csv(\"/content/sample_submission.csv\")\n",
        "\n",
        "train.drop(['SAMPLE_ID'],1,inplace=True)\n",
        "test.drop(['SAMPLE_ID'],1,inplace=True)"
      ],
      "metadata": {
        "id": "yvrdU1rFwHKd"
      },
      "id": "yvrdU1rFwHKd",
      "execution_count": null,
      "outputs": []
    },
    {
      "cell_type": "code",
      "source": [
        "import datetime\n",
        "#ATA\n",
        "def transform_time(df):\n",
        "  df.drop(['ID','SHIPMANAGER','FLAG'],1, inplace=True)\n",
        "\n",
        "  #I made these variables.\n",
        "  df['ATA'] = pd.to_datetime(df['ATA'])\n",
        "  df['YEAR'] = df['ATA'].dt.year\n",
        "  df['MONTH'] = df['ATA'].dt.month\n",
        "  df['DAY'] = df['ATA'].dt.day\n",
        "  df['HOUR'] = df['ATA'].dt.hour\n",
        "  df['MINUTES'] = df['ATA'].dt.minute\n",
        "  df['WOY'] = df['ATA'].dt.weekofyear\n",
        "  df['WEEKDAY'] = df['ATA'].dt.weekday\n",
        "  df['WEEKEND'] = df['WEEKDAY'].apply(lambda x: 1 if x >= 5 else 0)\n",
        "  df['HOLIDAY'] = df['ATA'].apply(lambda x: 1 if (x.month == 1 and x.day == 1) or (x.month == 12 and x.day==25) else 0)\n",
        "\n",
        "  #ChatGPT makes these variables\n",
        "  df['AGE'] = df['YEAR'] - df['BUILT']\n",
        "  df['SHIP_VOLUME'] = df['LENGTH'] * df['BREADTH'] * df['DEPTH']\n",
        "  df['EFFICIENT'] = df['DEADWEIGHT'] / df['GT']\n",
        "  df['RELATIVE_DISTANCE'] = df['DIST'] / df['PORT_SIZE']\n",
        "\n",
        "  df.drop(['ATA'],1,inplace=True)\n",
        "  return df\n",
        "\n",
        "train = transform_time(train)\n",
        "test = transform_time(test)"
      ],
      "metadata": {
        "id": "dj12kjcGwUTb"
      },
      "id": "dj12kjcGwUTb",
      "execution_count": null,
      "outputs": []
    },
    {
      "cell_type": "code",
      "source": [
        "X = train.drop(['CI_HOUR'], axis=1)\n",
        "y = train['CI_HOUR']\n",
        "\n",
        "cat_cols = X.select_dtypes(include='object').columns.tolist()\n",
        "X.shape, test.shape"
      ],
      "metadata": {
        "colab": {
          "base_uri": "https://localhost:8080/"
        },
        "id": "wgePzEz2wXvG",
        "outputId": "c29cab21-dd66-447e-d3df-5dcf90a4c778"
      },
      "id": "wgePzEz2wXvG",
      "execution_count": null,
      "outputs": [
        {
          "output_type": "execute_result",
          "data": {
            "text/plain": [
              "((391939, 30), (220491, 30))"
            ]
          },
          "metadata": {},
          "execution_count": 32
        }
      ]
    },
    {
      "cell_type": "code",
      "source": [
        "# !pip install category_encoders"
      ],
      "metadata": {
        "id": "iYgLtaji_OXI"
      },
      "id": "iYgLtaji_OXI",
      "execution_count": null,
      "outputs": []
    },
    {
      "cell_type": "code",
      "source": [
        "#Target Category\n",
        "from category_encoders.target_encoder import TargetEncoder\n",
        "enc=TargetEncoder()\n",
        "for col in cat_cols:\n",
        "  X[col] = enc.fit_transform(X[col],y)\n",
        "  test[col] = enc.transform(test[col])"
      ],
      "metadata": {
        "id": "98_BdWAZwpbF"
      },
      "id": "98_BdWAZwpbF",
      "execution_count": null,
      "outputs": []
    },
    {
      "cell_type": "markdown",
      "source": [
        "## Model"
      ],
      "metadata": {
        "id": "QeExVT-_xvVC"
      },
      "id": "QeExVT-_xvVC"
    },
    {
      "cell_type": "code",
      "source": [
        "%%time\n",
        "preprocessor = ColumnTransformer(\n",
        "    transformers=[\n",
        "        ('ss', MinMaxScaler(), X.columns),\n",
        "    ], remainder='passthrough'\n",
        ")\n",
        "\n",
        "#Best Parameters using OPTUNA\n",
        "params = {'max_iter': 1969,\n",
        " 'max_leaf_nodes': 96,\n",
        " 'max_depth': 11,\n",
        " 'min_samples_leaf': 43,\n",
        " 'l2_regularization': 0.03503250404129518}\n",
        "\n",
        "pipe = Pipeline(\n",
        "    [\n",
        "        ('MIN',preprocessor),\n",
        "        ('HIST',HistGradientBoostingRegressor(random_state=42, loss='absolute_error', **params))\n",
        "    ]\n",
        ")\n",
        "\n",
        "pipe.fit(X,y)"
      ],
      "metadata": {
        "colab": {
          "base_uri": "https://localhost:8080/",
          "height": 225
        },
        "id": "dU5aGjIxxuDP",
        "outputId": "3c33e496-9ec2-493c-d829-b2cc898d8a36"
      },
      "id": "dU5aGjIxxuDP",
      "execution_count": null,
      "outputs": [
        {
          "output_type": "stream",
          "name": "stdout",
          "text": [
            "CPU times: user 48.8 s, sys: 435 ms, total: 49.2 s\n",
            "Wall time: 34 s\n"
          ]
        },
        {
          "output_type": "execute_result",
          "data": {
            "text/plain": [
              "Pipeline(steps=[('MIN',\n",
              "                 ColumnTransformer(remainder='passthrough',\n",
              "                                   transformers=[('ss', MinMaxScaler(),\n",
              "                                                  Index(['ARI_CO', 'ARI_PO', 'SHIP_TYPE_CATEGORY', 'DIST', 'BREADTH', 'BUILT',\n",
              "       'DEADWEIGHT', 'DEPTH', 'DRAUGHT', 'GT', 'LENGTH', 'U_WIND', 'V_WIND',\n",
              "       'AIR_TEMPERATURE', 'BN', 'ATA_LT', 'PORT_SIZE', 'YEAR', 'MONTH', 'DAY',\n",
              "       'HOUR', 'MINUTES', 'WOY', 'WEEKDAY', 'WEEKEND', 'HOLIDAY', 'AGE',\n",
              "       'SHIP_VOLUME', 'EFFICIENT', 'RELATIVE_DISTANCE'],\n",
              "      dtype='object'))])),\n",
              "                ('HIST',\n",
              "                 HistGradientBoostingRegressor(l2_regularization=0.03503250404129518,\n",
              "                                               loss='absolute_error',\n",
              "                                               max_depth=11, max_iter=1969,\n",
              "                                               max_leaf_nodes=96,\n",
              "                                               min_samples_leaf=43,\n",
              "                                               random_state=42))])"
            ],
            "text/html": [
              "<style>#sk-container-id-1 {color: black;background-color: white;}#sk-container-id-1 pre{padding: 0;}#sk-container-id-1 div.sk-toggleable {background-color: white;}#sk-container-id-1 label.sk-toggleable__label {cursor: pointer;display: block;width: 100%;margin-bottom: 0;padding: 0.3em;box-sizing: border-box;text-align: center;}#sk-container-id-1 label.sk-toggleable__label-arrow:before {content: \"▸\";float: left;margin-right: 0.25em;color: #696969;}#sk-container-id-1 label.sk-toggleable__label-arrow:hover:before {color: black;}#sk-container-id-1 div.sk-estimator:hover label.sk-toggleable__label-arrow:before {color: black;}#sk-container-id-1 div.sk-toggleable__content {max-height: 0;max-width: 0;overflow: hidden;text-align: left;background-color: #f0f8ff;}#sk-container-id-1 div.sk-toggleable__content pre {margin: 0.2em;color: black;border-radius: 0.25em;background-color: #f0f8ff;}#sk-container-id-1 input.sk-toggleable__control:checked~div.sk-toggleable__content {max-height: 200px;max-width: 100%;overflow: auto;}#sk-container-id-1 input.sk-toggleable__control:checked~label.sk-toggleable__label-arrow:before {content: \"▾\";}#sk-container-id-1 div.sk-estimator input.sk-toggleable__control:checked~label.sk-toggleable__label {background-color: #d4ebff;}#sk-container-id-1 div.sk-label input.sk-toggleable__control:checked~label.sk-toggleable__label {background-color: #d4ebff;}#sk-container-id-1 input.sk-hidden--visually {border: 0;clip: rect(1px 1px 1px 1px);clip: rect(1px, 1px, 1px, 1px);height: 1px;margin: -1px;overflow: hidden;padding: 0;position: absolute;width: 1px;}#sk-container-id-1 div.sk-estimator {font-family: monospace;background-color: #f0f8ff;border: 1px dotted black;border-radius: 0.25em;box-sizing: border-box;margin-bottom: 0.5em;}#sk-container-id-1 div.sk-estimator:hover {background-color: #d4ebff;}#sk-container-id-1 div.sk-parallel-item::after {content: \"\";width: 100%;border-bottom: 1px solid gray;flex-grow: 1;}#sk-container-id-1 div.sk-label:hover label.sk-toggleable__label {background-color: #d4ebff;}#sk-container-id-1 div.sk-serial::before {content: \"\";position: absolute;border-left: 1px solid gray;box-sizing: border-box;top: 0;bottom: 0;left: 50%;z-index: 0;}#sk-container-id-1 div.sk-serial {display: flex;flex-direction: column;align-items: center;background-color: white;padding-right: 0.2em;padding-left: 0.2em;position: relative;}#sk-container-id-1 div.sk-item {position: relative;z-index: 1;}#sk-container-id-1 div.sk-parallel {display: flex;align-items: stretch;justify-content: center;background-color: white;position: relative;}#sk-container-id-1 div.sk-item::before, #sk-container-id-1 div.sk-parallel-item::before {content: \"\";position: absolute;border-left: 1px solid gray;box-sizing: border-box;top: 0;bottom: 0;left: 50%;z-index: -1;}#sk-container-id-1 div.sk-parallel-item {display: flex;flex-direction: column;z-index: 1;position: relative;background-color: white;}#sk-container-id-1 div.sk-parallel-item:first-child::after {align-self: flex-end;width: 50%;}#sk-container-id-1 div.sk-parallel-item:last-child::after {align-self: flex-start;width: 50%;}#sk-container-id-1 div.sk-parallel-item:only-child::after {width: 0;}#sk-container-id-1 div.sk-dashed-wrapped {border: 1px dashed gray;margin: 0 0.4em 0.5em 0.4em;box-sizing: border-box;padding-bottom: 0.4em;background-color: white;}#sk-container-id-1 div.sk-label label {font-family: monospace;font-weight: bold;display: inline-block;line-height: 1.2em;}#sk-container-id-1 div.sk-label-container {text-align: center;}#sk-container-id-1 div.sk-container {/* jupyter's `normalize.less` sets `[hidden] { display: none; }` but bootstrap.min.css set `[hidden] { display: none !important; }` so we also need the `!important` here to be able to override the default hidden behavior on the sphinx rendered scikit-learn.org. See: https://github.com/scikit-learn/scikit-learn/issues/21755 */display: inline-block !important;position: relative;}#sk-container-id-1 div.sk-text-repr-fallback {display: none;}</style><div id=\"sk-container-id-1\" class=\"sk-top-container\"><div class=\"sk-text-repr-fallback\"><pre>Pipeline(steps=[(&#x27;MIN&#x27;,\n",
              "                 ColumnTransformer(remainder=&#x27;passthrough&#x27;,\n",
              "                                   transformers=[(&#x27;ss&#x27;, MinMaxScaler(),\n",
              "                                                  Index([&#x27;ARI_CO&#x27;, &#x27;ARI_PO&#x27;, &#x27;SHIP_TYPE_CATEGORY&#x27;, &#x27;DIST&#x27;, &#x27;BREADTH&#x27;, &#x27;BUILT&#x27;,\n",
              "       &#x27;DEADWEIGHT&#x27;, &#x27;DEPTH&#x27;, &#x27;DRAUGHT&#x27;, &#x27;GT&#x27;, &#x27;LENGTH&#x27;, &#x27;U_WIND&#x27;, &#x27;V_WIND&#x27;,\n",
              "       &#x27;AIR_TEMPERATURE&#x27;, &#x27;BN&#x27;, &#x27;ATA_LT&#x27;, &#x27;PORT_SIZE&#x27;, &#x27;YEAR&#x27;, &#x27;MONTH&#x27;, &#x27;DAY&#x27;,\n",
              "       &#x27;HOUR&#x27;, &#x27;MINUTES&#x27;, &#x27;WOY&#x27;, &#x27;WEEKDAY&#x27;, &#x27;WEEKEND&#x27;, &#x27;HOLIDAY&#x27;, &#x27;AGE&#x27;,\n",
              "       &#x27;SHIP_VOLUME&#x27;, &#x27;EFFICIENT&#x27;, &#x27;RELATIVE_DISTANCE&#x27;],\n",
              "      dtype=&#x27;object&#x27;))])),\n",
              "                (&#x27;HIST&#x27;,\n",
              "                 HistGradientBoostingRegressor(l2_regularization=0.03503250404129518,\n",
              "                                               loss=&#x27;absolute_error&#x27;,\n",
              "                                               max_depth=11, max_iter=1969,\n",
              "                                               max_leaf_nodes=96,\n",
              "                                               min_samples_leaf=43,\n",
              "                                               random_state=42))])</pre><b>In a Jupyter environment, please rerun this cell to show the HTML representation or trust the notebook. <br />On GitHub, the HTML representation is unable to render, please try loading this page with nbviewer.org.</b></div><div class=\"sk-container\" hidden><div class=\"sk-item sk-dashed-wrapped\"><div class=\"sk-label-container\"><div class=\"sk-label sk-toggleable\"><input class=\"sk-toggleable__control sk-hidden--visually\" id=\"sk-estimator-id-1\" type=\"checkbox\" ><label for=\"sk-estimator-id-1\" class=\"sk-toggleable__label sk-toggleable__label-arrow\">Pipeline</label><div class=\"sk-toggleable__content\"><pre>Pipeline(steps=[(&#x27;MIN&#x27;,\n",
              "                 ColumnTransformer(remainder=&#x27;passthrough&#x27;,\n",
              "                                   transformers=[(&#x27;ss&#x27;, MinMaxScaler(),\n",
              "                                                  Index([&#x27;ARI_CO&#x27;, &#x27;ARI_PO&#x27;, &#x27;SHIP_TYPE_CATEGORY&#x27;, &#x27;DIST&#x27;, &#x27;BREADTH&#x27;, &#x27;BUILT&#x27;,\n",
              "       &#x27;DEADWEIGHT&#x27;, &#x27;DEPTH&#x27;, &#x27;DRAUGHT&#x27;, &#x27;GT&#x27;, &#x27;LENGTH&#x27;, &#x27;U_WIND&#x27;, &#x27;V_WIND&#x27;,\n",
              "       &#x27;AIR_TEMPERATURE&#x27;, &#x27;BN&#x27;, &#x27;ATA_LT&#x27;, &#x27;PORT_SIZE&#x27;, &#x27;YEAR&#x27;, &#x27;MONTH&#x27;, &#x27;DAY&#x27;,\n",
              "       &#x27;HOUR&#x27;, &#x27;MINUTES&#x27;, &#x27;WOY&#x27;, &#x27;WEEKDAY&#x27;, &#x27;WEEKEND&#x27;, &#x27;HOLIDAY&#x27;, &#x27;AGE&#x27;,\n",
              "       &#x27;SHIP_VOLUME&#x27;, &#x27;EFFICIENT&#x27;, &#x27;RELATIVE_DISTANCE&#x27;],\n",
              "      dtype=&#x27;object&#x27;))])),\n",
              "                (&#x27;HIST&#x27;,\n",
              "                 HistGradientBoostingRegressor(l2_regularization=0.03503250404129518,\n",
              "                                               loss=&#x27;absolute_error&#x27;,\n",
              "                                               max_depth=11, max_iter=1969,\n",
              "                                               max_leaf_nodes=96,\n",
              "                                               min_samples_leaf=43,\n",
              "                                               random_state=42))])</pre></div></div></div><div class=\"sk-serial\"><div class=\"sk-item sk-dashed-wrapped\"><div class=\"sk-label-container\"><div class=\"sk-label sk-toggleable\"><input class=\"sk-toggleable__control sk-hidden--visually\" id=\"sk-estimator-id-2\" type=\"checkbox\" ><label for=\"sk-estimator-id-2\" class=\"sk-toggleable__label sk-toggleable__label-arrow\">MIN: ColumnTransformer</label><div class=\"sk-toggleable__content\"><pre>ColumnTransformer(remainder=&#x27;passthrough&#x27;,\n",
              "                  transformers=[(&#x27;ss&#x27;, MinMaxScaler(),\n",
              "                                 Index([&#x27;ARI_CO&#x27;, &#x27;ARI_PO&#x27;, &#x27;SHIP_TYPE_CATEGORY&#x27;, &#x27;DIST&#x27;, &#x27;BREADTH&#x27;, &#x27;BUILT&#x27;,\n",
              "       &#x27;DEADWEIGHT&#x27;, &#x27;DEPTH&#x27;, &#x27;DRAUGHT&#x27;, &#x27;GT&#x27;, &#x27;LENGTH&#x27;, &#x27;U_WIND&#x27;, &#x27;V_WIND&#x27;,\n",
              "       &#x27;AIR_TEMPERATURE&#x27;, &#x27;BN&#x27;, &#x27;ATA_LT&#x27;, &#x27;PORT_SIZE&#x27;, &#x27;YEAR&#x27;, &#x27;MONTH&#x27;, &#x27;DAY&#x27;,\n",
              "       &#x27;HOUR&#x27;, &#x27;MINUTES&#x27;, &#x27;WOY&#x27;, &#x27;WEEKDAY&#x27;, &#x27;WEEKEND&#x27;, &#x27;HOLIDAY&#x27;, &#x27;AGE&#x27;,\n",
              "       &#x27;SHIP_VOLUME&#x27;, &#x27;EFFICIENT&#x27;, &#x27;RELATIVE_DISTANCE&#x27;],\n",
              "      dtype=&#x27;object&#x27;))])</pre></div></div></div><div class=\"sk-parallel\"><div class=\"sk-parallel-item\"><div class=\"sk-item\"><div class=\"sk-label-container\"><div class=\"sk-label sk-toggleable\"><input class=\"sk-toggleable__control sk-hidden--visually\" id=\"sk-estimator-id-3\" type=\"checkbox\" ><label for=\"sk-estimator-id-3\" class=\"sk-toggleable__label sk-toggleable__label-arrow\">ss</label><div class=\"sk-toggleable__content\"><pre>Index([&#x27;ARI_CO&#x27;, &#x27;ARI_PO&#x27;, &#x27;SHIP_TYPE_CATEGORY&#x27;, &#x27;DIST&#x27;, &#x27;BREADTH&#x27;, &#x27;BUILT&#x27;,\n",
              "       &#x27;DEADWEIGHT&#x27;, &#x27;DEPTH&#x27;, &#x27;DRAUGHT&#x27;, &#x27;GT&#x27;, &#x27;LENGTH&#x27;, &#x27;U_WIND&#x27;, &#x27;V_WIND&#x27;,\n",
              "       &#x27;AIR_TEMPERATURE&#x27;, &#x27;BN&#x27;, &#x27;ATA_LT&#x27;, &#x27;PORT_SIZE&#x27;, &#x27;YEAR&#x27;, &#x27;MONTH&#x27;, &#x27;DAY&#x27;,\n",
              "       &#x27;HOUR&#x27;, &#x27;MINUTES&#x27;, &#x27;WOY&#x27;, &#x27;WEEKDAY&#x27;, &#x27;WEEKEND&#x27;, &#x27;HOLIDAY&#x27;, &#x27;AGE&#x27;,\n",
              "       &#x27;SHIP_VOLUME&#x27;, &#x27;EFFICIENT&#x27;, &#x27;RELATIVE_DISTANCE&#x27;],\n",
              "      dtype=&#x27;object&#x27;)</pre></div></div></div><div class=\"sk-serial\"><div class=\"sk-item\"><div class=\"sk-estimator sk-toggleable\"><input class=\"sk-toggleable__control sk-hidden--visually\" id=\"sk-estimator-id-4\" type=\"checkbox\" ><label for=\"sk-estimator-id-4\" class=\"sk-toggleable__label sk-toggleable__label-arrow\">MinMaxScaler</label><div class=\"sk-toggleable__content\"><pre>MinMaxScaler()</pre></div></div></div></div></div></div><div class=\"sk-parallel-item\"><div class=\"sk-item\"><div class=\"sk-label-container\"><div class=\"sk-label sk-toggleable\"><input class=\"sk-toggleable__control sk-hidden--visually\" id=\"sk-estimator-id-5\" type=\"checkbox\" ><label for=\"sk-estimator-id-5\" class=\"sk-toggleable__label sk-toggleable__label-arrow\">remainder</label><div class=\"sk-toggleable__content\"><pre>[]</pre></div></div></div><div class=\"sk-serial\"><div class=\"sk-item\"><div class=\"sk-estimator sk-toggleable\"><input class=\"sk-toggleable__control sk-hidden--visually\" id=\"sk-estimator-id-6\" type=\"checkbox\" ><label for=\"sk-estimator-id-6\" class=\"sk-toggleable__label sk-toggleable__label-arrow\">passthrough</label><div class=\"sk-toggleable__content\"><pre>passthrough</pre></div></div></div></div></div></div></div></div><div class=\"sk-item\"><div class=\"sk-estimator sk-toggleable\"><input class=\"sk-toggleable__control sk-hidden--visually\" id=\"sk-estimator-id-7\" type=\"checkbox\" ><label for=\"sk-estimator-id-7\" class=\"sk-toggleable__label sk-toggleable__label-arrow\">HistGradientBoostingRegressor</label><div class=\"sk-toggleable__content\"><pre>HistGradientBoostingRegressor(l2_regularization=0.03503250404129518,\n",
              "                              loss=&#x27;absolute_error&#x27;, max_depth=11,\n",
              "                              max_iter=1969, max_leaf_nodes=96,\n",
              "                              min_samples_leaf=43, random_state=42)</pre></div></div></div></div></div></div></div>"
            ]
          },
          "metadata": {},
          "execution_count": 37
        }
      ]
    },
    {
      "cell_type": "code",
      "source": [
        "%%time\n",
        "fold = KFold(n_splits=5, shuffle=True, random_state=42)\n",
        "score = cross_val_score(estimator=pipe, X=X, y=y, cv=fold, scoring='neg_mean_absolute_error')\n",
        "print(np.round(-score,2))\n",
        "print()\n",
        "print(f\"5 K-FOLD : {np.round(np.mean(-score),2)} & std +/-{np.round(np.std(-score),2)}\")"
      ],
      "metadata": {
        "colab": {
          "base_uri": "https://localhost:8080/"
        },
        "id": "GMygQsWPyE6N",
        "outputId": "538946e1-38db-4cd6-a69a-22b2866915cf"
      },
      "id": "GMygQsWPyE6N",
      "execution_count": null,
      "outputs": [
        {
          "output_type": "stream",
          "name": "stdout",
          "text": [
            "[43.21 44.89 44.97 44.24 44.13]\n",
            "\n",
            "5 K-FOLD : 44.29 & std +/-0.63\n",
            "CPU times: user 3min 36s, sys: 1.6 s, total: 3min 37s\n",
            "Wall time: 2min 8s\n"
          ]
        }
      ]
    },
    {
      "cell_type": "code",
      "source": [
        "def objective(trial, data=X, target=y):\n",
        "  X_train, X_test, y_train, y_test = train_test_split(data, target, test_size=.2, random_state=42)\n",
        "  param = {\n",
        "      'max_iter':trial.suggest_int('max_iter', 1500, 2500),\n",
        "      'max_leaf_nodes':trial.suggest_int('max_leaf_nodes',80, 200),\n",
        "      'max_depth':trial.suggest_int('max_depth', 10, 15),\n",
        "      'min_samples_leaf':trial.suggest_int('min_samples_leaf',35,45),\n",
        "      'l2_regularization':trial.suggest_float('l2_regularization',0.05, 0.1)\n",
        "  }\n",
        "\n",
        "  model = HistGradientBoostingRegressor(random_state=42, loss='absolute_error', **param)\n",
        "\n",
        "  model.fit(X_train, y_train)\n",
        "\n",
        "  preds = model.predict(X_test)\n",
        "\n",
        "  mae = mean_absolute_error(y_test, preds)\n",
        "\n",
        "  return mae\n",
        "\n",
        "study = optuna.create_study(direction='minimize')"
      ],
      "metadata": {
        "colab": {
          "base_uri": "https://localhost:8080/"
        },
        "id": "PCIAlbJqybub",
        "outputId": "795b738b-ccd1-4070-91c4-54c7da03174a"
      },
      "id": "PCIAlbJqybub",
      "execution_count": null,
      "outputs": [
        {
          "output_type": "stream",
          "name": "stderr",
          "text": [
            "[I 2024-01-03 05:31:24,164] A new study created in memory with name: no-name-a45675cf-2a01-4016-af63-a52542b83249\n"
          ]
        }
      ]
    },
    {
      "cell_type": "code",
      "source": [
        "# #preceed\n",
        "# study.optimize(objective, n_trials=30)"
      ],
      "metadata": {
        "id": "EWBvwzseylHY"
      },
      "id": "EWBvwzseylHY",
      "execution_count": null,
      "outputs": []
    },
    {
      "cell_type": "code",
      "source": [
        "study.best_params"
      ],
      "metadata": {
        "colab": {
          "base_uri": "https://localhost:8080/"
        },
        "id": "4fpQUaFwzjD4",
        "outputId": "6ef51144-0700-463e-9805-62808c5e0167"
      },
      "id": "4fpQUaFwzjD4",
      "execution_count": null,
      "outputs": [
        {
          "output_type": "execute_result",
          "data": {
            "text/plain": [
              "{'max_iter': 1718,\n",
              " 'max_leaf_nodes': 148,\n",
              " 'max_depth': 15,\n",
              " 'min_samples_leaf': 43,\n",
              " 'l2_regularization': 0.0511039041916033}"
            ]
          },
          "metadata": {},
          "execution_count": 89
        }
      ]
    },
    {
      "cell_type": "code",
      "source": [
        "from optuna.visualization import *\n",
        "\n",
        "plot_slice(study)"
      ],
      "metadata": {
        "colab": {
          "base_uri": "https://localhost:8080/",
          "height": 562
        },
        "id": "zZ76nK_bzhKx",
        "outputId": "7690f958-1dfe-48d6-8631-8f5706a6cf58"
      },
      "id": "zZ76nK_bzhKx",
      "execution_count": null,
      "outputs": [
        {
          "output_type": "display_data",
          "data": {
            "text/html": [
              "<html>\n",
              "<head><meta charset=\"utf-8\" /></head>\n",
              "<body>\n",
              "    <div>            <script src=\"https://cdnjs.cloudflare.com/ajax/libs/mathjax/2.7.5/MathJax.js?config=TeX-AMS-MML_SVG\"></script><script type=\"text/javascript\">if (window.MathJax && window.MathJax.Hub && window.MathJax.Hub.Config) {window.MathJax.Hub.Config({SVG: {font: \"STIX-Web\"}});}</script>                <script type=\"text/javascript\">window.PlotlyConfig = {MathJaxConfig: 'local'};</script>\n",
              "        <script charset=\"utf-8\" src=\"https://cdn.plot.ly/plotly-2.24.1.min.js\"></script>                <div id=\"a2875d52-7b04-48a1-b7aa-2c83da49fb58\" class=\"plotly-graph-div\" style=\"height:525px; width:2100px;\"></div>            <script type=\"text/javascript\">                                    window.PLOTLYENV=window.PLOTLYENV || {};                                    if (document.getElementById(\"a2875d52-7b04-48a1-b7aa-2c83da49fb58\")) {                    Plotly.newPlot(                        \"a2875d52-7b04-48a1-b7aa-2c83da49fb58\",                        [{\"marker\":{\"color\":[0,1,2,3,4,5,6,7,8,9,10,11,12,13,14,15,16,17,18,19],\"colorbar\":{\"title\":{\"text\":\"Trial\"},\"x\":1.0,\"xpad\":40},\"colorscale\":[[0.0,\"rgb(247,251,255)\"],[0.125,\"rgb(222,235,247)\"],[0.25,\"rgb(198,219,239)\"],[0.375,\"rgb(158,202,225)\"],[0.5,\"rgb(107,174,214)\"],[0.625,\"rgb(66,146,198)\"],[0.75,\"rgb(33,113,181)\"],[0.875,\"rgb(8,81,156)\"],[1.0,\"rgb(8,48,107)\"]],\"line\":{\"color\":\"Grey\",\"width\":0.5},\"showscale\":true},\"mode\":\"markers\",\"name\":\"Feasible Trial\",\"showlegend\":false,\"x\":[0.6310771965597587,0.8343691404874394,0.8022800524370624,0.9263685049836814,0.7927377840232395,0.5898460155655242,0.7710582906115475,0.7562876970918955,0.7239338597108662,0.9354498715155077,0.5209699593430637,0.6889194846834634,0.8448346552663438,0.8666508352476695,0.9873825759881006,0.9676229879147488,0.9925068882020782,0.982872599552046,0.9119794749611774,0.993675987001635],\"y\":[56.00406808633101,55.57444647471065,55.78671394797741,55.52166351023465,54.93381446434615,63.584291729429765,55.30388365466795,54.01215804052252,58.18548542273086,60.5145120414063,55.346703421160484,55.002677835982155,54.52445841882275,53.60477489750604,52.209761462711455,52.44864869302069,52.37322973376182,52.46501429796485,67.62425063226921,53.1814551238425],\"type\":\"scatter\",\"xaxis\":\"x\",\"yaxis\":\"y\"},{\"marker\":{\"color\":[0,1,2,3,4,5,6,7,8,9,10,11,12,13,14,15,16,17,18,19],\"colorbar\":{\"title\":{\"text\":\"Trial\"},\"x\":1.0,\"xpad\":40},\"colorscale\":[[0.0,\"rgb(247,251,255)\"],[0.125,\"rgb(222,235,247)\"],[0.25,\"rgb(198,219,239)\"],[0.375,\"rgb(158,202,225)\"],[0.5,\"rgb(107,174,214)\"],[0.625,\"rgb(66,146,198)\"],[0.75,\"rgb(33,113,181)\"],[0.875,\"rgb(8,81,156)\"],[1.0,\"rgb(8,48,107)\"]],\"line\":{\"color\":\"Grey\",\"width\":0.5},\"showscale\":false},\"mode\":\"markers\",\"name\":\"Feasible Trial\",\"showlegend\":false,\"x\":[0.09306670554477654,0.033749836908796564,0.09212364538024938,0.09358033308425455,0.09020121439152526,0.01313236651388714,0.06488657108584518,0.0695663561468899,0.06405752780628705,0.018912831783901005,0.05572671065816801,0.07580698266710681,0.077273330444249,0.041481133395111044,0.037120714270559414,0.03859371546048974,0.02777170674418715,0.02438074795038043,0.0030914874878618798,0.048756378613015204],\"y\":[56.00406808633101,55.57444647471065,55.78671394797741,55.52166351023465,54.93381446434615,63.584291729429765,55.30388365466795,54.01215804052252,58.18548542273086,60.5145120414063,55.346703421160484,55.002677835982155,54.52445841882275,53.60477489750604,52.209761462711455,52.44864869302069,52.37322973376182,52.46501429796485,67.62425063226921,53.1814551238425],\"type\":\"scatter\",\"xaxis\":\"x2\",\"yaxis\":\"y2\"},{\"marker\":{\"color\":[0,1,2,3,4,5,6,7,8,9,10,11,12,13,14,15,16,17,18,19],\"colorbar\":{\"title\":{\"text\":\"Trial\"},\"x\":1.0,\"xpad\":40},\"colorscale\":[[0.0,\"rgb(247,251,255)\"],[0.125,\"rgb(222,235,247)\"],[0.25,\"rgb(198,219,239)\"],[0.375,\"rgb(158,202,225)\"],[0.5,\"rgb(107,174,214)\"],[0.625,\"rgb(66,146,198)\"],[0.75,\"rgb(33,113,181)\"],[0.875,\"rgb(8,81,156)\"],[1.0,\"rgb(8,48,107)\"]],\"line\":{\"color\":\"Grey\",\"width\":0.5},\"showscale\":false},\"mode\":\"markers\",\"name\":\"Feasible Trial\",\"showlegend\":false,\"x\":[7,6,5,5,7,3,6,9,4,5,10,9,8,9,10,10,10,10,8,8],\"y\":[56.00406808633101,55.57444647471065,55.78671394797741,55.52166351023465,54.93381446434615,63.584291729429765,55.30388365466795,54.01215804052252,58.18548542273086,60.5145120414063,55.346703421160484,55.002677835982155,54.52445841882275,53.60477489750604,52.209761462711455,52.44864869302069,52.37322973376182,52.46501429796485,67.62425063226921,53.1814551238425],\"type\":\"scatter\",\"xaxis\":\"x3\",\"yaxis\":\"y3\"},{\"marker\":{\"color\":[0,1,2,3,4,5,6,7,8,9,10,11,12,13,14,15,16,17,18,19],\"colorbar\":{\"title\":{\"text\":\"Trial\"},\"x\":1.0,\"xpad\":40},\"colorscale\":[[0.0,\"rgb(247,251,255)\"],[0.125,\"rgb(222,235,247)\"],[0.25,\"rgb(198,219,239)\"],[0.375,\"rgb(158,202,225)\"],[0.5,\"rgb(107,174,214)\"],[0.625,\"rgb(66,146,198)\"],[0.75,\"rgb(33,113,181)\"],[0.875,\"rgb(8,81,156)\"],[1.0,\"rgb(8,48,107)\"]],\"line\":{\"color\":\"Grey\",\"width\":0.5},\"showscale\":false},\"mode\":\"markers\",\"name\":\"Feasible Trial\",\"showlegend\":false,\"x\":[69,236,420,437,442,187,281,453,182,105,346,497,371,345,340,322,295,271,216,292],\"y\":[56.00406808633101,55.57444647471065,55.78671394797741,55.52166351023465,54.93381446434615,63.584291729429765,55.30388365466795,54.01215804052252,58.18548542273086,60.5145120414063,55.346703421160484,55.002677835982155,54.52445841882275,53.60477489750604,52.209761462711455,52.44864869302069,52.37322973376182,52.46501429796485,67.62425063226921,53.1814551238425],\"type\":\"scatter\",\"xaxis\":\"x4\",\"yaxis\":\"y4\"},{\"marker\":{\"color\":[0,1,2,3,4,5,6,7,8,9,10,11,12,13,14,15,16,17,18,19],\"colorbar\":{\"title\":{\"text\":\"Trial\"},\"x\":1.0,\"xpad\":40},\"colorscale\":[[0.0,\"rgb(247,251,255)\"],[0.125,\"rgb(222,235,247)\"],[0.25,\"rgb(198,219,239)\"],[0.375,\"rgb(158,202,225)\"],[0.5,\"rgb(107,174,214)\"],[0.625,\"rgb(66,146,198)\"],[0.75,\"rgb(33,113,181)\"],[0.875,\"rgb(8,81,156)\"],[1.0,\"rgb(8,48,107)\"]],\"line\":{\"color\":\"Grey\",\"width\":0.5},\"showscale\":false},\"mode\":\"markers\",\"name\":\"Feasible Trial\",\"showlegend\":false,\"x\":[0.4892318611812255,0.7165640255127314,0.011074966349128523,0.46962570876159715,0.8292096374349834,0.1926764634174054,0.8279636284372212,0.7682045739723937,0.44939558633404897,0.090522097333398,0.9866478786379695,0.709337697794794,0.9216703398362873,0.9867381913278843,0.6870927358102865,0.6205558020605657,0.6164624673757555,0.348364581131434,0.6087382496351001,0.6330370325899422],\"y\":[56.00406808633101,55.57444647471065,55.78671394797741,55.52166351023465,54.93381446434615,63.584291729429765,55.30388365466795,54.01215804052252,58.18548542273086,60.5145120414063,55.346703421160484,55.002677835982155,54.52445841882275,53.60477489750604,52.209761462711455,52.44864869302069,52.37322973376182,52.46501429796485,67.62425063226921,53.1814551238425],\"type\":\"scatter\",\"xaxis\":\"x5\",\"yaxis\":\"y5\"},{\"marker\":{\"color\":[0,1,2,3,4,5,6,7,8,9,10,11,12,13,14,15,16,17,18,19],\"colorbar\":{\"title\":{\"text\":\"Trial\"},\"x\":1.0,\"xpad\":40},\"colorscale\":[[0.0,\"rgb(247,251,255)\"],[0.125,\"rgb(222,235,247)\"],[0.25,\"rgb(198,219,239)\"],[0.375,\"rgb(158,202,225)\"],[0.5,\"rgb(107,174,214)\"],[0.625,\"rgb(66,146,198)\"],[0.75,\"rgb(33,113,181)\"],[0.875,\"rgb(8,81,156)\"],[1.0,\"rgb(8,48,107)\"]],\"line\":{\"color\":\"Grey\",\"width\":0.5},\"showscale\":false},\"mode\":\"markers\",\"name\":\"Feasible Trial\",\"showlegend\":false,\"x\":[0.09914561672975486,0.9366630561989553,0.45774208102764646,0.6626935534669438,0.05441888778894877,0.33028475245592015,0.8373881791914757,0.7396163736178563,0.5170375607388695,0.5015732306773392,0.7379813352289794,0.08551120986957073,0.2570163433405525,0.2875816670646081,0.6692450991867427,0.2559388317969027,0.618345780375633,0.6424068193641508,0.6184847729406507,0.938648550226594],\"y\":[56.00406808633101,55.57444647471065,55.78671394797741,55.52166351023465,54.93381446434615,63.584291729429765,55.30388365466795,54.01215804052252,58.18548542273086,60.5145120414063,55.346703421160484,55.002677835982155,54.52445841882275,53.60477489750604,52.209761462711455,52.44864869302069,52.37322973376182,52.46501429796485,67.62425063226921,53.1814551238425],\"type\":\"scatter\",\"xaxis\":\"x6\",\"yaxis\":\"y6\"},{\"marker\":{\"color\":[0,1,2,3,4,5,6,7,8,9,10,11,12,13,14,15,16,17,18,19],\"colorbar\":{\"title\":{\"text\":\"Trial\"},\"x\":1.0,\"xpad\":40},\"colorscale\":[[0.0,\"rgb(247,251,255)\"],[0.125,\"rgb(222,235,247)\"],[0.25,\"rgb(198,219,239)\"],[0.375,\"rgb(158,202,225)\"],[0.5,\"rgb(107,174,214)\"],[0.625,\"rgb(66,146,198)\"],[0.75,\"rgb(33,113,181)\"],[0.875,\"rgb(8,81,156)\"],[1.0,\"rgb(8,48,107)\"]],\"line\":{\"color\":\"Grey\",\"width\":0.5},\"showscale\":false},\"mode\":\"markers\",\"name\":\"Feasible Trial\",\"showlegend\":false,\"x\":[0.6088361768310258,0.8855064229413996,0.6780707378645798,0.6392147535189546,0.637840236893054,0.7047146464122463,0.9632414573284733,0.7203045630672167,0.7262353441920144,0.9217981251621357,0.5079939122727816,0.8153642082986274,0.564139291377403,0.5077283949174004,0.8041707110913701,0.8062527794301996,0.8040421965432261,0.8244632002323284,0.8558117359612156,0.7735680690209628],\"y\":[56.00406808633101,55.57444647471065,55.78671394797741,55.52166351023465,54.93381446434615,63.584291729429765,55.30388365466795,54.01215804052252,58.18548542273086,60.5145120414063,55.346703421160484,55.002677835982155,54.52445841882275,53.60477489750604,52.209761462711455,52.44864869302069,52.37322973376182,52.46501429796485,67.62425063226921,53.1814551238425],\"type\":\"scatter\",\"xaxis\":\"x7\",\"yaxis\":\"y7\"}],                        {\"template\":{\"data\":{\"histogram2dcontour\":[{\"type\":\"histogram2dcontour\",\"colorbar\":{\"outlinewidth\":0,\"ticks\":\"\"},\"colorscale\":[[0.0,\"#0d0887\"],[0.1111111111111111,\"#46039f\"],[0.2222222222222222,\"#7201a8\"],[0.3333333333333333,\"#9c179e\"],[0.4444444444444444,\"#bd3786\"],[0.5555555555555556,\"#d8576b\"],[0.6666666666666666,\"#ed7953\"],[0.7777777777777778,\"#fb9f3a\"],[0.8888888888888888,\"#fdca26\"],[1.0,\"#f0f921\"]]}],\"choropleth\":[{\"type\":\"choropleth\",\"colorbar\":{\"outlinewidth\":0,\"ticks\":\"\"}}],\"histogram2d\":[{\"type\":\"histogram2d\",\"colorbar\":{\"outlinewidth\":0,\"ticks\":\"\"},\"colorscale\":[[0.0,\"#0d0887\"],[0.1111111111111111,\"#46039f\"],[0.2222222222222222,\"#7201a8\"],[0.3333333333333333,\"#9c179e\"],[0.4444444444444444,\"#bd3786\"],[0.5555555555555556,\"#d8576b\"],[0.6666666666666666,\"#ed7953\"],[0.7777777777777778,\"#fb9f3a\"],[0.8888888888888888,\"#fdca26\"],[1.0,\"#f0f921\"]]}],\"heatmap\":[{\"type\":\"heatmap\",\"colorbar\":{\"outlinewidth\":0,\"ticks\":\"\"},\"colorscale\":[[0.0,\"#0d0887\"],[0.1111111111111111,\"#46039f\"],[0.2222222222222222,\"#7201a8\"],[0.3333333333333333,\"#9c179e\"],[0.4444444444444444,\"#bd3786\"],[0.5555555555555556,\"#d8576b\"],[0.6666666666666666,\"#ed7953\"],[0.7777777777777778,\"#fb9f3a\"],[0.8888888888888888,\"#fdca26\"],[1.0,\"#f0f921\"]]}],\"heatmapgl\":[{\"type\":\"heatmapgl\",\"colorbar\":{\"outlinewidth\":0,\"ticks\":\"\"},\"colorscale\":[[0.0,\"#0d0887\"],[0.1111111111111111,\"#46039f\"],[0.2222222222222222,\"#7201a8\"],[0.3333333333333333,\"#9c179e\"],[0.4444444444444444,\"#bd3786\"],[0.5555555555555556,\"#d8576b\"],[0.6666666666666666,\"#ed7953\"],[0.7777777777777778,\"#fb9f3a\"],[0.8888888888888888,\"#fdca26\"],[1.0,\"#f0f921\"]]}],\"contourcarpet\":[{\"type\":\"contourcarpet\",\"colorbar\":{\"outlinewidth\":0,\"ticks\":\"\"}}],\"contour\":[{\"type\":\"contour\",\"colorbar\":{\"outlinewidth\":0,\"ticks\":\"\"},\"colorscale\":[[0.0,\"#0d0887\"],[0.1111111111111111,\"#46039f\"],[0.2222222222222222,\"#7201a8\"],[0.3333333333333333,\"#9c179e\"],[0.4444444444444444,\"#bd3786\"],[0.5555555555555556,\"#d8576b\"],[0.6666666666666666,\"#ed7953\"],[0.7777777777777778,\"#fb9f3a\"],[0.8888888888888888,\"#fdca26\"],[1.0,\"#f0f921\"]]}],\"surface\":[{\"type\":\"surface\",\"colorbar\":{\"outlinewidth\":0,\"ticks\":\"\"},\"colorscale\":[[0.0,\"#0d0887\"],[0.1111111111111111,\"#46039f\"],[0.2222222222222222,\"#7201a8\"],[0.3333333333333333,\"#9c179e\"],[0.4444444444444444,\"#bd3786\"],[0.5555555555555556,\"#d8576b\"],[0.6666666666666666,\"#ed7953\"],[0.7777777777777778,\"#fb9f3a\"],[0.8888888888888888,\"#fdca26\"],[1.0,\"#f0f921\"]]}],\"mesh3d\":[{\"type\":\"mesh3d\",\"colorbar\":{\"outlinewidth\":0,\"ticks\":\"\"}}],\"scatter\":[{\"fillpattern\":{\"fillmode\":\"overlay\",\"size\":10,\"solidity\":0.2},\"type\":\"scatter\"}],\"parcoords\":[{\"type\":\"parcoords\",\"line\":{\"colorbar\":{\"outlinewidth\":0,\"ticks\":\"\"}}}],\"scatterpolargl\":[{\"type\":\"scatterpolargl\",\"marker\":{\"colorbar\":{\"outlinewidth\":0,\"ticks\":\"\"}}}],\"bar\":[{\"error_x\":{\"color\":\"#2a3f5f\"},\"error_y\":{\"color\":\"#2a3f5f\"},\"marker\":{\"line\":{\"color\":\"#E5ECF6\",\"width\":0.5},\"pattern\":{\"fillmode\":\"overlay\",\"size\":10,\"solidity\":0.2}},\"type\":\"bar\"}],\"scattergeo\":[{\"type\":\"scattergeo\",\"marker\":{\"colorbar\":{\"outlinewidth\":0,\"ticks\":\"\"}}}],\"scatterpolar\":[{\"type\":\"scatterpolar\",\"marker\":{\"colorbar\":{\"outlinewidth\":0,\"ticks\":\"\"}}}],\"histogram\":[{\"marker\":{\"pattern\":{\"fillmode\":\"overlay\",\"size\":10,\"solidity\":0.2}},\"type\":\"histogram\"}],\"scattergl\":[{\"type\":\"scattergl\",\"marker\":{\"colorbar\":{\"outlinewidth\":0,\"ticks\":\"\"}}}],\"scatter3d\":[{\"type\":\"scatter3d\",\"line\":{\"colorbar\":{\"outlinewidth\":0,\"ticks\":\"\"}},\"marker\":{\"colorbar\":{\"outlinewidth\":0,\"ticks\":\"\"}}}],\"scattermapbox\":[{\"type\":\"scattermapbox\",\"marker\":{\"colorbar\":{\"outlinewidth\":0,\"ticks\":\"\"}}}],\"scatterternary\":[{\"type\":\"scatterternary\",\"marker\":{\"colorbar\":{\"outlinewidth\":0,\"ticks\":\"\"}}}],\"scattercarpet\":[{\"type\":\"scattercarpet\",\"marker\":{\"colorbar\":{\"outlinewidth\":0,\"ticks\":\"\"}}}],\"carpet\":[{\"aaxis\":{\"endlinecolor\":\"#2a3f5f\",\"gridcolor\":\"white\",\"linecolor\":\"white\",\"minorgridcolor\":\"white\",\"startlinecolor\":\"#2a3f5f\"},\"baxis\":{\"endlinecolor\":\"#2a3f5f\",\"gridcolor\":\"white\",\"linecolor\":\"white\",\"minorgridcolor\":\"white\",\"startlinecolor\":\"#2a3f5f\"},\"type\":\"carpet\"}],\"table\":[{\"cells\":{\"fill\":{\"color\":\"#EBF0F8\"},\"line\":{\"color\":\"white\"}},\"header\":{\"fill\":{\"color\":\"#C8D4E3\"},\"line\":{\"color\":\"white\"}},\"type\":\"table\"}],\"barpolar\":[{\"marker\":{\"line\":{\"color\":\"#E5ECF6\",\"width\":0.5},\"pattern\":{\"fillmode\":\"overlay\",\"size\":10,\"solidity\":0.2}},\"type\":\"barpolar\"}],\"pie\":[{\"automargin\":true,\"type\":\"pie\"}]},\"layout\":{\"autotypenumbers\":\"strict\",\"colorway\":[\"#636efa\",\"#EF553B\",\"#00cc96\",\"#ab63fa\",\"#FFA15A\",\"#19d3f3\",\"#FF6692\",\"#B6E880\",\"#FF97FF\",\"#FECB52\"],\"font\":{\"color\":\"#2a3f5f\"},\"hovermode\":\"closest\",\"hoverlabel\":{\"align\":\"left\"},\"paper_bgcolor\":\"white\",\"plot_bgcolor\":\"#E5ECF6\",\"polar\":{\"bgcolor\":\"#E5ECF6\",\"angularaxis\":{\"gridcolor\":\"white\",\"linecolor\":\"white\",\"ticks\":\"\"},\"radialaxis\":{\"gridcolor\":\"white\",\"linecolor\":\"white\",\"ticks\":\"\"}},\"ternary\":{\"bgcolor\":\"#E5ECF6\",\"aaxis\":{\"gridcolor\":\"white\",\"linecolor\":\"white\",\"ticks\":\"\"},\"baxis\":{\"gridcolor\":\"white\",\"linecolor\":\"white\",\"ticks\":\"\"},\"caxis\":{\"gridcolor\":\"white\",\"linecolor\":\"white\",\"ticks\":\"\"}},\"coloraxis\":{\"colorbar\":{\"outlinewidth\":0,\"ticks\":\"\"}},\"colorscale\":{\"sequential\":[[0.0,\"#0d0887\"],[0.1111111111111111,\"#46039f\"],[0.2222222222222222,\"#7201a8\"],[0.3333333333333333,\"#9c179e\"],[0.4444444444444444,\"#bd3786\"],[0.5555555555555556,\"#d8576b\"],[0.6666666666666666,\"#ed7953\"],[0.7777777777777778,\"#fb9f3a\"],[0.8888888888888888,\"#fdca26\"],[1.0,\"#f0f921\"]],\"sequentialminus\":[[0.0,\"#0d0887\"],[0.1111111111111111,\"#46039f\"],[0.2222222222222222,\"#7201a8\"],[0.3333333333333333,\"#9c179e\"],[0.4444444444444444,\"#bd3786\"],[0.5555555555555556,\"#d8576b\"],[0.6666666666666666,\"#ed7953\"],[0.7777777777777778,\"#fb9f3a\"],[0.8888888888888888,\"#fdca26\"],[1.0,\"#f0f921\"]],\"diverging\":[[0,\"#8e0152\"],[0.1,\"#c51b7d\"],[0.2,\"#de77ae\"],[0.3,\"#f1b6da\"],[0.4,\"#fde0ef\"],[0.5,\"#f7f7f7\"],[0.6,\"#e6f5d0\"],[0.7,\"#b8e186\"],[0.8,\"#7fbc41\"],[0.9,\"#4d9221\"],[1,\"#276419\"]]},\"xaxis\":{\"gridcolor\":\"white\",\"linecolor\":\"white\",\"ticks\":\"\",\"title\":{\"standoff\":15},\"zerolinecolor\":\"white\",\"automargin\":true,\"zerolinewidth\":2},\"yaxis\":{\"gridcolor\":\"white\",\"linecolor\":\"white\",\"ticks\":\"\",\"title\":{\"standoff\":15},\"zerolinecolor\":\"white\",\"automargin\":true,\"zerolinewidth\":2},\"scene\":{\"xaxis\":{\"backgroundcolor\":\"#E5ECF6\",\"gridcolor\":\"white\",\"linecolor\":\"white\",\"showbackground\":true,\"ticks\":\"\",\"zerolinecolor\":\"white\",\"gridwidth\":2},\"yaxis\":{\"backgroundcolor\":\"#E5ECF6\",\"gridcolor\":\"white\",\"linecolor\":\"white\",\"showbackground\":true,\"ticks\":\"\",\"zerolinecolor\":\"white\",\"gridwidth\":2},\"zaxis\":{\"backgroundcolor\":\"#E5ECF6\",\"gridcolor\":\"white\",\"linecolor\":\"white\",\"showbackground\":true,\"ticks\":\"\",\"zerolinecolor\":\"white\",\"gridwidth\":2}},\"shapedefaults\":{\"line\":{\"color\":\"#2a3f5f\"}},\"annotationdefaults\":{\"arrowcolor\":\"#2a3f5f\",\"arrowhead\":0,\"arrowwidth\":1},\"geo\":{\"bgcolor\":\"white\",\"landcolor\":\"#E5ECF6\",\"subunitcolor\":\"white\",\"showland\":true,\"showlakes\":true,\"lakecolor\":\"white\"},\"title\":{\"x\":0.05},\"mapbox\":{\"style\":\"light\"}}},\"xaxis\":{\"anchor\":\"y\",\"domain\":[0.0,0.1183673469387755],\"title\":{\"text\":\"colsample_bytree\"}},\"yaxis\":{\"anchor\":\"x\",\"domain\":[0.0,1.0],\"title\":{\"text\":\"Objective Value\"}},\"xaxis2\":{\"anchor\":\"y2\",\"domain\":[0.14693877551020407,0.26530612244897955],\"title\":{\"text\":\"learning_rate\"}},\"yaxis2\":{\"anchor\":\"x2\",\"domain\":[0.0,1.0],\"matches\":\"y\",\"showticklabels\":false},\"xaxis3\":{\"anchor\":\"y3\",\"domain\":[0.29387755102040813,0.4122448979591836],\"title\":{\"text\":\"max_depth\"}},\"yaxis3\":{\"anchor\":\"x3\",\"domain\":[0.0,1.0],\"matches\":\"y\",\"showticklabels\":false},\"xaxis4\":{\"anchor\":\"y4\",\"domain\":[0.4408163265306122,0.5591836734693877],\"title\":{\"text\":\"n_estimators\"}},\"yaxis4\":{\"anchor\":\"x4\",\"domain\":[0.0,1.0],\"matches\":\"y\",\"showticklabels\":false},\"xaxis5\":{\"anchor\":\"y5\",\"domain\":[0.5877551020408163,0.7061224489795918],\"title\":{\"text\":\"reg_alpha\"}},\"yaxis5\":{\"anchor\":\"x5\",\"domain\":[0.0,1.0],\"matches\":\"y\",\"showticklabels\":false},\"xaxis6\":{\"anchor\":\"y6\",\"domain\":[0.7346938775510204,0.8530612244897959],\"title\":{\"text\":\"reg_lambda\"}},\"yaxis6\":{\"anchor\":\"x6\",\"domain\":[0.0,1.0],\"matches\":\"y\",\"showticklabels\":false},\"xaxis7\":{\"anchor\":\"y7\",\"domain\":[0.8816326530612244,0.9999999999999999],\"title\":{\"text\":\"subsample\"}},\"yaxis7\":{\"anchor\":\"x7\",\"domain\":[0.0,1.0],\"matches\":\"y\",\"showticklabels\":false},\"title\":{\"text\":\"Slice Plot\"},\"width\":2100},                        {\"responsive\": true}                    ).then(function(){\n",
              "                            \n",
              "var gd = document.getElementById('a2875d52-7b04-48a1-b7aa-2c83da49fb58');\n",
              "var x = new MutationObserver(function (mutations, observer) {{\n",
              "        var display = window.getComputedStyle(gd).display;\n",
              "        if (!display || display === 'none') {{\n",
              "            console.log([gd, 'removed!']);\n",
              "            Plotly.purge(gd);\n",
              "            observer.disconnect();\n",
              "        }}\n",
              "}});\n",
              "\n",
              "// Listen for the removal of the full notebook cells\n",
              "var notebookContainer = gd.closest('#notebook-container');\n",
              "if (notebookContainer) {{\n",
              "    x.observe(notebookContainer, {childList: true});\n",
              "}}\n",
              "\n",
              "// Listen for the clearing of the current output cell\n",
              "var outputEl = gd.closest('.output');\n",
              "if (outputEl) {{\n",
              "    x.observe(outputEl, {childList: true});\n",
              "}}\n",
              "\n",
              "                        })                };                            </script>        </div>\n",
              "</body>\n",
              "</html>"
            ]
          },
          "metadata": {}
        }
      ]
    },
    {
      "cell_type": "markdown",
      "source": [
        "## Prediction"
      ],
      "metadata": {
        "id": "VD2Q7wYoAZyF"
      },
      "id": "VD2Q7wYoAZyF"
    },
    {
      "cell_type": "code",
      "source": [
        "X.shape, test[X.columns].shape"
      ],
      "metadata": {
        "colab": {
          "base_uri": "https://localhost:8080/"
        },
        "id": "TBoM9_0AAVmt",
        "outputId": "af93be5a-694a-48ed-d12d-7e9515f1331d"
      },
      "id": "TBoM9_0AAVmt",
      "execution_count": null,
      "outputs": [
        {
          "output_type": "execute_result",
          "data": {
            "text/plain": [
              "((391939, 30), (220491, 30))"
            ]
          },
          "metadata": {},
          "execution_count": 40
        }
      ]
    },
    {
      "cell_type": "code",
      "source": [
        "#Clipping is performed beacuase there is a negative value.\n",
        "prediction = pipe.predict(test[X.columns]).clip(0,)\n",
        "\n",
        "sample_submission['CI_HOUR'] = prediction"
      ],
      "metadata": {
        "id": "3s1AUha0AbMq"
      },
      "id": "3s1AUha0AbMq",
      "execution_count": null,
      "outputs": []
    },
    {
      "cell_type": "code",
      "source": [
        "plt.hist(prediction)\n",
        "plt.show()"
      ],
      "metadata": {
        "colab": {
          "base_uri": "https://localhost:8080/",
          "height": 430
        },
        "id": "kDBUoIHYAdB0",
        "outputId": "9a62f4fb-0853-4e56-de73-6903f7fe6939"
      },
      "id": "kDBUoIHYAdB0",
      "execution_count": null,
      "outputs": [
        {
          "output_type": "display_data",
          "data": {
            "text/plain": [
              "<Figure size 640x480 with 1 Axes>"
            ],
            "image/png": "[encoded data removed]"
          },
          "metadata": {}
        }
      ]
    },
    {
      "cell_type": "code",
      "source": [
        "sample_submission.to_csv(\"./targetencoding.csv\", index=False)"
      ],
      "metadata": {
        "id": "LK6qUrE_Ae7x"
      },
      "id": "LK6qUrE_Ae7x",
      "execution_count": null,
      "outputs": []
    },
    {
      "cell_type": "code",
      "source": [],
      "metadata": {
        "id": "OUOguUAYAgcm"
      },
      "id": "OUOguUAYAgcm",
      "execution_count": null,
      "outputs": []
    }
  ],
  "metadata": {
    "kernelspec": {
      "display_name": "Python 3",
      "name": "python3"
    },
    "language_info": {
      "codemirror_mode": {
        "name": "ipython",
        "version": 3
      },
      "file_extension": ".py",
      "mimetype": "text/x-python",
      "name": "python",
      "nbconvert_exporter": "python",
      "pygments_lexer": "ipython3",
      "version": "3.8.10"
    },
    "colab": {
      "provenance": [],
      "include_colab_link": true
    }
  },
  "nbformat": 4,
  "nbformat_minor": 5
}