{
  "nbformat": 4,
  "nbformat_minor": 0,
  "metadata": {
    "colab": {
      "provenance": [],
      "authorship_tag": "ABX9TyOxUiEM7GUFnbwpEhgBcfA3",
      "include_colab_link": true
    },
    "kernelspec": {
      "name": "python3",
      "display_name": "Python 3"
    },
    "language_info": {
      "name": "python"
    }
  },
  "cells": [
    {
      "cell_type": "markdown",
      "metadata": {
        "id": "view-in-github",
        "colab_type": "text"
      },
      "source": [
        "<a href=\"https://colab.research.google.com/github/SorrowAddict/SK-FLY-AI/blob/main/ChatBot/240131_02_%EC%9E%84%EB%B2%A0%EB%94%A9.ipynb\" target=\"_parent\"><img src=\"https://colab.research.google.com/assets/colab-badge.svg\" alt=\"Open In Colab\"/></a>"
      ]
    },
    {
      "cell_type": "markdown",
      "source": [
        "# 임베딩\n",
        "\n",
        "### 필요 라이브러리 설치"
      ],
      "metadata": {
        "id": "r_Itdv-ohJm5"
      }
    },
    {
      "cell_type": "code",
      "execution_count": 1,
      "metadata": {
        "colab": {
          "base_uri": "https://localhost:8080/"
        },
        "id": "63dtFpu2g-0z",
        "outputId": "be25ab2b-d4b0-4e7f-c62d-5a8e96ef9ca0"
      },
      "outputs": [
        {
          "output_type": "stream",
          "name": "stdout",
          "text": [
            "Collecting konlpy\n",
            "  Downloading konlpy-0.6.0-py2.py3-none-any.whl (19.4 MB)\n",
            "\u001b[2K     \u001b[90m━━━━━━━━━━━━━━━━━━━━━━━━━━━━━━━━━━━━━━━━\u001b[0m \u001b[32m19.4/19.4 MB\u001b[0m \u001b[31m41.9 MB/s\u001b[0m eta \u001b[36m0:00:00\u001b[0m\n",
            "\u001b[?25hCollecting JPype1>=0.7.0 (from konlpy)\n",
            "  Downloading JPype1-1.5.0-cp310-cp310-manylinux_2_17_x86_64.manylinux2014_x86_64.whl (488 kB)\n",
            "\u001b[2K     \u001b[90m━━━━━━━━━━━━━━━━━━━━━━━━━━━━━━━━━━━━━━━━\u001b[0m \u001b[32m488.6/488.6 kB\u001b[0m \u001b[31m30.2 MB/s\u001b[0m eta \u001b[36m0:00:00\u001b[0m\n",
            "\u001b[?25hRequirement already satisfied: lxml>=4.1.0 in /usr/local/lib/python3.10/dist-packages (from konlpy) (4.9.4)\n",
            "Requirement already satisfied: numpy>=1.6 in /usr/local/lib/python3.10/dist-packages (from konlpy) (1.23.5)\n",
            "Requirement already satisfied: packaging in /usr/local/lib/python3.10/dist-packages (from JPype1>=0.7.0->konlpy) (23.2)\n",
            "Installing collected packages: JPype1, konlpy\n",
            "Successfully installed JPype1-1.5.0 konlpy-0.6.0\n"
          ]
        }
      ],
      "source": [
        "!pip install konlpy"
      ]
    },
    {
      "cell_type": "markdown",
      "source": [
        "## 원 핫 인코딩"
      ],
      "metadata": {
        "id": "1xg2x70KhEp1"
      }
    },
    {
      "cell_type": "code",
      "source": [
        "from konlpy.tag import Komoran\n",
        "import numpy as np\n",
        "\n",
        "komoran = Komoran()\n",
        "text = \"오늘 날씨는 구름이 많아요.\"\n",
        "\n",
        "# 명사만 추출\n",
        "nouns = komoran.nouns(text)\n",
        "print(nouns)\n",
        "\n",
        "# 단어 사전 구축 및 단어별 인덱스 부여\n",
        "dics = {}\n",
        "for word in nouns:\n",
        "    if word not in dics.keys():\n",
        "        dics[word] = len(dics)\n",
        "print(dics)\n",
        "\n",
        "# 원-핫 인코딩\n",
        "nb_classes = len(dics)\n",
        "targets = list(dics.values())\n",
        "one_hot_targets = np.eye(nb_classes)[targets]\n",
        "print(one_hot_targets)"
      ],
      "metadata": {
        "colab": {
          "base_uri": "https://localhost:8080/"
        },
        "id": "M8luIDlxhIV2",
        "outputId": "1adcf985-c08a-4982-af0c-15e342e5c8bc"
      },
      "execution_count": 2,
      "outputs": [
        {
          "output_type": "stream",
          "name": "stdout",
          "text": [
            "['오늘', '날씨', '구름']\n",
            "{'오늘': 0, '날씨': 1, '구름': 2}\n",
            "[[1. 0. 0.]\n",
            " [0. 1. 0.]\n",
            " [0. 0. 1.]]\n"
          ]
        }
      ]
    },
    {
      "cell_type": "code",
      "source": [
        "from gensim.models import Word2Vec\n",
        "from konlpy.tag import Komoran\n",
        "import time\n",
        "\n",
        "\n",
        "# 네이버 영화 리뷰 데이터 읽어옴\n",
        "def read_review_data(filename):\n",
        "    with open(filename, 'r') as f:\n",
        "        data = [line.split('\\t') for line in f.read().splitlines()]\n",
        "        data = data[1:] # header 제거\n",
        "    return data"
      ],
      "metadata": {
        "id": "-PET_foZhI6X"
      },
      "execution_count": 3,
      "outputs": []
    },
    {
      "cell_type": "code",
      "source": [
        "# 측정 시작\n",
        "start = time.time()\n",
        "\n",
        "# 리뷰 파일 읽어오기\n",
        "print('1) 말뭉치 데이터 읽기 시작')\n",
        "review_data = read_review_data('./ratings.txt')\n",
        "print(len(review_data)) # 리뷰 데이터 전체 개수\n",
        "print('1) 말뭉치 데이터 읽기 완료: ', time.time() - start)"
      ],
      "metadata": {
        "colab": {
          "base_uri": "https://localhost:8080/"
        },
        "id": "UjBWvTPRkVuH",
        "outputId": "3f694fab-2bf9-45ae-85bd-84a99bc745a4"
      },
      "execution_count": 6,
      "outputs": [
        {
          "output_type": "stream",
          "name": "stdout",
          "text": [
            "1) 말뭉치 데이터 읽기 시작\n",
            "200000\n",
            "1) 말뭉치 데이터 읽기 완료:  0.6028938293457031\n"
          ]
        }
      ]
    },
    {
      "cell_type": "code",
      "source": [
        "# 문장단위로 명사만 추출해 학습 입력 데이터로 만듬\n",
        "print('2) 형태소에서 명사만 추출 시작')\n",
        "komoran = Komoran()\n",
        "docs = [komoran.nouns(sentence[1]) for sentence in review_data]\n",
        "print('2) 형태소에서 명사만 추출 완료: ', time.time() - start)"
      ],
      "metadata": {
        "colab": {
          "base_uri": "https://localhost:8080/"
        },
        "id": "s4hHLn3tkjSi",
        "outputId": "af4cabae-1efe-42e1-9c2a-3e955460aef2"
      },
      "execution_count": 7,
      "outputs": [
        {
          "output_type": "stream",
          "name": "stdout",
          "text": [
            "2) 형태소에서 명사만 추출 시작\n",
            "2) 형태소에서 명사만 추출 완료:  167.12847542762756\n"
          ]
        }
      ]
    },
    {
      "cell_type": "code",
      "source": [
        "# word2vec 모델 학습\n",
        "print('3) word2vec 모델 학습 시작')\n",
        "model = Word2Vec(sentences=docs, vector_size=200, window=4, min_count=2, sg=1)\n",
        "print('3) word2vec 모델 학습 완료: ', time.time() - start)"
      ],
      "metadata": {
        "colab": {
          "base_uri": "https://localhost:8080/"
        },
        "id": "Bof2B4pFk5ta",
        "outputId": "e26ea842-36ca-4938-8f35-6e011245dcb8"
      },
      "execution_count": 8,
      "outputs": [
        {
          "output_type": "stream",
          "name": "stdout",
          "text": [
            "3) word2vec 모델 학습 시작\n",
            "3) word2vec 모델 학습 완료:  193.45237851142883\n"
          ]
        }
      ]
    },
    {
      "cell_type": "code",
      "source": [
        "# 모델 저장\n",
        "print('4) 학습된 모델 저장 시작')\n",
        "model.save('nvmc.model')\n",
        "print('4) 학습된 모델 저장 완료: ', time.time() - start)"
      ],
      "metadata": {
        "id": "bBsJzcUyqMAK"
      },
      "execution_count": null,
      "outputs": []
    },
    {
      "cell_type": "code",
      "source": [
        "# 학습된 말뭉치 개수, 코퍼스 내 전체 단어 개수\n",
        "print(\"corpus_count : \", model.corpus_count)\n",
        "print(\"corpus_total_words : \", model.corpus_total_words)"
      ],
      "metadata": {
        "colab": {
          "base_uri": "https://localhost:8080/"
        },
        "id": "Q5u-iYgFlRmj",
        "outputId": "734d2f4d-0d3b-48c5-9502-ad7615fe8306"
      },
      "execution_count": 9,
      "outputs": [
        {
          "output_type": "stream",
          "name": "stdout",
          "text": [
            "corpus_count :  200000\n",
            "corpus_total_words :  1076896\n"
          ]
        }
      ]
    },
    {
      "cell_type": "code",
      "source": [
        "from gensim.models import Word2Vec\n",
        "\n",
        "# 모델 로딩\n",
        "model = Word2Vec.load('nvmc.model')\n",
        "print(\"corpus_total_words : \", model.corpus_total_words)\n",
        "\n",
        "# '사랑'이란 단어로 생성한 단어 임베딩 벡터\n",
        "print('사랑 : ', model.wv['사랑'])\n",
        "\n",
        "# 단어 유사도 계산\n",
        "print(\"일요일 = 월요일\\t\", model.wv.similarity(w1='일요일', w2='월요일'))\n",
        "print(\"안성기 = 배우\\t\", model.wv.similarity(w1='안성기', w2='배우'))\n",
        "print(\"대기업 = 삼성\\t\", model.wv.similarity(w1='대기업', w2='삼성'))\n",
        "print(\"일요일 != 삼성\\t\", model.wv.similarity(w1='일요일', w2='삼성'))\n",
        "print(\"히어로 != 삼성\\t\", model.wv.similarity(w1='히어로', w2='삼성'))\n",
        "\n",
        "# 가장 유사한 단어 추출\n",
        "print(model.wv.most_similar(\"안성기\", topn=5))\n",
        "print(model.wv.most_similar(\"시리즈\", topn=5))"
      ],
      "metadata": {
        "colab": {
          "base_uri": "https://localhost:8080/"
        },
        "id": "Gu9XNeHZl2qh",
        "outputId": "09571eae-e2f2-4db2-97f0-102f7f374e90"
      },
      "execution_count": 10,
      "outputs": [
        {
          "output_type": "stream",
          "name": "stdout",
          "text": [
            "corpus_total_words :  1076896\n",
            "사랑 :  [ 8.75288919e-02  3.40068191e-01  4.73868474e-02  3.77492279e-01\n",
            " -8.32096636e-02  3.49241719e-02  3.29786278e-02 -2.30267435e-01\n",
            "  4.28695530e-02 -1.88279077e-01 -1.26993969e-01 -6.13640733e-02\n",
            "  7.61187971e-02 -4.54428111e-04  2.97921598e-01 -2.75350302e-01\n",
            "  1.38387773e-02  1.77264273e-01 -1.13952823e-01 -2.93140620e-01\n",
            "  1.81758478e-01  3.54924351e-02 -2.00587571e-01  1.06810391e-01\n",
            " -4.38253395e-02 -2.26804335e-03  2.44872004e-01 -3.01551163e-01\n",
            " -1.92054778e-01 -8.62731487e-02 -1.99527189e-01 -1.63892731e-01\n",
            "  1.33257985e-01 -1.76515244e-03  9.17413309e-02 -3.56211632e-01\n",
            " -3.27521414e-01 -1.00153841e-01 -3.81238222e-01  1.63100027e-02\n",
            " -1.85901105e-01 -2.80802518e-01  5.09365015e-02  4.00341868e-01\n",
            "  1.49068311e-01  1.15103155e-01 -7.69534782e-02 -2.73080319e-02\n",
            "  6.64441958e-02  3.09721362e-02 -9.23274606e-02 -1.89883232e-01\n",
            " -5.33280484e-02 -2.77279392e-02 -2.94274092e-01  4.53651231e-03\n",
            " -8.55516717e-02  4.52399403e-01  2.37562716e-01  1.20197125e-01\n",
            "  2.52999607e-02  2.50207096e-01 -3.44940692e-01  1.31947786e-01\n",
            "  3.45067650e-01  2.17293322e-01 -1.20200859e-02 -2.53703207e-01\n",
            " -2.74567634e-01 -1.70502812e-01 -2.79554678e-03 -1.05557099e-01\n",
            " -4.50077683e-01  1.36570916e-01  9.62289646e-02 -3.13904554e-01\n",
            "  7.95115456e-02  4.51246470e-01  4.33632098e-02  2.05939323e-01\n",
            "  1.18895359e-01  6.46479428e-01 -9.68211591e-02 -3.09937507e-01\n",
            "  3.76763433e-01  6.86129481e-02 -6.17367700e-02 -3.16108197e-01\n",
            "  1.09322906e-01  7.57193193e-02  2.16829777e-01  6.89578429e-02\n",
            " -7.65735090e-01 -1.43563166e-01 -4.34039347e-02  2.17053398e-01\n",
            "  3.87744531e-02  4.55194116e-02 -2.31311634e-01  1.58672482e-01\n",
            " -4.57630567e-02  9.68093798e-02  3.59677672e-01 -1.01522982e-01\n",
            " -3.96173328e-01  9.27172154e-02  4.59348597e-02  1.33384585e-01\n",
            " -1.04026452e-01 -2.12374255e-01 -2.19157964e-01  4.64597255e-01\n",
            " -8.76221955e-02 -1.24665640e-01 -1.10355280e-01 -3.55345279e-01\n",
            " -2.26755098e-01 -1.81499831e-02 -2.02755436e-01 -5.64890876e-02\n",
            " -1.97871134e-01  1.55910537e-01 -1.52249753e-01 -2.33770818e-01\n",
            " -1.42362326e-01 -5.10254622e-01  2.67921444e-02 -5.87874129e-02\n",
            " -1.68876365e-01 -3.13818514e-01 -1.67057618e-01 -4.20786917e-01\n",
            "  3.02618384e-01 -6.80762291e-01 -3.22171420e-01 -2.44614139e-01\n",
            " -3.22333872e-01  3.13966759e-02 -6.22780323e-02  2.35630393e-01\n",
            " -2.09273212e-02  3.26094367e-02 -2.14838743e-01  4.72340994e-02\n",
            " -4.02864963e-01  3.17769289e-01 -1.11473553e-01  6.80052578e-01\n",
            " -4.26282853e-01 -1.48030877e-01  2.51094192e-01  8.21902081e-02\n",
            "  2.55964100e-01 -2.61900842e-01  4.91395861e-01 -1.52583048e-01\n",
            "  1.83674291e-01  1.90417588e-01 -4.48300280e-02 -1.93254352e-01\n",
            " -1.53479174e-01 -6.24797679e-02  2.32187450e-01 -3.84586789e-02\n",
            "  4.12065744e-01 -2.30220005e-01  6.02868460e-02 -9.79429707e-02\n",
            "  2.05789402e-01  3.56407344e-01  2.28482649e-01 -9.90433022e-02\n",
            "  2.15323091e-01  4.61981744e-01  3.66052330e-01 -1.63051024e-01\n",
            " -1.94457948e-01 -1.77742541e-01 -3.88967812e-01  2.71498471e-01\n",
            " -5.75366542e-02 -4.26934302e-01  4.74092215e-01 -3.47864747e-01\n",
            " -2.79079415e-02 -1.02585759e-02  2.05911323e-01  1.57788873e-01\n",
            " -1.45666927e-01 -3.09376344e-02  6.93403482e-02 -2.17142358e-01\n",
            "  3.87646221e-02 -2.81296998e-01  2.93112159e-01 -3.05912316e-01\n",
            "  4.91117686e-01  2.06297293e-01  2.27278396e-01 -6.03011958e-02]\n",
            "일요일 = 월요일\t 0.9256964\n",
            "안성기 = 배우\t 0.72244245\n",
            "대기업 = 삼성\t 0.89177126\n",
            "일요일 != 삼성\t 0.6601738\n",
            "히어로 != 삼성\t 0.47805485\n",
            "[('박신양', 0.9522983431816101), ('지진희', 0.9485389590263367), ('최강희', 0.9440825581550598), ('한석규', 0.9428355097770691), ('김수로', 0.9412281513214111)]\n",
            "[('포터', 0.8344378471374512), ('엑스맨', 0.8230742812156677), ('다이하드', 0.8111078143119812), ('스타워즈', 0.8078265190124512), ('반지의 제왕', 0.8057442307472229)]\n"
          ]
        }
      ]
    },
    {
      "cell_type": "code",
      "source": [],
      "metadata": {
        "id": "OcMh6lWhrdG_"
      },
      "execution_count": null,
      "outputs": []
    }
  ]
}