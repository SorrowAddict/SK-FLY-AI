{
  "nbformat": 4,
  "nbformat_minor": 0,
  "metadata": {
    "colab": {
      "provenance": [],
      "gpuType": "T4",
      "authorship_tag": "ABX9TyO98/xctLlA2iY0gndK97xX",
      "include_colab_link": true
    },
    "kernelspec": {
      "name": "python3",
      "display_name": "Python 3"
    },
    "language_info": {
      "name": "python"
    },
    "accelerator": "GPU"
  },
  "cells": [
    {
      "cell_type": "markdown",
      "metadata": {
        "id": "view-in-github",
        "colab_type": "text"
      },
      "source": [
        "<a href=\"https://colab.research.google.com/github/SorrowAddict/SK-FLY-AI/blob/main/ChatBot/240201_%EC%8B%A4%EC%8A%B503_%EB%A7%90%EB%AD%89%EC%B9%98_CNN%EA%B0%90%EC%A0%95%EB%B6%84%EB%A5%98%EB%AA%A8%EB%8D%B8.ipynb\" target=\"_parent\"><img src=\"https://colab.research.google.com/assets/colab-badge.svg\" alt=\"Open In Colab\"/></a>"
      ]
    },
    {
      "cell_type": "markdown",
      "source": [
        "# 말뭉치 -> CNN 감정 분류 모델 실습"
      ],
      "metadata": {
        "id": "TD1FPyFzZ0FE"
      }
    },
    {
      "cell_type": "code",
      "source": [
        "# 필요한 모듈 임포트\n",
        "import pandas as pd\n",
        "import tensorflow as tf\n",
        "from tensorflow.keras import preprocessing\n",
        "from tensorflow.keras.models import Model\n",
        "from tensorflow.keras.layers import Input, Embedding, Dense, Dropout, Conv1D, GlobalMaxPool1D, concatenate"
      ],
      "metadata": {
        "id": "35jTnpAAfbx3"
      },
      "execution_count": null,
      "outputs": []
    },
    {
      "cell_type": "code",
      "source": [
        "import pandas as pd\n",
        "\n",
        "# JSON 파일 경로\n",
        "train_file = \"/content/data/1-1.여성의류(196).json\"\n",
        "\n",
        "# JSON 파일을 읽어옵니다.\n",
        "data = pd.read_json(train_file)\n",
        "\n",
        "# \"Aspects\" 열에서 \"SentimentText\"를 추출하여 리스트로 변환합니다.\n",
        "features = []\n",
        "for aspects in data['Aspects']:\n",
        "    for aspect in aspects:\n",
        "        features.append(aspect['SentimentText'])\n",
        "\n",
        "# \"Aspects\" 열에서 \"SentimentPolarity\"를 추출하여 리스트로 변환합니다.\n",
        "labels = []\n",
        "label_mapping = {-1: 2}\n",
        "for aspects in data['Aspects']:\n",
        "    for aspect in aspects:\n",
        "        original_label = int(aspect[\"SentimentPolarity\"])\n",
        "        modified_label = label_mapping.get(original_label, original_label)\n",
        "        labels.append(modified_label)\n"
      ],
      "metadata": {
        "id": "01nWQw13fdVd"
      },
      "execution_count": 26,
      "outputs": []
    },
    {
      "cell_type": "code",
      "source": [
        "# 단어 인덱스 시퀀스 벡터\n",
        "corpus = [preprocessing.text.text_to_word_sequence(text) for text in features]\n",
        "\n",
        "tokenizer = preprocessing.text.Tokenizer()\n",
        "tokenizer.fit_on_texts(corpus)\n",
        "sequences = tokenizer.texts_to_sequences(corpus)\n",
        "word_index = tokenizer.word_index\n",
        "MAX_SEQ_LEN = 15  # 단어 시퀀스 벡터 크기\n",
        "padded_seqs = preprocessing.sequence.pad_sequences(sequences, maxlen=MAX_SEQ_LEN, padding='post')"
      ],
      "metadata": {
        "id": "TyPkW2-fhBAm"
      },
      "execution_count": 27,
      "outputs": []
    },
    {
      "cell_type": "code",
      "source": [
        "# 학습용, 검증용, 테스트용 데이터셋 생성 ➌\n",
        "# 학습셋:검증셋:테스트셋 = 7:2:1\n",
        "ds = tf.data.Dataset.from_tensor_slices((padded_seqs, labels))\n",
        "ds = ds.shuffle(len(features))\n",
        "train_size = int(len(padded_seqs) * 0.7)\n",
        "val_size = int(len(padded_seqs) * 0.2)\n",
        "test_size = int(len(padded_seqs) * 0.1)\n",
        "train_ds = ds.take(train_size).batch(20)\n",
        "val_ds = ds.skip(train_size).take(val_size).batch(20)\n",
        "test_ds = ds.skip(train_size + val_size).take(test_size).batch(20)"
      ],
      "metadata": {
        "id": "dU46r7qZhBTr"
      },
      "execution_count": 28,
      "outputs": []
    },
    {
      "cell_type": "code",
      "source": [
        "# 하이퍼파라미터 설정\n",
        "dropout_prob = 0.5\n",
        "EMB_SIZE = 128\n",
        "EPOCH = 5\n",
        "VOCAB_SIZE = len(word_index) + 1  # 전체 단어 수"
      ],
      "metadata": {
        "id": "lseB4_cYm7N5"
      },
      "execution_count": 29,
      "outputs": []
    },
    {
      "cell_type": "code",
      "source": [
        "# CNN 모델 정의\n",
        "input_layer = Input(shape=(MAX_SEQ_LEN,))\n",
        "embedding_layer = Embedding(VOCAB_SIZE, EMB_SIZE, input_length=MAX_SEQ_LEN)(input_layer)\n",
        "dropout_emb = Dropout(rate=dropout_prob)(embedding_layer)\n",
        "\n",
        "conv1 = Conv1D(filters=128, kernel_size=3, padding='valid', activation=tf.nn.relu)(dropout_emb)\n",
        "pool1 = GlobalMaxPool1D()(conv1)\n",
        "conv2 = Conv1D(filters=128, kernel_size=4, padding='valid', activation=tf.nn.relu)(dropout_emb)\n",
        "pool2 = GlobalMaxPool1D()(conv2)\n",
        "conv3 = Conv1D(filters=128, kernel_size=5, padding='valid', activation=tf.nn.relu)(dropout_emb)\n",
        "pool3 = GlobalMaxPool1D()(conv3)\n",
        "\n",
        "# 3, 4, 5- gram 이후 합치기\n",
        "concat = concatenate([pool1, pool2, pool3])\n",
        "hidden = Dense(128, activation=tf.nn.relu)(concat)\n",
        "dropout_hidden = Dropout(rate=dropout_prob)(hidden)\n",
        "logits = Dense(3, name='logits')(dropout_hidden)\n",
        "predictions = Dense(3, activation=tf.nn.softmax)(logits)"
      ],
      "metadata": {
        "id": "30CZGYkRm8K2"
      },
      "execution_count": 30,
      "outputs": []
    },
    {
      "cell_type": "code",
      "source": [
        "# 모델 생성\n",
        "model = Model(inputs=input_layer, outputs=predictions)\n",
        "model.compile(optimizer='adam', loss='sparse_categorical_crossentropy', metrics=['accuracy'])"
      ],
      "metadata": {
        "id": "inHAgNAqm9Su"
      },
      "execution_count": 31,
      "outputs": []
    },
    {
      "cell_type": "code",
      "source": [
        "# 모델 학습\n",
        "model.fit(train_ds, validation_data=val_ds, epochs=EPOCH, verbose=1)"
      ],
      "metadata": {
        "colab": {
          "base_uri": "https://localhost:8080/"
        },
        "id": "AOiRBRV-m-WM",
        "outputId": "c9839d70-ca24-41da-8324-3b17f54515f1"
      },
      "execution_count": 32,
      "outputs": [
        {
          "output_type": "stream",
          "name": "stdout",
          "text": [
            "Epoch 1/5\n",
            "33/33 [==============================] - 9s 82ms/step - loss: 0.4900 - accuracy: 0.8768 - val_loss: 0.4758 - val_accuracy: 0.8743\n",
            "Epoch 2/5\n",
            "33/33 [==============================] - 1s 45ms/step - loss: 0.4539 - accuracy: 0.8799 - val_loss: 0.4626 - val_accuracy: 0.8689\n",
            "Epoch 3/5\n",
            "33/33 [==============================] - 1s 27ms/step - loss: 0.4077 - accuracy: 0.8846 - val_loss: 0.3894 - val_accuracy: 0.8689\n",
            "Epoch 4/5\n",
            "33/33 [==============================] - 1s 18ms/step - loss: 0.3692 - accuracy: 0.8799 - val_loss: 0.2693 - val_accuracy: 0.8852\n",
            "Epoch 5/5\n",
            "33/33 [==============================] - 0s 14ms/step - loss: 0.2524 - accuracy: 0.8783 - val_loss: 0.1993 - val_accuracy: 0.8907\n"
          ]
        },
        {
          "output_type": "execute_result",
          "data": {
            "text/plain": [
              "<keras.src.callbacks.History at 0x794bd7d66320>"
            ]
          },
          "metadata": {},
          "execution_count": 32
        }
      ]
    },
    {
      "cell_type": "code",
      "source": [
        "# 모델 평가(테스트 데이터셋 이용)\n",
        "loss, accuracy = model.evaluate(test_ds, verbose=1)\n",
        "print('Accuracy: %f' % (accuracy * 100))\n",
        "print('loss: %f' % (loss))"
      ],
      "metadata": {
        "id": "CqHpJdFGm_hL",
        "colab": {
          "base_uri": "https://localhost:8080/"
        },
        "outputId": "1dfa9379-4f15-4004-c619-fa83829471cf"
      },
      "execution_count": 33,
      "outputs": [
        {
          "output_type": "stream",
          "name": "stdout",
          "text": [
            "5/5 [==============================] - 0s 58ms/step - loss: 0.1126 - accuracy: 0.9451\n",
            "Accuracy: 94.505495\n",
            "loss: 0.112612\n"
          ]
        }
      ]
    },
    {
      "cell_type": "code",
      "source": [
        "# 모델 저장\n",
        "model.save('cnn_model.h5')"
      ],
      "metadata": {
        "colab": {
          "base_uri": "https://localhost:8080/"
        },
        "id": "QnbtunQkoGNW",
        "outputId": "6b2289bb-1b9d-4fd6-eea0-53bd34045d7c"
      },
      "execution_count": 34,
      "outputs": [
        {
          "output_type": "stream",
          "name": "stderr",
          "text": [
            "/usr/local/lib/python3.10/dist-packages/keras/src/engine/training.py:3103: UserWarning: You are saving your model as an HDF5 file via `model.save()`. This file format is considered legacy. We recommend using instead the native Keras format, e.g. `model.save('my_model.keras')`.\n",
            "  saving_api.save_model(\n"
          ]
        }
      ]
    },
    {
      "cell_type": "code",
      "source": [
        "import tensorflow as tf\n",
        "import pandas as pd\n",
        "from tensorflow.keras.models import Model, load_model\n",
        "from tensorflow.keras import preprocessing"
      ],
      "metadata": {
        "id": "OGjTh29joJKr"
      },
      "execution_count": 35,
      "outputs": []
    },
    {
      "cell_type": "code",
      "source": [
        "# 감정 분류 CNN 모델 불러오기\n",
        "model = load_model('cnn_model.h5')\n",
        "model.summary()\n",
        "model.evaluate(test_ds, verbose=2)"
      ],
      "metadata": {
        "colab": {
          "base_uri": "https://localhost:8080/"
        },
        "id": "EaiEEKpMoPoe",
        "outputId": "8032caab-f1ad-4cd4-fc34-f64efad19fa6"
      },
      "execution_count": 36,
      "outputs": [
        {
          "output_type": "stream",
          "name": "stdout",
          "text": [
            "Model: \"model_1\"\n",
            "__________________________________________________________________________________________________\n",
            " Layer (type)                Output Shape                 Param #   Connected to                  \n",
            "==================================================================================================\n",
            " input_2 (InputLayer)        [(None, 15)]                 0         []                            \n",
            "                                                                                                  \n",
            " embedding_1 (Embedding)     (None, 15, 128)              320640    ['input_2[0][0]']             \n",
            "                                                                                                  \n",
            " dropout_2 (Dropout)         (None, 15, 128)              0         ['embedding_1[0][0]']         \n",
            "                                                                                                  \n",
            " conv1d_3 (Conv1D)           (None, 13, 128)              49280     ['dropout_2[0][0]']           \n",
            "                                                                                                  \n",
            " conv1d_4 (Conv1D)           (None, 12, 128)              65664     ['dropout_2[0][0]']           \n",
            "                                                                                                  \n",
            " conv1d_5 (Conv1D)           (None, 11, 128)              82048     ['dropout_2[0][0]']           \n",
            "                                                                                                  \n",
            " global_max_pooling1d_3 (Gl  (None, 128)                  0         ['conv1d_3[0][0]']            \n",
            " obalMaxPooling1D)                                                                                \n",
            "                                                                                                  \n",
            " global_max_pooling1d_4 (Gl  (None, 128)                  0         ['conv1d_4[0][0]']            \n",
            " obalMaxPooling1D)                                                                                \n",
            "                                                                                                  \n",
            " global_max_pooling1d_5 (Gl  (None, 128)                  0         ['conv1d_5[0][0]']            \n",
            " obalMaxPooling1D)                                                                                \n",
            "                                                                                                  \n",
            " concatenate_1 (Concatenate  (None, 384)                  0         ['global_max_pooling1d_3[0][0]\n",
            " )                                                                  ',                            \n",
            "                                                                     'global_max_pooling1d_4[0][0]\n",
            "                                                                    ',                            \n",
            "                                                                     'global_max_pooling1d_5[0][0]\n",
            "                                                                    ']                            \n",
            "                                                                                                  \n",
            " dense_2 (Dense)             (None, 128)                  49280     ['concatenate_1[0][0]']       \n",
            "                                                                                                  \n",
            " dropout_3 (Dropout)         (None, 128)                  0         ['dense_2[0][0]']             \n",
            "                                                                                                  \n",
            " logits (Dense)              (None, 3)                    387       ['dropout_3[0][0]']           \n",
            "                                                                                                  \n",
            " dense_3 (Dense)             (None, 3)                    12        ['logits[0][0]']              \n",
            "                                                                                                  \n",
            "==================================================================================================\n",
            "Total params: 567311 (2.16 MB)\n",
            "Trainable params: 567311 (2.16 MB)\n",
            "Non-trainable params: 0 (0.00 Byte)\n",
            "__________________________________________________________________________________________________\n",
            "5/5 - 0s - loss: 0.1710 - accuracy: 0.8901 - 320ms/epoch - 64ms/step\n"
          ]
        },
        {
          "output_type": "execute_result",
          "data": {
            "text/plain": [
              "[0.17102578282356262, 0.8901098966598511]"
            ]
          },
          "metadata": {},
          "execution_count": 36
        }
      ]
    },
    {
      "cell_type": "code",
      "source": [
        "# 테스트용 데이터셋의 100번째 데이터 출력\n",
        "print(\"단어 시퀀스 : \", corpus[100])\n",
        "print(\"단어 인덱스 시퀀스 : \", padded_seqs[100])\n",
        "print(\"문장 분류(정답) : \", labels[100])"
      ],
      "metadata": {
        "colab": {
          "base_uri": "https://localhost:8080/"
        },
        "id": "ZIHaIKqtoR1o",
        "outputId": "cc868737-739d-4b77-bf4f-2680ad63bfe1"
      },
      "execution_count": 37,
      "outputs": [
        {
          "output_type": "stream",
          "name": "stdout",
          "text": [
            "단어 시퀀스 :  ['요즘날씨에도', '하나만', '입기', '딱좋겠어요']\n",
            "단어 인덱스 시퀀스 :  [961 962  32 963   0   0   0   0   0   0   0   0   0   0   0]\n",
            "문장 분류(정답) :  1\n"
          ]
        }
      ]
    },
    {
      "cell_type": "code",
      "source": [
        "# 테스트용 데이터셋의 100번째 데이터 감정 예측\n",
        "picks = [100]\n",
        "predict = model.predict(padded_seqs[picks])\n",
        "predict_class = tf.math.argmax(predict, axis=1)\n",
        "print(\"여성 의류 리뷰 예측 점수 : \", predict)\n",
        "print(\"여성 의류 리뷰 예측 클래스 : \", predict_class.numpy(), \"     중립:0, 긍정:1, 부정:2\")"
      ],
      "metadata": {
        "colab": {
          "base_uri": "https://localhost:8080/"
        },
        "id": "xGUeEttJoUlK",
        "outputId": "1a78641f-716d-4c62-fde2-b102eede929f"
      },
      "execution_count": 40,
      "outputs": [
        {
          "output_type": "stream",
          "name": "stdout",
          "text": [
            "1/1 [==============================] - 0s 20ms/step\n",
            "여성 의류 리뷰 예측 점수 :  [[0.04623234 0.859559   0.09420863]]\n",
            "여성 의류 리뷰 예측 클래스 :  [1]      중립:0, 긍정:1, 부정:2\n"
          ]
        }
      ]
    },
    {
      "cell_type": "code",
      "source": [],
      "metadata": {
        "id": "qUe7V8-MoZiT"
      },
      "execution_count": null,
      "outputs": []
    }
  ]
}