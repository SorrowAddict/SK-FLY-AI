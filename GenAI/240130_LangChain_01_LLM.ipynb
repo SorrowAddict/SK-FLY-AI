{
  "nbformat": 4,
  "nbformat_minor": 0,
  "metadata": {
    "colab": {
      "provenance": [],
      "mount_file_id": "1h4Ljp6tZFym7iMmXO9-EtfVfDH1M52xP",
      "authorship_tag": "ABX9TyPJXXs/PyY6VVAgRrvYKj6D",
      "include_colab_link": true
    },
    "kernelspec": {
      "name": "python3",
      "display_name": "Python 3"
    },
    "language_info": {
      "name": "python"
    }
  },
  "cells": [
    {
      "cell_type": "markdown",
      "metadata": {
        "id": "view-in-github",
        "colab_type": "text"
      },
      "source": [
        "<a href=\"https://colab.research.google.com/github/SorrowAddict/SK-FLY-AI/blob/main/240130_LangChain_01_LLM.ipynb\" target=\"_parent\"><img src=\"https://colab.research.google.com/assets/colab-badge.svg\" alt=\"Open In Colab\"/></a>"
      ]
    },
    {
      "cell_type": "code",
      "execution_count": null,
      "metadata": {
        "id": "bkJB5306w99F"
      },
      "outputs": [],
      "source": [
        "# !pip install openai\n",
        "# !pip install langchain"
      ]
    },
    {
      "cell_type": "code",
      "source": [
        "import os\n",
        "\n",
        "os.environ['OPENAI_API_KEY'] = '3a9d04966a3c43ca92de7be4b803d6f7'\n",
        "os.environ['AZURE_OPENAI_ENDPOINT'] = 'https://skyfly-001.openai.azure.com/'\n",
        "os.environ['OPENAI_API_TYPE'] = 'azure'\n",
        "os.environ['OPENAI_API_VERSION'] = '2023-05-15'"
      ],
      "metadata": {
        "id": "1n0VN959xLDC"
      },
      "execution_count": null,
      "outputs": []
    },
    {
      "cell_type": "code",
      "source": [
        "from langchain.llms import AzureOpenAI\n",
        "\n",
        "llm = AzureOpenAI(\n",
        "                  deployment_name='dev-davinci-002'\n",
        "      )\n",
        "\n",
        "llm.invoke('why python is the most popular language?')"
      ],
      "metadata": {
        "id": "vv-JhJli2TU8",
        "colab": {
          "base_uri": "https://localhost:8080/",
          "height": 181
        },
        "outputId": "eef605c4-2203-45cd-a9d6-49878cd88d9f"
      },
      "execution_count": null,
      "outputs": [
        {
          "output_type": "stream",
          "name": "stderr",
          "text": [
            "/usr/local/lib/python3.10/dist-packages/langchain_core/_api/deprecation.py:117: LangChainDeprecationWarning: The class `langchain_community.llms.openai.AzureOpenAI` was deprecated in langchain-community 0.0.10 and will be removed in 0.2.0. An updated version of the class exists in the langchain-openai package and should be used instead. To use it run `pip install -U langchain-openai` and import as `from langchain_openai import AzureOpenAI`.\n",
            "  warn_deprecated(\n"
          ]
        },
        {
          "output_type": "execute_result",
          "data": {
            "text/plain": [
              "' \\n- What does this road sign mean? (Germany; red circle and X on a blue background, with a right-pointing arrow.) \\n- What is the purpose of these \"steps\" in rivers? \\n- Is there a single word for when something becomes neglected or forgotten (e.g. a plant dies because the gardener forgets to water it)? \\n- When and why did the Enterprise get balls? \\n- Are there any laws preventing the copying of keys containing a DO NOT DUPLICATE stamp? \\n- A word that means emphatically undeniable statement \\n- Very high order derivative \\n- Inverse function of variance \\n- Does the definition of the fundamental group implicitly assume the Axiom of Choice? \\n- Is it better to label input fields, watermark them, or both? \\n- Statistical test for increasing incidence of a rare event \\n- Explain the Kile LaTeX editor feature that deletes my root file text \\n- How to understand \"cat > file_name << blah\" command? \\n- Can a generic lambda have no arguments? \\n- Why were mouse holes often represented in cartoons and movies like this? \\n- Why does `cat` seem to iterate over JSON arrays? \\n- How to interpret the page layout in LaTeX using layout package? \\n-'"
            ],
            "application/vnd.google.colaboratory.intrinsic+json": {
              "type": "string"
            }
          },
          "metadata": {},
          "execution_count": 3
        }
      ]
    },
    {
      "cell_type": "markdown",
      "source": [
        "언어 모델의 사이즈\n",
        "\n",
        "GPT4 > GPT 3.5 > Davinci > Babbage > Ada"
      ],
      "metadata": {
        "id": "rhi6Yn6P3rVR"
      }
    },
    {
      "cell_type": "code",
      "source": [
        "from langchain.chat_models import AzureChatOpenAI\n",
        "\n",
        "chatgpt = AzureChatOpenAI(deployment_name='dev-gpt-35-turbo')\n",
        "answer = chatgpt.invoke('Why Python is the most popular language?')\n",
        "print(answer.content)"
      ],
      "metadata": {
        "id": "64xhUich28k0",
        "colab": {
          "base_uri": "https://localhost:8080/"
        },
        "outputId": "8e56cc7a-7b55-47e2-bc11-21f489ac511a"
      },
      "execution_count": null,
      "outputs": [
        {
          "output_type": "stream",
          "name": "stderr",
          "text": [
            "/usr/local/lib/python3.10/dist-packages/langchain_core/_api/deprecation.py:117: LangChainDeprecationWarning: The class `langchain_community.chat_models.azure_openai.AzureChatOpenAI` was deprecated in langchain-community 0.0.10 and will be removed in 0.2.0. An updated version of the class exists in the langchain-openai package and should be used instead. To use it run `pip install -U langchain-openai` and import as `from langchain_openai import AzureChatOpenAI`.\n",
            "  warn_deprecated(\n"
          ]
        },
        {
          "output_type": "stream",
          "name": "stdout",
          "text": [
            "Python is considered the most popular programming language for several reasons:\n",
            "\n",
            "1. Simplicity and readability: Python has a simple and easy-to-understand syntax, making it ideal for beginners. Its code is highly readable and resembles the English language, which aids in better understanding and maintenance of code.\n",
            "\n",
            "2. Versatility: Python is a versatile language that can be used for a wide range of applications, including web development, data analysis, scientific computing, artificial intelligence, machine learning, automation, and more. It offers extensive libraries and frameworks tailored for different purposes, making it suitable for diverse projects.\n",
            "\n",
            "3. Large and active community: Python has a large and active community of developers who contribute to its growth and development. This vibrant community provides support, shares knowledge, and creates a vast ecosystem of libraries, frameworks, and tools, making it easier for developers to build applications and solve problems efficiently.\n",
            "\n",
            "4. Extensive libraries and frameworks: Python offers a rich set of libraries and frameworks that simplify complex tasks and boost productivity. Popular libraries like NumPy, pandas, and matplotlib facilitate data analysis and manipulation, while frameworks like Django and Flask simplify web development.\n",
            "\n",
            "5. Integration capabilities: Python seamlessly integrates with other languages like C, C++, and Java, allowing developers to leverage existing code and utilize the functionalities of other languages. This integration capability makes Python an attractive choice for both new and existing projects.\n",
            "\n",
            "6. Job opportunities and career growth: Python's popularity has led to an increase in demand for Python developers across various industries. The abundance of job opportunities and career growth potential make it an attractive language to learn and master.\n",
            "\n",
            "These factors contribute to Python's popularity, making it widely adopted and highly regarded among developers worldwide.\n"
          ]
        }
      ]
    },
    {
      "cell_type": "code",
      "source": [
        "chatgpt = AzureChatOpenAI(deployment_name='dev-gpt-35-turbo', temperature=1)\n",
        "answer = chatgpt.invoke('Why Python is the most popular language? answer the Korean')\n",
        "print(answer.content)"
      ],
      "metadata": {
        "id": "hdcE_Q3j6bZW",
        "colab": {
          "base_uri": "https://localhost:8080/"
        },
        "outputId": "e57a3517-bb63-43db-efaf-bb64d206a24e"
      },
      "execution_count": null,
      "outputs": [
        {
          "output_type": "stream",
          "name": "stdout",
          "text": [
            "파이썬은 인기 있는 언어인 이유는 여러 가지가 있습니다. \n",
            "\n",
            "첫째로, 파이썬은 배우기 쉽고 사용하기 간단한 언어입니다. 파이썬 문법은 간결하고 직관적이며, 다른 언어에 비해 상대적으로 적은 코드로 작성할 수 있습니다. 이로 인해 초보자부터 전문가까지 누구나 쉽게 파이썬을 배울 수 있습니다.\n",
            "\n",
            "둘째로, 파이썬은 다양한 분야에서 사용할 수 있는 범용 프로그래밍 언어입니다. 데이터 분석, 인공지능, 웹 개발, 자동화 등 다양한 목적에 사용되며, 대부분의 개발자들이 필요로 하는 요구사항에 맞추어 확장 가능한 라이브러리와 도구들을 제공합니다. 이러한 확장성과 다양성으로 인해 파이썬은 다양한 분야에서 사용되고 있습니다.\n",
            "\n",
            "셋째로, 파이썬은 커뮤니티와 생태계가 매우 활발하며, 다양한 개발자들이 열정적으로 지원하고 있습니다. 파이썬은 오픈 소스 언어로 개발되어 있어 누구나 언어의 개선 및 기능 추가에 기여할 수 있기 때문에 생태계가 끊임없이 발전하고 있습니다. 또한, 파이썬에는 사용자들을 위한 다양한 온라인 커뮤니티와 도움말, 튜토리얼, 문서 등이 제공되어 있어 개발자들이 쉽게 지원과 도움을 받을 수 있습니다.\n",
            "\n",
            "마지막으로, 파이썬은 크로스 플랫폼 언어로 여러 운영체제에서 동작할 수 있습니다. 이는 파이썬을 활용하여 다양한 환경에서 애플리케이션을 개발하고 실행할 수 있음을 의미합니다. 이러한 특징은 파이썬을 프로그래머들에게 매력적으로 만들어주고 있습니다.\n",
            "\n",
            "이러한 이유로 파이썬은 현재 가장 인기 있는 프로그래밍 언어 중 하나로 알려져 있습니다.\n"
          ]
        }
      ]
    },
    {
      "cell_type": "code",
      "source": [
        "from langchain.callbacks.streaming_stdout import StreamingStdOutCallbackHandler\n",
        "chatgpt = AzureChatOpenAI(deployment_name='dev-gpt-35-turbo',\n",
        "                          temperature=1,\n",
        "                          streaming=True,\n",
        "                          callbacks=[StreamingStdOutCallbackHandler()])\n",
        "\n",
        "answer = chatgpt.invoke('why python is the most popular language?')"
      ],
      "metadata": {
        "id": "R7PiZ-fZ-ymr",
        "colab": {
          "base_uri": "https://localhost:8080/"
        },
        "outputId": "5ee5a54c-f7ed-45b9-a48b-cc7f15ac1d1e"
      },
      "execution_count": null,
      "outputs": [
        {
          "output_type": "stream",
          "name": "stdout",
          "text": [
            "Python is one of the most popular programming languages for several reasons:\n",
            "\n",
            "1. Easy to Learn and Use: Python has a syntax that is straightforward and readable, making it accessible even to beginners. Its simplicity enables developers to write code more easily and efficiently, reducing development time.\n",
            "\n",
            "2. Versatility: Python is a highly versatile language that can be used for a wide variety of applications, such as web development, data analysis, machine learning, artificial intelligence, scientific computing, and automation. This versatility makes it popular across different industries and domains.\n",
            "\n",
            "3. Large Standard Library and Third-Party Packages: Python comes with a vast standard library, which provides ready-to-use modules for various tasks. Additionally, Python has a rich ecosystem of third-party packages and frameworks that extend its capabilities further. These packages make development faster and enable developers to leverage existing solutions.\n",
            "\n",
            "4. Strong Community Support: Python has a large and active community of developers who continuously contribute to its growth. This support network offers resources, documentation, libraries, and frameworks. The Python community also organizes conferences and events worldwide, fostering knowledge sharing and collaboration.\n",
            "\n",
            "5. Compatibility and Portability: Python is cross-platform compatible, meaning code written in Python can run on different operating systems with minor modifications. This portability makes it easier to develop and deploy applications across various platforms.\n",
            "\n",
            "6. Adoption in Major Organizations: Python is widely adopted by major organizations like Google, Facebook, Instagram, Dropbox, and Netflix. These high-profile success stories contribute to its popularity, driving more developers to learn and use Python.\n",
            "\n",
            "7. Data Science and Machine Learning Capabilities: Python provides various libraries and tools, such as NumPy, Pandas, Matplotlib, and Scikit-learn, that are essential for data analysis, manipulation, visualization, and machine learning. These capabilities have led to Python becoming the go-to language for data science and machine learning projects.\n",
            "\n",
            "Overall, the combination of simplicity, versatility, community support, and its application in various domains has contributed to Python's immense popularity."
          ]
        }
      ]
    },
    {
      "cell_type": "code",
      "source": [
        "from langchain.chat_models import AzureChatOpenAI\n",
        "from langchain.schema import SystemMessage, AIMessage, HumanMessage\n",
        "\n",
        "chatgpt = AzureChatOpenAI(deployment_name='dev-gpt-35-turbo', temperature=0)\n",
        "\n",
        "messages = [\n",
        "    SystemMessage(content='You are a helpful assistant that translates English to Korean'),\n",
        "    HumanMessage(content='I love langchain')\n",
        "]\n",
        "\n",
        "response = chatgpt(messages)\n",
        "response"
      ],
      "metadata": {
        "colab": {
          "base_uri": "https://localhost:8080/"
        },
        "id": "lOLdIZIGAt-l",
        "outputId": "fe4b4f4c-63df-4920-8ba6-1f861a361d4c"
      },
      "execution_count": null,
      "outputs": [
        {
          "output_type": "stream",
          "name": "stderr",
          "text": [
            "/usr/local/lib/python3.10/dist-packages/langchain_core/_api/deprecation.py:117: LangChainDeprecationWarning: The function `__call__` was deprecated in LangChain 0.1.7 and will be removed in 0.2.0. Use invoke instead.\n",
            "  warn_deprecated(\n"
          ]
        },
        {
          "output_type": "execute_result",
          "data": {
            "text/plain": [
              "AIMessage(content='저는 랭체인을 사랑합니다.')"
            ]
          },
          "metadata": {},
          "execution_count": 7
        }
      ]
    },
    {
      "cell_type": "code",
      "source": [
        "chatgpt = AzureChatOpenAI(deployment_name='dev-gpt-35-turbo',\n",
        "                          temperature=1,        # 돌릴때마다 새로운 결과를 나타나게 함\n",
        "                          streaming=True,       # 스트리밍 모드 사용함으로써 데이터를 받아오면서 출력할 수 있게\n",
        "                          callbacks=[StreamingStdOutCallbackHandler()])     # 모델이 출력을 생성할 때 호출되는 사용자 지정 로직을 추가할 수 있도록 해줌\n",
        "\n",
        "messages = [\n",
        "    SystemMessage(content='당신은 공부 계획을 세워주는 스터디 플래너 머신입니다. 사용자의 공부 주제를 입력받으면 이를 학습하기 위한 공부 계획을 세워 줍니다.'),\n",
        "    HumanMessage(content='Large Language Model에 대해서 공부하고 싶어요')\n",
        "]\n",
        "\n",
        "answer = chatgpt(messages)"
      ],
      "metadata": {
        "colab": {
          "base_uri": "https://localhost:8080/"
        },
        "id": "_mzu1o_FC-HO",
        "outputId": "890c14cf-2b6c-464d-9e32-3884ed92209d"
      },
      "execution_count": null,
      "outputs": [
        {
          "output_type": "stream",
          "name": "stdout",
          "text": [
            "좋습니다! Large Language Model에 대해 공부하기 위한 계획을 세워보겠습니다.\n",
            "\n",
            "1. 배경 이해하기:\n",
            "   - Large Language Model의 기본 개념과 작동 원리에 대해 학습하세요.\n",
            "   - 예시로 GPT-3, GPT-2 등의 대표적인 Large Language Model을 살펴보고, 그들이 어떻게 작동하는지 이해해보세요.\n",
            "   - Pre-training과 Fine-tuning 단계에 대한 이해도를 높이세요.\n",
            "\n",
            "2. 핵심 기술 탐구하기:\n",
            "   - Large Language Model에서 사용되는 언어 모델링 기법에 대해 학습하세요.\n",
            "   - BERT, GPT 등의 모델의 핵심 구조와 학습 방법을 이해하고 관련 논문을 찾아보세요.\n",
            "\n",
            "3. 응용 분야 탐구하기:\n",
            "   - Large Language Model이 적용되는 다양한 분야에 대해 알아보세요. (예: 자연어 이해, 기계 번역, 질의 응답 등)\n",
            "   - 실제로 적용되고 있는 사례를 찾아 공부해보세요. 어떤 한 분야에서 어떻게 사용되고 있는지 살펴봄으로써 Large Language Model의 실제 활용 사례를 이해할 수 있습니다.\n",
            "\n",
            "4. 실습해보기:\n",
            "   - 언어 모델 구현을 위한 딥러닝 프레임워크인 Tensorflow나 PyTorch를 활용하여 Large Language Model의 학습 예제 또는 튜토리얼을 따라해보세요.\n",
            "   - 실제로 모델을 학습하고, 텍스트 생성 등의 작업을 수행해보면서 Large Language Model의 활용 방법에 대해 더 심층적으로 이해할 수 있습니다.\n",
            "\n",
            "5. 관련 연구 및 트렌드 파악하기:\n",
            "   - 최신 연구 논문, 기술 블로그, 산업 동향 등을 참고하여 Large Language Model의 최신 트렌드와 연구 동향을 파악하세요.\n",
            "   - 관련 컨퍼런스 및 웨비나에 참석하여 업계 전문가들의 의견을 들어보세요.\n",
            "\n",
            "6. 프로젝트 수행하기:\n",
            "   - Large Language Model을 활용한 자신만의 프로젝트를 수행해보세요.\n",
            "   - 예를 들면, 특정 주제에 관한 문서나 데이터를 수집하여 Large Language Model에게 요약 요약을 시키는 등의 프로젝트를 해볼 수 있습니다.\n",
            "\n",
            "이와 같은 계획을 따라가면 Large Language Model에 대해 깊이 있는 지식을 습득할 수 있을 것입니다. 시작해 보세요!"
          ]
        }
      ]
    },
    {
      "cell_type": "code",
      "source": [],
      "metadata": {
        "id": "8O3cEjFGD-kR"
      },
      "execution_count": null,
      "outputs": []
    }
  ]
}
